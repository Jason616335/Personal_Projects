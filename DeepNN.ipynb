{
 "cells": [
  {
   "cell_type": "markdown",
   "metadata": {},
   "source": [
    "# <center><font size=6> HW2: Deep NN</font></center>\n",
    "<center><font size=3><i>By Jiye Lyu and Xiang Ou </i></font></center>  \n",
    "<center><font size=3><i>04/22/2021</i></font></center>\n",
    "\n",
    "---"
   ]
  },
  {
   "cell_type": "code",
   "execution_count": 1,
   "metadata": {},
   "outputs": [],
   "source": [
    "import numpy as np\n",
    "np.random.seed(123)\n",
    "import pandas as pd\n",
    "\n",
    "import keras\n",
    "from keras.datasets import mnist\n",
    "from keras. models import Sequential\n",
    "from keras.layers import Dense,Dropout\n",
    "from keras.optimizers import RMSprop\n",
    "\n",
    "import matplotlib.pyplot as plt\n",
    "plt.ion()"
   ]
  },
  {
   "cell_type": "code",
   "execution_count": 2,
   "metadata": {},
   "outputs": [
    {
     "data": {
      "text/html": [
       "<div>\n",
       "<style scoped>\n",
       "    .dataframe tbody tr th:only-of-type {\n",
       "        vertical-align: middle;\n",
       "    }\n",
       "\n",
       "    .dataframe tbody tr th {\n",
       "        vertical-align: top;\n",
       "    }\n",
       "\n",
       "    .dataframe thead th {\n",
       "        text-align: right;\n",
       "    }\n",
       "</style>\n",
       "<table border=\"1\" class=\"dataframe\">\n",
       "  <thead>\n",
       "    <tr style=\"text-align: right;\">\n",
       "      <th></th>\n",
       "      <th>ActIntAmusementParkVisit</th>\n",
       "      <th>ActIntZooVisit</th>\n",
       "      <th>ActIntWineLovers</th>\n",
       "      <th>ActIntDoityourselfers</th>\n",
       "      <th>ActIntHomeImproveSpenders</th>\n",
       "      <th>ActIntHuntingEnthusiasts</th>\n",
       "      <th>BuyerLuxuryStoreShop</th>\n",
       "      <th>LifestyleMedicalPolicy</th>\n",
       "      <th>ActIntDigitalMagNewspaper</th>\n",
       "      <th>ActIntAttendsEducationProg</th>\n",
       "      <th>...</th>\n",
       "      <th>MortgageLoanType</th>\n",
       "      <th>ESTCURRMTHLYMORTGPAYMTRNG</th>\n",
       "      <th>MosaicGlobalZip4</th>\n",
       "      <th>PresenceOfCreditCard</th>\n",
       "      <th>InterestInCrafts</th>\n",
       "      <th>InterestInGourmetCooking</th>\n",
       "      <th>ComputersPeripherals</th>\n",
       "      <th>HiTechOwner</th>\n",
       "      <th>InternetOnlineSubscriber</th>\n",
       "      <th>Flag</th>\n",
       "    </tr>\n",
       "  </thead>\n",
       "  <tbody>\n",
       "    <tr>\n",
       "      <th>0</th>\n",
       "      <td>26.0</td>\n",
       "      <td>68.0</td>\n",
       "      <td>65.0</td>\n",
       "      <td>37.0</td>\n",
       "      <td>53.0</td>\n",
       "      <td>41.0</td>\n",
       "      <td>40.0</td>\n",
       "      <td>69.0</td>\n",
       "      <td>78.0</td>\n",
       "      <td>67.0</td>\n",
       "      <td>...</td>\n",
       "      <td>NaN</td>\n",
       "      <td>0U</td>\n",
       "      <td>E</td>\n",
       "      <td>U</td>\n",
       "      <td>Y</td>\n",
       "      <td>Y</td>\n",
       "      <td>Y</td>\n",
       "      <td>Y</td>\n",
       "      <td>Y</td>\n",
       "      <td>0</td>\n",
       "    </tr>\n",
       "    <tr>\n",
       "      <th>1</th>\n",
       "      <td>47.0</td>\n",
       "      <td>46.0</td>\n",
       "      <td>2.0</td>\n",
       "      <td>31.0</td>\n",
       "      <td>9.0</td>\n",
       "      <td>68.0</td>\n",
       "      <td>5.0</td>\n",
       "      <td>14.0</td>\n",
       "      <td>48.0</td>\n",
       "      <td>10.0</td>\n",
       "      <td>...</td>\n",
       "      <td>C</td>\n",
       "      <td>1M</td>\n",
       "      <td>B</td>\n",
       "      <td>Y</td>\n",
       "      <td>U</td>\n",
       "      <td>U</td>\n",
       "      <td>Y</td>\n",
       "      <td>Y</td>\n",
       "      <td>Y</td>\n",
       "      <td>0</td>\n",
       "    </tr>\n",
       "    <tr>\n",
       "      <th>2</th>\n",
       "      <td>NaN</td>\n",
       "      <td>NaN</td>\n",
       "      <td>NaN</td>\n",
       "      <td>NaN</td>\n",
       "      <td>NaN</td>\n",
       "      <td>NaN</td>\n",
       "      <td>NaN</td>\n",
       "      <td>NaN</td>\n",
       "      <td>NaN</td>\n",
       "      <td>NaN</td>\n",
       "      <td>...</td>\n",
       "      <td>NaN</td>\n",
       "      <td>NaN</td>\n",
       "      <td>NaN</td>\n",
       "      <td>NaN</td>\n",
       "      <td>NaN</td>\n",
       "      <td>NaN</td>\n",
       "      <td>NaN</td>\n",
       "      <td>NaN</td>\n",
       "      <td>NaN</td>\n",
       "      <td>1</td>\n",
       "    </tr>\n",
       "    <tr>\n",
       "      <th>3</th>\n",
       "      <td>NaN</td>\n",
       "      <td>NaN</td>\n",
       "      <td>NaN</td>\n",
       "      <td>NaN</td>\n",
       "      <td>NaN</td>\n",
       "      <td>NaN</td>\n",
       "      <td>NaN</td>\n",
       "      <td>NaN</td>\n",
       "      <td>NaN</td>\n",
       "      <td>NaN</td>\n",
       "      <td>...</td>\n",
       "      <td>NaN</td>\n",
       "      <td>NaN</td>\n",
       "      <td>NaN</td>\n",
       "      <td>NaN</td>\n",
       "      <td>NaN</td>\n",
       "      <td>NaN</td>\n",
       "      <td>NaN</td>\n",
       "      <td>NaN</td>\n",
       "      <td>NaN</td>\n",
       "      <td>0</td>\n",
       "    </tr>\n",
       "    <tr>\n",
       "      <th>4</th>\n",
       "      <td>NaN</td>\n",
       "      <td>NaN</td>\n",
       "      <td>NaN</td>\n",
       "      <td>NaN</td>\n",
       "      <td>NaN</td>\n",
       "      <td>NaN</td>\n",
       "      <td>NaN</td>\n",
       "      <td>NaN</td>\n",
       "      <td>NaN</td>\n",
       "      <td>NaN</td>\n",
       "      <td>...</td>\n",
       "      <td>NaN</td>\n",
       "      <td>NaN</td>\n",
       "      <td>NaN</td>\n",
       "      <td>NaN</td>\n",
       "      <td>NaN</td>\n",
       "      <td>NaN</td>\n",
       "      <td>NaN</td>\n",
       "      <td>NaN</td>\n",
       "      <td>NaN</td>\n",
       "      <td>0</td>\n",
       "    </tr>\n",
       "  </tbody>\n",
       "</table>\n",
       "<p>5 rows × 389 columns</p>\n",
       "</div>"
      ],
      "text/plain": [
       "   ActIntAmusementParkVisit  ActIntZooVisit  ActIntWineLovers  \\\n",
       "0                      26.0            68.0              65.0   \n",
       "1                      47.0            46.0               2.0   \n",
       "2                       NaN             NaN               NaN   \n",
       "3                       NaN             NaN               NaN   \n",
       "4                       NaN             NaN               NaN   \n",
       "\n",
       "   ActIntDoityourselfers  ActIntHomeImproveSpenders  ActIntHuntingEnthusiasts  \\\n",
       "0                   37.0                       53.0                      41.0   \n",
       "1                   31.0                        9.0                      68.0   \n",
       "2                    NaN                        NaN                       NaN   \n",
       "3                    NaN                        NaN                       NaN   \n",
       "4                    NaN                        NaN                       NaN   \n",
       "\n",
       "   BuyerLuxuryStoreShop  LifestyleMedicalPolicy  ActIntDigitalMagNewspaper  \\\n",
       "0                  40.0                    69.0                       78.0   \n",
       "1                   5.0                    14.0                       48.0   \n",
       "2                   NaN                     NaN                        NaN   \n",
       "3                   NaN                     NaN                        NaN   \n",
       "4                   NaN                     NaN                        NaN   \n",
       "\n",
       "   ActIntAttendsEducationProg  ...  MortgageLoanType  \\\n",
       "0                        67.0  ...               NaN   \n",
       "1                        10.0  ...                 C   \n",
       "2                         NaN  ...               NaN   \n",
       "3                         NaN  ...               NaN   \n",
       "4                         NaN  ...               NaN   \n",
       "\n",
       "   ESTCURRMTHLYMORTGPAYMTRNG  MosaicGlobalZip4  PresenceOfCreditCard  \\\n",
       "0                         0U                 E                     U   \n",
       "1                         1M                 B                     Y   \n",
       "2                        NaN               NaN                   NaN   \n",
       "3                        NaN               NaN                   NaN   \n",
       "4                        NaN               NaN                   NaN   \n",
       "\n",
       "   InterestInCrafts  InterestInGourmetCooking  ComputersPeripherals  \\\n",
       "0                 Y                         Y                     Y   \n",
       "1                 U                         U                     Y   \n",
       "2               NaN                       NaN                   NaN   \n",
       "3               NaN                       NaN                   NaN   \n",
       "4               NaN                       NaN                   NaN   \n",
       "\n",
       "   HiTechOwner  InternetOnlineSubscriber  Flag  \n",
       "0            Y                         Y     0  \n",
       "1            Y                         Y     0  \n",
       "2          NaN                       NaN     1  \n",
       "3          NaN                       NaN     0  \n",
       "4          NaN                       NaN     0  \n",
       "\n",
       "[5 rows x 389 columns]"
      ]
     },
     "execution_count": 2,
     "metadata": {},
     "output_type": "execute_result"
    }
   ],
   "source": [
    "data = pd.read_csv('Data.csv', low_memory=False)\n",
    "data.head()"
   ]
  },
  {
   "cell_type": "markdown",
   "metadata": {},
   "source": [
    "## Preprocessing: Check/Fix Data Types"
   ]
  },
  {
   "cell_type": "code",
   "execution_count": 3,
   "metadata": {},
   "outputs": [],
   "source": [
    "data_index = np.where(data.dtypes == object)\n",
    "object_data = data[data.columns[data_index]]"
   ]
  },
  {
   "cell_type": "code",
   "execution_count": 4,
   "metadata": {},
   "outputs": [],
   "source": [
    "data_index2 = np.where(data.dtypes == np.float64)\n",
    "float_data = data[data.columns[data_index2]]\n",
    "float_data = float_data.astype(float)"
   ]
  },
  {
   "cell_type": "markdown",
   "metadata": {},
   "source": [
    "## Preprocessing: Missing Data"
   ]
  },
  {
   "cell_type": "code",
   "execution_count": 5,
   "metadata": {},
   "outputs": [],
   "source": [
    "new_data = pd.concat([float_data,object_data], axis = 1)"
   ]
  },
  {
   "cell_type": "code",
   "execution_count": 6,
   "metadata": {},
   "outputs": [
    {
     "data": {
      "text/plain": [
       "(39508, 376)"
      ]
     },
     "execution_count": 6,
     "metadata": {},
     "output_type": "execute_result"
    }
   ],
   "source": [
    "#keep variables that have less than 70% missing values\n",
    "perc = 70.0\n",
    "min_count = int(((100-perc)/100) * new_data.shape[0] + 1)\n",
    "new_data = new_data.dropna(axis = 1, thresh = min_count)\n",
    "new_data.shape"
   ]
  },
  {
   "cell_type": "code",
   "execution_count": 7,
   "metadata": {},
   "outputs": [
    {
     "data": {
      "text/html": [
       "<div>\n",
       "<style scoped>\n",
       "    .dataframe tbody tr th:only-of-type {\n",
       "        vertical-align: middle;\n",
       "    }\n",
       "\n",
       "    .dataframe tbody tr th {\n",
       "        vertical-align: top;\n",
       "    }\n",
       "\n",
       "    .dataframe thead th {\n",
       "        text-align: right;\n",
       "    }\n",
       "</style>\n",
       "<table border=\"1\" class=\"dataframe\">\n",
       "  <thead>\n",
       "    <tr style=\"text-align: right;\">\n",
       "      <th></th>\n",
       "      <th>ActIntAmusementParkVisit</th>\n",
       "      <th>ActIntZooVisit</th>\n",
       "      <th>ActIntWineLovers</th>\n",
       "      <th>ActIntDoityourselfers</th>\n",
       "      <th>ActIntHomeImproveSpenders</th>\n",
       "      <th>ActIntHuntingEnthusiasts</th>\n",
       "      <th>BuyerLuxuryStoreShop</th>\n",
       "      <th>LifestyleMedicalPolicy</th>\n",
       "      <th>ActIntDigitalMagNewspaper</th>\n",
       "      <th>ActIntAttendsEducationProg</th>\n",
       "      <th>...</th>\n",
       "      <th>TypeofPurchase</th>\n",
       "      <th>MortgageAmountRanges</th>\n",
       "      <th>ESTCURRMTHLYMORTGPAYMTRNG</th>\n",
       "      <th>MosaicGlobalZip4</th>\n",
       "      <th>PresenceOfCreditCard</th>\n",
       "      <th>InterestInCrafts</th>\n",
       "      <th>InterestInGourmetCooking</th>\n",
       "      <th>ComputersPeripherals</th>\n",
       "      <th>HiTechOwner</th>\n",
       "      <th>InternetOnlineSubscriber</th>\n",
       "    </tr>\n",
       "  </thead>\n",
       "  <tbody>\n",
       "    <tr>\n",
       "      <th>0</th>\n",
       "      <td>26.000000</td>\n",
       "      <td>68.000000</td>\n",
       "      <td>65.000000</td>\n",
       "      <td>37.000000</td>\n",
       "      <td>53.00000</td>\n",
       "      <td>41.000000</td>\n",
       "      <td>40.000000</td>\n",
       "      <td>69.000000</td>\n",
       "      <td>78.000000</td>\n",
       "      <td>67.000000</td>\n",
       "      <td>...</td>\n",
       "      <td>U</td>\n",
       "      <td>U</td>\n",
       "      <td>0U</td>\n",
       "      <td>E</td>\n",
       "      <td>U</td>\n",
       "      <td>Y</td>\n",
       "      <td>Y</td>\n",
       "      <td>Y</td>\n",
       "      <td>Y</td>\n",
       "      <td>Y</td>\n",
       "    </tr>\n",
       "    <tr>\n",
       "      <th>1</th>\n",
       "      <td>47.000000</td>\n",
       "      <td>46.000000</td>\n",
       "      <td>2.000000</td>\n",
       "      <td>31.000000</td>\n",
       "      <td>9.00000</td>\n",
       "      <td>68.000000</td>\n",
       "      <td>5.000000</td>\n",
       "      <td>14.000000</td>\n",
       "      <td>48.000000</td>\n",
       "      <td>10.000000</td>\n",
       "      <td>...</td>\n",
       "      <td>R</td>\n",
       "      <td>L</td>\n",
       "      <td>1M</td>\n",
       "      <td>B</td>\n",
       "      <td>Y</td>\n",
       "      <td>U</td>\n",
       "      <td>U</td>\n",
       "      <td>Y</td>\n",
       "      <td>Y</td>\n",
       "      <td>Y</td>\n",
       "    </tr>\n",
       "    <tr>\n",
       "      <th>2</th>\n",
       "      <td>41.231003</td>\n",
       "      <td>43.889184</td>\n",
       "      <td>66.429707</td>\n",
       "      <td>51.038764</td>\n",
       "      <td>60.26874</td>\n",
       "      <td>49.773918</td>\n",
       "      <td>42.507188</td>\n",
       "      <td>65.613084</td>\n",
       "      <td>43.929488</td>\n",
       "      <td>38.547193</td>\n",
       "      <td>...</td>\n",
       "      <td>NaN</td>\n",
       "      <td>NaN</td>\n",
       "      <td>NaN</td>\n",
       "      <td>NaN</td>\n",
       "      <td>NaN</td>\n",
       "      <td>NaN</td>\n",
       "      <td>NaN</td>\n",
       "      <td>NaN</td>\n",
       "      <td>NaN</td>\n",
       "      <td>NaN</td>\n",
       "    </tr>\n",
       "    <tr>\n",
       "      <th>3</th>\n",
       "      <td>41.231003</td>\n",
       "      <td>43.889184</td>\n",
       "      <td>66.429707</td>\n",
       "      <td>51.038764</td>\n",
       "      <td>60.26874</td>\n",
       "      <td>49.773918</td>\n",
       "      <td>42.507188</td>\n",
       "      <td>65.613084</td>\n",
       "      <td>43.929488</td>\n",
       "      <td>38.547193</td>\n",
       "      <td>...</td>\n",
       "      <td>NaN</td>\n",
       "      <td>NaN</td>\n",
       "      <td>NaN</td>\n",
       "      <td>NaN</td>\n",
       "      <td>NaN</td>\n",
       "      <td>NaN</td>\n",
       "      <td>NaN</td>\n",
       "      <td>NaN</td>\n",
       "      <td>NaN</td>\n",
       "      <td>NaN</td>\n",
       "    </tr>\n",
       "    <tr>\n",
       "      <th>4</th>\n",
       "      <td>41.231003</td>\n",
       "      <td>43.889184</td>\n",
       "      <td>66.429707</td>\n",
       "      <td>51.038764</td>\n",
       "      <td>60.26874</td>\n",
       "      <td>49.773918</td>\n",
       "      <td>42.507188</td>\n",
       "      <td>65.613084</td>\n",
       "      <td>43.929488</td>\n",
       "      <td>38.547193</td>\n",
       "      <td>...</td>\n",
       "      <td>NaN</td>\n",
       "      <td>NaN</td>\n",
       "      <td>NaN</td>\n",
       "      <td>NaN</td>\n",
       "      <td>NaN</td>\n",
       "      <td>NaN</td>\n",
       "      <td>NaN</td>\n",
       "      <td>NaN</td>\n",
       "      <td>NaN</td>\n",
       "      <td>NaN</td>\n",
       "    </tr>\n",
       "  </tbody>\n",
       "</table>\n",
       "<p>5 rows × 376 columns</p>\n",
       "</div>"
      ],
      "text/plain": [
       "   ActIntAmusementParkVisit  ActIntZooVisit  ActIntWineLovers  \\\n",
       "0                 26.000000       68.000000         65.000000   \n",
       "1                 47.000000       46.000000          2.000000   \n",
       "2                 41.231003       43.889184         66.429707   \n",
       "3                 41.231003       43.889184         66.429707   \n",
       "4                 41.231003       43.889184         66.429707   \n",
       "\n",
       "   ActIntDoityourselfers  ActIntHomeImproveSpenders  ActIntHuntingEnthusiasts  \\\n",
       "0              37.000000                   53.00000                 41.000000   \n",
       "1              31.000000                    9.00000                 68.000000   \n",
       "2              51.038764                   60.26874                 49.773918   \n",
       "3              51.038764                   60.26874                 49.773918   \n",
       "4              51.038764                   60.26874                 49.773918   \n",
       "\n",
       "   BuyerLuxuryStoreShop  LifestyleMedicalPolicy  ActIntDigitalMagNewspaper  \\\n",
       "0             40.000000               69.000000                  78.000000   \n",
       "1              5.000000               14.000000                  48.000000   \n",
       "2             42.507188               65.613084                  43.929488   \n",
       "3             42.507188               65.613084                  43.929488   \n",
       "4             42.507188               65.613084                  43.929488   \n",
       "\n",
       "   ActIntAttendsEducationProg  ...  TypeofPurchase  MortgageAmountRanges  \\\n",
       "0                   67.000000  ...               U                     U   \n",
       "1                   10.000000  ...               R                     L   \n",
       "2                   38.547193  ...             NaN                   NaN   \n",
       "3                   38.547193  ...             NaN                   NaN   \n",
       "4                   38.547193  ...             NaN                   NaN   \n",
       "\n",
       "   ESTCURRMTHLYMORTGPAYMTRNG  MosaicGlobalZip4  PresenceOfCreditCard  \\\n",
       "0                         0U                 E                     U   \n",
       "1                         1M                 B                     Y   \n",
       "2                        NaN               NaN                   NaN   \n",
       "3                        NaN               NaN                   NaN   \n",
       "4                        NaN               NaN                   NaN   \n",
       "\n",
       "   InterestInCrafts  InterestInGourmetCooking  ComputersPeripherals  \\\n",
       "0                 Y                         Y                     Y   \n",
       "1                 U                         U                     Y   \n",
       "2               NaN                       NaN                   NaN   \n",
       "3               NaN                       NaN                   NaN   \n",
       "4               NaN                       NaN                   NaN   \n",
       "\n",
       "   HiTechOwner  InternetOnlineSubscriber  \n",
       "0            Y                         Y  \n",
       "1            Y                         Y  \n",
       "2          NaN                       NaN  \n",
       "3          NaN                       NaN  \n",
       "4          NaN                       NaN  \n",
       "\n",
       "[5 rows x 376 columns]"
      ]
     },
     "execution_count": 7,
     "metadata": {},
     "output_type": "execute_result"
    }
   ],
   "source": [
    "new_data = new_data.fillna(data.mean())\n",
    "new_data.head()"
   ]
  },
  {
   "cell_type": "markdown",
   "metadata": {},
   "source": [
    "## Preprocessing: Dummify Categorical Variables"
   ]
  },
  {
   "cell_type": "code",
   "execution_count": 8,
   "metadata": {},
   "outputs": [],
   "source": [
    "new_new_data = pd.get_dummies(new_data)"
   ]
  },
  {
   "cell_type": "code",
   "execution_count": 9,
   "metadata": {},
   "outputs": [
    {
     "data": {
      "text/html": [
       "<div>\n",
       "<style scoped>\n",
       "    .dataframe tbody tr th:only-of-type {\n",
       "        vertical-align: middle;\n",
       "    }\n",
       "\n",
       "    .dataframe tbody tr th {\n",
       "        vertical-align: top;\n",
       "    }\n",
       "\n",
       "    .dataframe thead th {\n",
       "        text-align: right;\n",
       "    }\n",
       "</style>\n",
       "<table border=\"1\" class=\"dataframe\">\n",
       "  <thead>\n",
       "    <tr style=\"text-align: right;\">\n",
       "      <th></th>\n",
       "      <th>ActIntAmusementParkVisit</th>\n",
       "      <th>ActIntZooVisit</th>\n",
       "      <th>ActIntWineLovers</th>\n",
       "      <th>ActIntDoityourselfers</th>\n",
       "      <th>ActIntHomeImproveSpenders</th>\n",
       "      <th>ActIntHuntingEnthusiasts</th>\n",
       "      <th>BuyerLuxuryStoreShop</th>\n",
       "      <th>LifestyleMedicalPolicy</th>\n",
       "      <th>ActIntDigitalMagNewspaper</th>\n",
       "      <th>ActIntAttendsEducationProg</th>\n",
       "      <th>...</th>\n",
       "      <th>InterestInCrafts_U</th>\n",
       "      <th>InterestInCrafts_Y</th>\n",
       "      <th>InterestInGourmetCooking_U</th>\n",
       "      <th>InterestInGourmetCooking_Y</th>\n",
       "      <th>ComputersPeripherals_U</th>\n",
       "      <th>ComputersPeripherals_Y</th>\n",
       "      <th>HiTechOwner_U</th>\n",
       "      <th>HiTechOwner_Y</th>\n",
       "      <th>InternetOnlineSubscriber_U</th>\n",
       "      <th>InternetOnlineSubscriber_Y</th>\n",
       "    </tr>\n",
       "  </thead>\n",
       "  <tbody>\n",
       "    <tr>\n",
       "      <th>0</th>\n",
       "      <td>26.000000</td>\n",
       "      <td>68.000000</td>\n",
       "      <td>65.000000</td>\n",
       "      <td>37.000000</td>\n",
       "      <td>53.00000</td>\n",
       "      <td>41.000000</td>\n",
       "      <td>40.000000</td>\n",
       "      <td>69.000000</td>\n",
       "      <td>78.000000</td>\n",
       "      <td>67.000000</td>\n",
       "      <td>...</td>\n",
       "      <td>0</td>\n",
       "      <td>1</td>\n",
       "      <td>0</td>\n",
       "      <td>1</td>\n",
       "      <td>0</td>\n",
       "      <td>1</td>\n",
       "      <td>0</td>\n",
       "      <td>1</td>\n",
       "      <td>0</td>\n",
       "      <td>1</td>\n",
       "    </tr>\n",
       "    <tr>\n",
       "      <th>1</th>\n",
       "      <td>47.000000</td>\n",
       "      <td>46.000000</td>\n",
       "      <td>2.000000</td>\n",
       "      <td>31.000000</td>\n",
       "      <td>9.00000</td>\n",
       "      <td>68.000000</td>\n",
       "      <td>5.000000</td>\n",
       "      <td>14.000000</td>\n",
       "      <td>48.000000</td>\n",
       "      <td>10.000000</td>\n",
       "      <td>...</td>\n",
       "      <td>1</td>\n",
       "      <td>0</td>\n",
       "      <td>1</td>\n",
       "      <td>0</td>\n",
       "      <td>0</td>\n",
       "      <td>1</td>\n",
       "      <td>0</td>\n",
       "      <td>1</td>\n",
       "      <td>0</td>\n",
       "      <td>1</td>\n",
       "    </tr>\n",
       "    <tr>\n",
       "      <th>2</th>\n",
       "      <td>41.231003</td>\n",
       "      <td>43.889184</td>\n",
       "      <td>66.429707</td>\n",
       "      <td>51.038764</td>\n",
       "      <td>60.26874</td>\n",
       "      <td>49.773918</td>\n",
       "      <td>42.507188</td>\n",
       "      <td>65.613084</td>\n",
       "      <td>43.929488</td>\n",
       "      <td>38.547193</td>\n",
       "      <td>...</td>\n",
       "      <td>0</td>\n",
       "      <td>0</td>\n",
       "      <td>0</td>\n",
       "      <td>0</td>\n",
       "      <td>0</td>\n",
       "      <td>0</td>\n",
       "      <td>0</td>\n",
       "      <td>0</td>\n",
       "      <td>0</td>\n",
       "      <td>0</td>\n",
       "    </tr>\n",
       "    <tr>\n",
       "      <th>3</th>\n",
       "      <td>41.231003</td>\n",
       "      <td>43.889184</td>\n",
       "      <td>66.429707</td>\n",
       "      <td>51.038764</td>\n",
       "      <td>60.26874</td>\n",
       "      <td>49.773918</td>\n",
       "      <td>42.507188</td>\n",
       "      <td>65.613084</td>\n",
       "      <td>43.929488</td>\n",
       "      <td>38.547193</td>\n",
       "      <td>...</td>\n",
       "      <td>0</td>\n",
       "      <td>0</td>\n",
       "      <td>0</td>\n",
       "      <td>0</td>\n",
       "      <td>0</td>\n",
       "      <td>0</td>\n",
       "      <td>0</td>\n",
       "      <td>0</td>\n",
       "      <td>0</td>\n",
       "      <td>0</td>\n",
       "    </tr>\n",
       "    <tr>\n",
       "      <th>4</th>\n",
       "      <td>41.231003</td>\n",
       "      <td>43.889184</td>\n",
       "      <td>66.429707</td>\n",
       "      <td>51.038764</td>\n",
       "      <td>60.26874</td>\n",
       "      <td>49.773918</td>\n",
       "      <td>42.507188</td>\n",
       "      <td>65.613084</td>\n",
       "      <td>43.929488</td>\n",
       "      <td>38.547193</td>\n",
       "      <td>...</td>\n",
       "      <td>0</td>\n",
       "      <td>0</td>\n",
       "      <td>0</td>\n",
       "      <td>0</td>\n",
       "      <td>0</td>\n",
       "      <td>0</td>\n",
       "      <td>0</td>\n",
       "      <td>0</td>\n",
       "      <td>0</td>\n",
       "      <td>0</td>\n",
       "    </tr>\n",
       "  </tbody>\n",
       "</table>\n",
       "<p>5 rows × 875 columns</p>\n",
       "</div>"
      ],
      "text/plain": [
       "   ActIntAmusementParkVisit  ActIntZooVisit  ActIntWineLovers  \\\n",
       "0                 26.000000       68.000000         65.000000   \n",
       "1                 47.000000       46.000000          2.000000   \n",
       "2                 41.231003       43.889184         66.429707   \n",
       "3                 41.231003       43.889184         66.429707   \n",
       "4                 41.231003       43.889184         66.429707   \n",
       "\n",
       "   ActIntDoityourselfers  ActIntHomeImproveSpenders  ActIntHuntingEnthusiasts  \\\n",
       "0              37.000000                   53.00000                 41.000000   \n",
       "1              31.000000                    9.00000                 68.000000   \n",
       "2              51.038764                   60.26874                 49.773918   \n",
       "3              51.038764                   60.26874                 49.773918   \n",
       "4              51.038764                   60.26874                 49.773918   \n",
       "\n",
       "   BuyerLuxuryStoreShop  LifestyleMedicalPolicy  ActIntDigitalMagNewspaper  \\\n",
       "0             40.000000               69.000000                  78.000000   \n",
       "1              5.000000               14.000000                  48.000000   \n",
       "2             42.507188               65.613084                  43.929488   \n",
       "3             42.507188               65.613084                  43.929488   \n",
       "4             42.507188               65.613084                  43.929488   \n",
       "\n",
       "   ActIntAttendsEducationProg  ...  InterestInCrafts_U  InterestInCrafts_Y  \\\n",
       "0                   67.000000  ...                   0                   1   \n",
       "1                   10.000000  ...                   1                   0   \n",
       "2                   38.547193  ...                   0                   0   \n",
       "3                   38.547193  ...                   0                   0   \n",
       "4                   38.547193  ...                   0                   0   \n",
       "\n",
       "   InterestInGourmetCooking_U  InterestInGourmetCooking_Y  \\\n",
       "0                           0                           1   \n",
       "1                           1                           0   \n",
       "2                           0                           0   \n",
       "3                           0                           0   \n",
       "4                           0                           0   \n",
       "\n",
       "   ComputersPeripherals_U  ComputersPeripherals_Y  HiTechOwner_U  \\\n",
       "0                       0                       1              0   \n",
       "1                       0                       1              0   \n",
       "2                       0                       0              0   \n",
       "3                       0                       0              0   \n",
       "4                       0                       0              0   \n",
       "\n",
       "   HiTechOwner_Y  InternetOnlineSubscriber_U  InternetOnlineSubscriber_Y  \n",
       "0              1                           0                           1  \n",
       "1              1                           0                           1  \n",
       "2              0                           0                           0  \n",
       "3              0                           0                           0  \n",
       "4              0                           0                           0  \n",
       "\n",
       "[5 rows x 875 columns]"
      ]
     },
     "execution_count": 9,
     "metadata": {},
     "output_type": "execute_result"
    }
   ],
   "source": [
    "new_new_data.head()"
   ]
  },
  {
   "cell_type": "markdown",
   "metadata": {},
   "source": [
    "## Preprocessing: Normalization"
   ]
  },
  {
   "cell_type": "code",
   "execution_count": 10,
   "metadata": {},
   "outputs": [],
   "source": [
    "def normalization(data):\n",
    "    return (data - np.min(data)) / (np.max(data) - np.min(data))"
   ]
  },
  {
   "cell_type": "code",
   "execution_count": 11,
   "metadata": {},
   "outputs": [
    {
     "data": {
      "text/html": [
       "<div>\n",
       "<style scoped>\n",
       "    .dataframe tbody tr th:only-of-type {\n",
       "        vertical-align: middle;\n",
       "    }\n",
       "\n",
       "    .dataframe tbody tr th {\n",
       "        vertical-align: top;\n",
       "    }\n",
       "\n",
       "    .dataframe thead th {\n",
       "        text-align: right;\n",
       "    }\n",
       "</style>\n",
       "<table border=\"1\" class=\"dataframe\">\n",
       "  <thead>\n",
       "    <tr style=\"text-align: right;\">\n",
       "      <th></th>\n",
       "      <th>ActIntAmusementParkVisit</th>\n",
       "      <th>ActIntZooVisit</th>\n",
       "      <th>ActIntWineLovers</th>\n",
       "      <th>ActIntDoityourselfers</th>\n",
       "      <th>ActIntHomeImproveSpenders</th>\n",
       "      <th>ActIntHuntingEnthusiasts</th>\n",
       "      <th>BuyerLuxuryStoreShop</th>\n",
       "      <th>LifestyleMedicalPolicy</th>\n",
       "      <th>ActIntDigitalMagNewspaper</th>\n",
       "      <th>ActIntAttendsEducationProg</th>\n",
       "      <th>...</th>\n",
       "      <th>InterestInCrafts_U</th>\n",
       "      <th>InterestInCrafts_Y</th>\n",
       "      <th>InterestInGourmetCooking_U</th>\n",
       "      <th>InterestInGourmetCooking_Y</th>\n",
       "      <th>ComputersPeripherals_U</th>\n",
       "      <th>ComputersPeripherals_Y</th>\n",
       "      <th>HiTechOwner_U</th>\n",
       "      <th>HiTechOwner_Y</th>\n",
       "      <th>InternetOnlineSubscriber_U</th>\n",
       "      <th>InternetOnlineSubscriber_Y</th>\n",
       "    </tr>\n",
       "  </thead>\n",
       "  <tbody>\n",
       "    <tr>\n",
       "      <th>0</th>\n",
       "      <td>0.255102</td>\n",
       "      <td>0.683673</td>\n",
       "      <td>0.653061</td>\n",
       "      <td>0.367347</td>\n",
       "      <td>0.530612</td>\n",
       "      <td>0.408163</td>\n",
       "      <td>0.397959</td>\n",
       "      <td>0.693878</td>\n",
       "      <td>0.785714</td>\n",
       "      <td>0.673469</td>\n",
       "      <td>...</td>\n",
       "      <td>0.0</td>\n",
       "      <td>1.0</td>\n",
       "      <td>0.0</td>\n",
       "      <td>1.0</td>\n",
       "      <td>0.0</td>\n",
       "      <td>1.0</td>\n",
       "      <td>0.0</td>\n",
       "      <td>1.0</td>\n",
       "      <td>0.0</td>\n",
       "      <td>1.0</td>\n",
       "    </tr>\n",
       "    <tr>\n",
       "      <th>1</th>\n",
       "      <td>0.469388</td>\n",
       "      <td>0.459184</td>\n",
       "      <td>0.010204</td>\n",
       "      <td>0.306122</td>\n",
       "      <td>0.081633</td>\n",
       "      <td>0.683673</td>\n",
       "      <td>0.040816</td>\n",
       "      <td>0.132653</td>\n",
       "      <td>0.479592</td>\n",
       "      <td>0.091837</td>\n",
       "      <td>...</td>\n",
       "      <td>1.0</td>\n",
       "      <td>0.0</td>\n",
       "      <td>1.0</td>\n",
       "      <td>0.0</td>\n",
       "      <td>0.0</td>\n",
       "      <td>1.0</td>\n",
       "      <td>0.0</td>\n",
       "      <td>1.0</td>\n",
       "      <td>0.0</td>\n",
       "      <td>1.0</td>\n",
       "    </tr>\n",
       "    <tr>\n",
       "      <th>2</th>\n",
       "      <td>0.410520</td>\n",
       "      <td>0.437645</td>\n",
       "      <td>0.667650</td>\n",
       "      <td>0.510600</td>\n",
       "      <td>0.604783</td>\n",
       "      <td>0.497693</td>\n",
       "      <td>0.423543</td>\n",
       "      <td>0.659317</td>\n",
       "      <td>0.438056</td>\n",
       "      <td>0.383135</td>\n",
       "      <td>...</td>\n",
       "      <td>0.0</td>\n",
       "      <td>0.0</td>\n",
       "      <td>0.0</td>\n",
       "      <td>0.0</td>\n",
       "      <td>0.0</td>\n",
       "      <td>0.0</td>\n",
       "      <td>0.0</td>\n",
       "      <td>0.0</td>\n",
       "      <td>0.0</td>\n",
       "      <td>0.0</td>\n",
       "    </tr>\n",
       "    <tr>\n",
       "      <th>3</th>\n",
       "      <td>0.410520</td>\n",
       "      <td>0.437645</td>\n",
       "      <td>0.667650</td>\n",
       "      <td>0.510600</td>\n",
       "      <td>0.604783</td>\n",
       "      <td>0.497693</td>\n",
       "      <td>0.423543</td>\n",
       "      <td>0.659317</td>\n",
       "      <td>0.438056</td>\n",
       "      <td>0.383135</td>\n",
       "      <td>...</td>\n",
       "      <td>0.0</td>\n",
       "      <td>0.0</td>\n",
       "      <td>0.0</td>\n",
       "      <td>0.0</td>\n",
       "      <td>0.0</td>\n",
       "      <td>0.0</td>\n",
       "      <td>0.0</td>\n",
       "      <td>0.0</td>\n",
       "      <td>0.0</td>\n",
       "      <td>0.0</td>\n",
       "    </tr>\n",
       "    <tr>\n",
       "      <th>4</th>\n",
       "      <td>0.410520</td>\n",
       "      <td>0.437645</td>\n",
       "      <td>0.667650</td>\n",
       "      <td>0.510600</td>\n",
       "      <td>0.604783</td>\n",
       "      <td>0.497693</td>\n",
       "      <td>0.423543</td>\n",
       "      <td>0.659317</td>\n",
       "      <td>0.438056</td>\n",
       "      <td>0.383135</td>\n",
       "      <td>...</td>\n",
       "      <td>0.0</td>\n",
       "      <td>0.0</td>\n",
       "      <td>0.0</td>\n",
       "      <td>0.0</td>\n",
       "      <td>0.0</td>\n",
       "      <td>0.0</td>\n",
       "      <td>0.0</td>\n",
       "      <td>0.0</td>\n",
       "      <td>0.0</td>\n",
       "      <td>0.0</td>\n",
       "    </tr>\n",
       "  </tbody>\n",
       "</table>\n",
       "<p>5 rows × 875 columns</p>\n",
       "</div>"
      ],
      "text/plain": [
       "   ActIntAmusementParkVisit  ActIntZooVisit  ActIntWineLovers  \\\n",
       "0                  0.255102        0.683673          0.653061   \n",
       "1                  0.469388        0.459184          0.010204   \n",
       "2                  0.410520        0.437645          0.667650   \n",
       "3                  0.410520        0.437645          0.667650   \n",
       "4                  0.410520        0.437645          0.667650   \n",
       "\n",
       "   ActIntDoityourselfers  ActIntHomeImproveSpenders  ActIntHuntingEnthusiasts  \\\n",
       "0               0.367347                   0.530612                  0.408163   \n",
       "1               0.306122                   0.081633                  0.683673   \n",
       "2               0.510600                   0.604783                  0.497693   \n",
       "3               0.510600                   0.604783                  0.497693   \n",
       "4               0.510600                   0.604783                  0.497693   \n",
       "\n",
       "   BuyerLuxuryStoreShop  LifestyleMedicalPolicy  ActIntDigitalMagNewspaper  \\\n",
       "0              0.397959                0.693878                   0.785714   \n",
       "1              0.040816                0.132653                   0.479592   \n",
       "2              0.423543                0.659317                   0.438056   \n",
       "3              0.423543                0.659317                   0.438056   \n",
       "4              0.423543                0.659317                   0.438056   \n",
       "\n",
       "   ActIntAttendsEducationProg  ...  InterestInCrafts_U  InterestInCrafts_Y  \\\n",
       "0                    0.673469  ...                 0.0                 1.0   \n",
       "1                    0.091837  ...                 1.0                 0.0   \n",
       "2                    0.383135  ...                 0.0                 0.0   \n",
       "3                    0.383135  ...                 0.0                 0.0   \n",
       "4                    0.383135  ...                 0.0                 0.0   \n",
       "\n",
       "   InterestInGourmetCooking_U  InterestInGourmetCooking_Y  \\\n",
       "0                         0.0                         1.0   \n",
       "1                         1.0                         0.0   \n",
       "2                         0.0                         0.0   \n",
       "3                         0.0                         0.0   \n",
       "4                         0.0                         0.0   \n",
       "\n",
       "   ComputersPeripherals_U  ComputersPeripherals_Y  HiTechOwner_U  \\\n",
       "0                     0.0                     1.0            0.0   \n",
       "1                     0.0                     1.0            0.0   \n",
       "2                     0.0                     0.0            0.0   \n",
       "3                     0.0                     0.0            0.0   \n",
       "4                     0.0                     0.0            0.0   \n",
       "\n",
       "   HiTechOwner_Y  InternetOnlineSubscriber_U  InternetOnlineSubscriber_Y  \n",
       "0            1.0                         0.0                         1.0  \n",
       "1            1.0                         0.0                         1.0  \n",
       "2            0.0                         0.0                         0.0  \n",
       "3            0.0                         0.0                         0.0  \n",
       "4            0.0                         0.0                         0.0  \n",
       "\n",
       "[5 rows x 875 columns]"
      ]
     },
     "execution_count": 11,
     "metadata": {},
     "output_type": "execute_result"
    }
   ],
   "source": [
    "Norm_new_data = normalization(new_new_data)\n",
    "Norm_new_data.head()"
   ]
  },
  {
   "cell_type": "markdown",
   "metadata": {},
   "source": [
    "## Train/Test/Validation Split"
   ]
  },
  {
   "cell_type": "code",
   "execution_count": 12,
   "metadata": {},
   "outputs": [],
   "source": [
    "from sklearn.model_selection import train_test_split\n",
    "\n",
    "X_train, X_test, Y_train, Y_test = train_test_split(Norm_new_data, data.Flag, test_size = 0.3, random_state = 0)"
   ]
  },
  {
   "cell_type": "markdown",
   "metadata": {},
   "source": [
    "## Feature Selection: Lasso, Random Forest, Statistical Tests (t-test, ANOVA, Chi-Squared, etc.)"
   ]
  },
  {
   "cell_type": "markdown",
   "metadata": {},
   "source": [
    "We tried many different ways to select features. Finally we choose logistic regression."
   ]
  },
  {
   "cell_type": "markdown",
   "metadata": {},
   "source": [
    "##### Lasso"
   ]
  },
  {
   "cell_type": "code",
   "execution_count": 13,
   "metadata": {},
   "outputs": [
    {
     "data": {
      "text/plain": [
       "SelectFromModel(estimator=LogisticRegression(C=0.1, penalty='l1',\n",
       "                                             solver='liblinear'))"
      ]
     },
     "execution_count": 13,
     "metadata": {},
     "output_type": "execute_result"
    }
   ],
   "source": [
    "from sklearn.feature_selection import SelectFromModel\n",
    "from sklearn.linear_model import  LogisticRegression\n",
    "\n",
    "sel = SelectFromModel(LogisticRegression(C = 0.1, penalty = 'l1', solver = 'liblinear'))\n",
    "sel.fit(X_train, Y_train)"
   ]
  },
  {
   "cell_type": "code",
   "execution_count": 14,
   "metadata": {},
   "outputs": [],
   "source": [
    "selected = X_train.columns[(sel.get_support())]"
   ]
  },
  {
   "cell_type": "code",
   "execution_count": 15,
   "metadata": {},
   "outputs": [
    {
     "name": "stdout",
     "output_type": "stream",
     "text": [
      "total features: 875\n",
      "selected features: 140\n",
      "features with coefficients shrank to zero: 735\n"
     ]
    }
   ],
   "source": [
    "print('total features: {}'.format((X_train.shape[1])))\n",
    "print('selected features: {}'.format(len(selected)))\n",
    "print('features with coefficients shrank to zero: {}'.format(np.sum(sel.estimator_.coef_ == 0)))"
   ]
  },
  {
   "cell_type": "markdown",
   "metadata": {},
   "source": [
    "##### Regression"
   ]
  },
  {
   "cell_type": "raw",
   "metadata": {},
   "source": [
    "from sklearn.datasets import make_regression\n",
    "from sklearn.feature_selection import SelectKBest\n",
    "from sklearn.feature_selection import f_regression\n",
    "\n",
    "fs = SelectKBest(score_func = f_regression, k = 20)\n",
    "X_selected = fs.fit_transform(X_train, Y_train)\n",
    "X_new = X_selected"
   ]
  },
  {
   "cell_type": "markdown",
   "metadata": {},
   "source": [
    "##### ANOVA"
   ]
  },
  {
   "cell_type": "raw",
   "metadata": {},
   "source": [
    "# from sklearn.datasets import make_classification\n",
    "from sklearn.feature_selection import SelectKBest\n",
    "from sklearn.feature_selection import f_classif\n",
    "\n",
    "fs = SelectKBest(score_func=f_classif, k = 20)\n",
    "# apply feature selection\n",
    "X_selected = fs.fit_transform(x_train, y_train)\n",
    "\n",
    "print(X_selected.shape)\n",
    "# X_selected[:,i].shape\n",
    "# index=x_train.columns[X_selected]\n",
    "# X_selected=pd.DataFrame(X_selected)\n",
    "X_selected\n",
    "X_selected.shape[1]"
   ]
  },
  {
   "cell_type": "markdown",
   "metadata": {},
   "source": [
    "##### CHI square"
   ]
  },
  {
   "cell_type": "raw",
   "metadata": {},
   "source": [
    "#from sklearn.datasets import load_iris\n",
    "from sklearn.feature_selection import SelectKBest\n",
    "from sklearn.feature_selection import chi2\n",
    "#iris = load_iris()\n",
    "X, y = X_train, Y_train\n",
    "X_new = SelectKBest(chi2, k = 20).fit_transform(X, y)\n",
    "X_new.shape"
   ]
  },
  {
   "cell_type": "markdown",
   "metadata": {},
   "source": [
    "## Model Implementation"
   ]
  },
  {
   "cell_type": "code",
   "execution_count": 16,
   "metadata": {},
   "outputs": [],
   "source": [
    "X_train = X_train[selected]\n",
    "X_test = X_test[selected]"
   ]
  },
  {
   "cell_type": "code",
   "execution_count": 17,
   "metadata": {},
   "outputs": [],
   "source": [
    "X_train = X_train.astype('float32')\n",
    "X_test = X_test.astype('float32')"
   ]
  },
  {
   "cell_type": "code",
   "execution_count": 18,
   "metadata": {},
   "outputs": [
    {
     "name": "stdout",
     "output_type": "stream",
     "text": [
      "Dimension of the training target is: (27655,)\n",
      "Dimension of the test target is: (11853,)\n"
     ]
    }
   ],
   "source": [
    "#Y_train = keras.utils.to_categorical(Y_train,2)\n",
    "#Y_test = keras.utils.to_categorical(Y_test,2)\n",
    "print('Dimension of the training target is:',Y_train.shape)\n",
    "print('Dimension of the test target is:',Y_test.shape)"
   ]
  },
  {
   "cell_type": "code",
   "execution_count": 19,
   "metadata": {},
   "outputs": [
    {
     "data": {
      "text/plain": [
       "19.468309859154928"
      ]
     },
     "execution_count": 19,
     "metadata": {},
     "output_type": "execute_result"
    }
   ],
   "source": [
    "h_number = ((X_train.shape[0]/10)-1)/(len(selected)+2)\n",
    "h_number"
   ]
  },
  {
   "cell_type": "code",
   "execution_count": 20,
   "metadata": {},
   "outputs": [],
   "source": [
    "model = Sequential()\n",
    "model.add(Dense(10,activation = 'relu',input_dim = len(selected)))\n",
    "model.add(Dropout(0.2))\n",
    "model.add(Dense(10,activation = 'relu'))\n",
    "model.add(Dropout(0.2))\n",
    "model.add(Dense(1,activation = 'sigmoid'))"
   ]
  },
  {
   "cell_type": "code",
   "execution_count": 21,
   "metadata": {},
   "outputs": [
    {
     "name": "stdout",
     "output_type": "stream",
     "text": [
      "Model: \"sequential\"\n",
      "_________________________________________________________________\n",
      "Layer (type)                 Output Shape              Param #   \n",
      "=================================================================\n",
      "dense (Dense)                (None, 10)                1410      \n",
      "_________________________________________________________________\n",
      "dropout (Dropout)            (None, 10)                0         \n",
      "_________________________________________________________________\n",
      "dense_1 (Dense)              (None, 10)                110       \n",
      "_________________________________________________________________\n",
      "dropout_1 (Dropout)          (None, 10)                0         \n",
      "_________________________________________________________________\n",
      "dense_2 (Dense)              (None, 1)                 11        \n",
      "=================================================================\n",
      "Total params: 1,531\n",
      "Trainable params: 1,531\n",
      "Non-trainable params: 0\n",
      "_________________________________________________________________\n"
     ]
    }
   ],
   "source": [
    "model.summary()"
   ]
  },
  {
   "cell_type": "code",
   "execution_count": 22,
   "metadata": {},
   "outputs": [],
   "source": [
    "model.compile(loss = 'binary_crossentropy',optimizer = 'RMSprop',metrics = ['accuracy'])\n",
    "#binary_crossentropy\n",
    "#categorical_crossentropy"
   ]
  },
  {
   "cell_type": "code",
   "execution_count": 23,
   "metadata": {},
   "outputs": [
    {
     "name": "stdout",
     "output_type": "stream",
     "text": [
      "Epoch 1/5\n",
      "181/181 [==============================] - 0s 1ms/step - loss: 0.3538 - accuracy: 0.8963 - val_loss: 0.3108 - val_accuracy: 0.8996\n",
      "Epoch 2/5\n",
      "181/181 [==============================] - 0s 645us/step - loss: 0.3325 - accuracy: 0.8963 - val_loss: 0.3063 - val_accuracy: 0.8996\n",
      "Epoch 3/5\n",
      "181/181 [==============================] - 0s 694us/step - loss: 0.3263 - accuracy: 0.8963 - val_loss: 0.3027 - val_accuracy: 0.8996\n",
      "Epoch 4/5\n",
      "181/181 [==============================] - 0s 634us/step - loss: 0.3218 - accuracy: 0.8963 - val_loss: 0.3023 - val_accuracy: 0.8996\n",
      "Epoch 5/5\n",
      "181/181 [==============================] - 0s 623us/step - loss: 0.3191 - accuracy: 0.8963 - val_loss: 0.3012 - val_accuracy: 0.8996\n"
     ]
    },
    {
     "data": {
      "text/plain": [
       "<tensorflow.python.keras.callbacks.History at 0x131076d7730>"
      ]
     },
     "execution_count": 23,
     "metadata": {},
     "output_type": "execute_result"
    }
   ],
   "source": [
    "model.fit(X_train, Y_train, batch_size = 128, epochs = 5, validation_split = 1/ 6 ,verbose = 1)"
   ]
  },
  {
   "cell_type": "markdown",
   "metadata": {},
   "source": [
    "## Model Evaluation"
   ]
  },
  {
   "cell_type": "code",
   "execution_count": 24,
   "metadata": {},
   "outputs": [],
   "source": [
    "from sklearn.metrics import roc_curve, auc, confusion_matrix\n",
    "import sklearn.metrics as metrics\n",
    "import matplotlib.pyplot as plt"
   ]
  },
  {
   "cell_type": "code",
   "execution_count": 25,
   "metadata": {},
   "outputs": [
    {
     "name": "stdout",
     "output_type": "stream",
     "text": [
      "  1/371 [..............................] - ETA: 0s - loss: 0.4255 - accuracy: 0.8438WARNING:tensorflow:Callbacks method `on_test_batch_end` is slow compared to the batch time (batch time: 0.0000s vs `on_test_batch_end` time: 0.0010s). Check your callbacks.\n",
      "371/371 [==============================] - 0s 340us/step - loss: 0.3141 - accuracy: 0.8947\n",
      "\n",
      "Model accuracy on test set is 0.8947101831436157\n"
     ]
    }
   ],
   "source": [
    "score = model.evaluate(X_test, Y_test)\n",
    "print('\\nModel',model.metrics_names[1],'on test set is',score[1])"
   ]
  },
  {
   "cell_type": "code",
   "execution_count": 26,
   "metadata": {},
   "outputs": [
    {
     "data": {
      "text/plain": [
       "array([[0.16374317],\n",
       "       [0.17703703],\n",
       "       [0.2588263 ],\n",
       "       ...,\n",
       "       [0.02148893],\n",
       "       [0.01224047],\n",
       "       [0.04658183]], dtype=float32)"
      ]
     },
     "execution_count": 26,
     "metadata": {},
     "output_type": "execute_result"
    }
   ],
   "source": [
    "y_predict = model.predict(X_test)\n",
    "y_predict"
   ]
  },
  {
   "cell_type": "markdown",
   "metadata": {},
   "source": [
    "### ROC Curve"
   ]
  },
  {
   "cell_type": "code",
   "execution_count": 27,
   "metadata": {},
   "outputs": [],
   "source": [
    "fpr, tpr, threshold = metrics.roc_curve(Y_test,y_predict)\n",
    "roc_auc = metrics.auc(fpr,tpr)"
   ]
  },
  {
   "cell_type": "code",
   "execution_count": 28,
   "metadata": {},
   "outputs": [
    {
     "data": {
      "image/png": "[encoded data removed]",
      "text/plain": [
       "<Figure size 432x288 with 1 Axes>"
      ]
     },
     "metadata": {
      "needs_background": "light"
     },
     "output_type": "display_data"
    }
   ],
   "source": [
    "plt.plot(fpr, tpr, 'b', label = \"Accuracy = %0.2f\"% roc_auc)\n",
    "plt.legend(loc = 'lower right')\n",
    "plt.plot([0,1],[0,1],'r--')\n",
    "plt.xlim([0,1])\n",
    "plt.ylim([0,1])\n",
    "plt.title('ROC')\n",
    "plt.ylabel('True Positive Rate')\n",
    "plt.xlabel('False Positive Rate')\n",
    "plt.show()"
   ]
  },
  {
   "cell_type": "markdown",
   "metadata": {},
   "source": [
    "# Report"
   ]
  },
  {
   "cell_type": "markdown",
   "metadata": {},
   "source": [
    "## a) Overall Discovery Process"
   ]
  },
  {
   "cell_type": "markdown",
   "metadata": {},
   "source": [
    "The \"Overall Discovery Process\" is above."
   ]
  },
  {
   "cell_type": "markdown",
   "metadata": {},
   "source": [
    "## b) List of variables used in the model"
   ]
  },
  {
   "cell_type": "code",
   "execution_count": 29,
   "metadata": {},
   "outputs": [
    {
     "data": {
      "text/plain": [
       "Index(['ActIntAmusementParkVisit', 'ActIntWineLovers',\n",
       "       'LifestyleMedicalPolicy', 'ActIntAttendsEducationProg',\n",
       "       'ActIntPoliticalTVLibComedy', 'ActIntPoliticalTVConservati',\n",
       "       'ActIntCulturalArts', 'ActIntCasinoGambling',\n",
       "       'StyleHighFreqCruiseEnthus', 'StyleFrequentFlyerPrgMbr',\n",
       "       ...\n",
       "       'MortgageAmountRanges_G', 'MortgageAmountRanges_K',\n",
       "       'ESTCURRMTHLYMORTGPAYMTRNG_1F', 'MosaicGlobalZip4_C',\n",
       "       'MosaicGlobalZip4_F', 'MosaicGlobalZip4_G', 'InterestInCrafts_U',\n",
       "       'InterestInCrafts_Y', 'InterestInGourmetCooking_U',\n",
       "       'InterestInGourmetCooking_Y'],\n",
       "      dtype='object', length=140)"
      ]
     },
     "execution_count": 29,
     "metadata": {},
     "output_type": "execute_result"
    }
   ],
   "source": [
    "selected"
   ]
  },
  {
   "cell_type": "markdown",
   "metadata": {},
   "source": [
    "## c) Detailed analysis on model performance (e.g. ROC curves, confusion matrix, etc.)"
   ]
  },
  {
   "cell_type": "markdown",
   "metadata": {},
   "source": [
    "### ROC"
   ]
  },
  {
   "cell_type": "code",
   "execution_count": 30,
   "metadata": {},
   "outputs": [
    {
     "data": {
      "image/png": "[encoded data removed]",
      "text/plain": [
       "<Figure size 432x288 with 1 Axes>"
      ]
     },
     "metadata": {
      "needs_background": "light"
     },
     "output_type": "display_data"
    }
   ],
   "source": [
    "plt.plot(fpr, tpr, 'b', label=\"Accuracy = %0.2f\"% roc_auc)\n",
    "plt.legend(loc='lower right')\n",
    "plt.plot([0,1],[0,1],'r--')\n",
    "plt.xlim([0,1])\n",
    "plt.ylim([0,1])\n",
    "plt.ylabel('True Positive Rate')\n",
    "plt.xlabel('False Positive Rate')\n",
    "plt.show()"
   ]
  },
  {
   "cell_type": "markdown",
   "metadata": {},
   "source": [
    "## d) Limited Factors/issues encounted and assumptions made\n"
   ]
  },
  {
   "cell_type": "markdown",
   "metadata": {},
   "source": [
    "1. We decided to drop the columns that have more than 70% missing values. And we also use get_dummies to avoid NAN in categorical columns.\n",
    "\n",
    "2. After trying different models like ANOVA, CHI-square and linear regression, we decided to use the Lasso Regression method to do the feature selection because it can show suggested columns directly ranther than set k (how many columns we want).\n",
    "\n",
    "3. We adjusted the design for the networking, the model accuracy still keep at 89%. We have same answers with different models and we also try different numbers(Dense) of neurons in a reasonable limit. We even add layers but the result is still unchanged."
   ]
  }
 ],
 "metadata": {
  "kernelspec": {
   "display_name": "Python 3",
   "language": "python",
   "name": "python3"
  },
  "language_info": {
   "codemirror_mode": {
    "name": "ipython",
    "version": 3
   },
   "file_extension": ".py",
   "mimetype": "text/x-python",
   "name": "python",
   "nbconvert_exporter": "python",
   "pygments_lexer": "ipython3",
   "version": "3.8.5"
  },
  "toc": {
   "base_numbering": 1,
   "nav_menu": {},
   "number_sections": true,
   "sideBar": true,
   "skip_h1_title": false,
   "title_cell": "Table of Contents",
   "title_sidebar": "Contents",
   "toc_cell": false,
   "toc_position": {},
   "toc_section_display": true,
   "toc_window_display": false
  }
 },
 "nbformat": 4,
 "nbformat_minor": 4
}
