{
 "cells": [
  {
   "cell_type": "markdown",
   "metadata": {},
   "source": [
    "# <center><font size=6> HW1: Perceptron and Shallow Network</font></center>\n",
    "<center><font size=3><i>By Jiye Lyu and Binghao Li</i></font></center>  \n",
    "<center><font size=3><i>04/10/2021</i></font></center>\n",
    "\n",
    "---"
   ]
  },
  {
   "cell_type": "markdown",
   "metadata": {},
   "source": [
    "# Problem 1 (20 points)\n",
    "\n",
    "An online rental video company is interested in creating a model to make movie recommendations to one of its customers, Ms. X. As a consultant to this company, you are provided with the history of the movies that she accepted or rejected to watch. She makes her selections solely based on the movie’s level of violence and critic ratings. The data is in movieData.csv on Canvas.  \n"
   ]
  },
  {
   "cell_type": "code",
   "execution_count": 1,
   "metadata": {},
   "outputs": [],
   "source": [
    "import pandas as pd\n",
    "import numpy as np"
   ]
  },
  {
   "cell_type": "code",
   "execution_count": 2,
   "metadata": {},
   "outputs": [],
   "source": [
    "data = pd.read_csv(\"movieData.csv\")"
   ]
  },
  {
   "cell_type": "markdown",
   "metadata": {},
   "source": [
    "## Train a perceptron that will create a linear boundary decision that will help the company to make future recommendations to Ms. X. After how many iterations does the algorithm converge?"
   ]
  },
  {
   "cell_type": "code",
   "execution_count": 3,
   "metadata": {},
   "outputs": [],
   "source": [
    "X = data.iloc[:,0:2]"
   ]
  },
  {
   "cell_type": "code",
   "execution_count": 4,
   "metadata": {},
   "outputs": [],
   "source": [
    "constant_w0 = np.repeat(np.arange(1,2),len(X))"
   ]
  },
  {
   "cell_type": "code",
   "execution_count": 5,
   "metadata": {},
   "outputs": [],
   "source": [
    "X = pd.concat([pd.Series(constant_w0, index=X.index, name='Constant'), X], axis=1)"
   ]
  },
  {
   "cell_type": "code",
   "execution_count": 6,
   "metadata": {},
   "outputs": [],
   "source": [
    "Y = data.iloc[:,2]"
   ]
  },
  {
   "cell_type": "code",
   "execution_count": 7,
   "metadata": {},
   "outputs": [],
   "source": [
    "X = np.array(X)"
   ]
  },
  {
   "cell_type": "code",
   "execution_count": 8,
   "metadata": {},
   "outputs": [],
   "source": [
    "Y = np.array(Y)"
   ]
  },
  {
   "cell_type": "code",
   "execution_count": 9,
   "metadata": {},
   "outputs": [
    {
     "data": {
      "text/html": [
       "<div>\n",
       "<style scoped>\n",
       "    .dataframe tbody tr th:only-of-type {\n",
       "        vertical-align: middle;\n",
       "    }\n",
       "\n",
       "    .dataframe tbody tr th {\n",
       "        vertical-align: top;\n",
       "    }\n",
       "\n",
       "    .dataframe thead th {\n",
       "        text-align: right;\n",
       "    }\n",
       "</style>\n",
       "<table border=\"1\" class=\"dataframe\">\n",
       "  <thead>\n",
       "    <tr style=\"text-align: right;\">\n",
       "      <th></th>\n",
       "      <th>LevelOfViolence</th>\n",
       "      <th>CriticsRating</th>\n",
       "      <th>Watched</th>\n",
       "    </tr>\n",
       "  </thead>\n",
       "  <tbody>\n",
       "    <tr>\n",
       "      <th>0</th>\n",
       "      <td>1</td>\n",
       "      <td>1.2</td>\n",
       "      <td>-1</td>\n",
       "    </tr>\n",
       "    <tr>\n",
       "      <th>1</th>\n",
       "      <td>1</td>\n",
       "      <td>3.5</td>\n",
       "      <td>1</td>\n",
       "    </tr>\n",
       "    <tr>\n",
       "      <th>2</th>\n",
       "      <td>1</td>\n",
       "      <td>4.2</td>\n",
       "      <td>1</td>\n",
       "    </tr>\n",
       "    <tr>\n",
       "      <th>3</th>\n",
       "      <td>2</td>\n",
       "      <td>3.9</td>\n",
       "      <td>1</td>\n",
       "    </tr>\n",
       "    <tr>\n",
       "      <th>4</th>\n",
       "      <td>2</td>\n",
       "      <td>2.8</td>\n",
       "      <td>-1</td>\n",
       "    </tr>\n",
       "  </tbody>\n",
       "</table>\n",
       "</div>"
      ],
      "text/plain": [
       "   LevelOfViolence  CriticsRating  Watched\n",
       "0                1            1.2       -1\n",
       "1                1            3.5        1\n",
       "2                1            4.2        1\n",
       "3                2            3.9        1\n",
       "4                2            2.8       -1"
      ]
     },
     "execution_count": 9,
     "metadata": {},
     "output_type": "execute_result"
    }
   ],
   "source": [
    "data.head()"
   ]
  },
  {
   "cell_type": "code",
   "execution_count": 10,
   "metadata": {},
   "outputs": [
    {
     "data": {
      "text/plain": [
       "array([-1,  1,  1,  1, -1, -1, -1, -1, -1,  1,  1, -1, -1], dtype=int64)"
      ]
     },
     "execution_count": 10,
     "metadata": {},
     "output_type": "execute_result"
    }
   ],
   "source": [
    "Y"
   ]
  },
  {
   "cell_type": "code",
   "execution_count": 11,
   "metadata": {},
   "outputs": [],
   "source": [
    "w = [0,0,0]\n",
    "incorrect_times = 0\n",
    "\n",
    "for i in range(len(X)):\n",
    "    label = np.dot(w,X[i])\n",
    "    if(np.sign(label)!=Y[i]):\n",
    "        w = w + Y[i]*X[i]\n",
    "        incorrect_times = incorrect_times + 1\n",
    "    else:\n",
    "        continue"
   ]
  },
  {
   "cell_type": "code",
   "execution_count": 12,
   "metadata": {},
   "outputs": [],
   "source": [
    "count = 1\n",
    "while(incorrect_times!=0):\n",
    "    count+=1\n",
    "    incorrect_times = 0\n",
    "    for i in range(len(X)):\n",
    "        label = np.dot(w,X[i])\n",
    "        if(np.sign(label)!=Y[i]):\n",
    "            w = w + Y[i]*X[i]\n",
    "            incorrect_times = incorrect_times + 1"
   ]
  },
  {
   "cell_type": "code",
   "execution_count": 13,
   "metadata": {},
   "outputs": [
    {
     "data": {
      "text/plain": [
       "array([-32. ,  -9. ,  15.9])"
      ]
     },
     "execution_count": 13,
     "metadata": {},
     "output_type": "execute_result"
    }
   ],
   "source": [
    "w"
   ]
  },
  {
   "cell_type": "code",
   "execution_count": 14,
   "metadata": {},
   "outputs": [
    {
     "name": "stdout",
     "output_type": "stream",
     "text": [
      " The algorithm converges 44 iterations\n"
     ]
    }
   ],
   "source": [
    "print(\" The algorithm converges\",count,\"iterations\")"
   ]
  },
  {
   "cell_type": "markdown",
   "metadata": {},
   "source": [
    "## Upon creating a model, plot the boundary line along with all the data points and axes clearly marked.\n"
   ]
  },
  {
   "cell_type": "code",
   "execution_count": 15,
   "metadata": {},
   "outputs": [],
   "source": [
    "x11 = 1\n",
    "x12 = 5"
   ]
  },
  {
   "cell_type": "code",
   "execution_count": 16,
   "metadata": {},
   "outputs": [],
   "source": [
    "x21 = (-w[0] - w[1]*x11)/w[2]\n",
    "x22 = (-w[0] - w[1]*x12)/w[2]"
   ]
  },
  {
   "cell_type": "code",
   "execution_count": 17,
   "metadata": {},
   "outputs": [],
   "source": [
    "X1 = (x11,x12)\n",
    "X2 = (x21,x22)"
   ]
  },
  {
   "cell_type": "code",
   "execution_count": 18,
   "metadata": {},
   "outputs": [
    {
     "data": {
      "image/png": "[encoded data removed]",
      "text/plain": [
       "<Figure size 720x720 with 1 Axes>"
      ]
     },
     "metadata": {
      "needs_background": "light"
     },
     "output_type": "display_data"
    }
   ],
   "source": [
    "import matplotlib.mlab as mlab  \n",
    "import matplotlib.pyplot as plt  \n",
    "import seaborn as sns\n",
    "\n",
    "fig = plt.figure(figsize=(10,10))\n",
    "\n",
    "colormap = np.array([ 'red', 'orange', 'green', 'yellow','pink'])\n",
    "plt.ylabel(\"Critics Rating\",fontsize=20)\n",
    "plt.xlabel(\"Level Of Violence\",fontsize=20)\n",
    "plt.title(\" Watched or not with Critics Rating and Level Of Violence\",fontsize = 20)\n",
    "plt.scatter(x = data.LevelOfViolence, y = data.CriticsRating, c = colormap[data.Watched], s = 100)\n",
    "plt.plot(X1,X2)\n",
    "plt.show()"
   ]
  },
  {
   "cell_type": "markdown",
   "metadata": {},
   "source": [
    "# Problem 2 (40 points)\n",
    "\n",
    "In this problem you will use the data in siCoData.csv file to train a neural network. Use the backpropagation algorithm to train a 3-layer (input, hidden, output) neural network. Use stochastic gradient decent (SGD) technique and assume that the activation function for the hidden layer and output layer are tanh and linear, respectively. (You must write your own code for BP and SGD).\n",
    "\n"
   ]
  },
  {
   "cell_type": "markdown",
   "metadata": {},
   "source": [
    "## Report the minimum Ein with the related weights and number of iterations.\n",
    "\n",
    "The stopping criteria for training in this problem should be a combination of achieving a minimum in-sample error $Ein = 1/n sum{1,N,en}$ and reaching a maximum number of epochs (In this expression N is the number of observations in the data set and en is the error corresponding to each individual training point). \n"
   ]
  },
  {
   "cell_type": "code",
   "execution_count": 19,
   "metadata": {},
   "outputs": [],
   "source": [
    "data2 = pd.read_csv(\"siCoData.csv\")"
   ]
  },
  {
   "cell_type": "code",
   "execution_count": 20,
   "metadata": {},
   "outputs": [],
   "source": [
    "constant_for_w0 = np.repeat(np.arange(1,2),len(data2))"
   ]
  },
  {
   "cell_type": "code",
   "execution_count": 21,
   "metadata": {},
   "outputs": [],
   "source": [
    "X = data2.iloc[:,0:1]"
   ]
  },
  {
   "cell_type": "code",
   "execution_count": 22,
   "metadata": {},
   "outputs": [],
   "source": [
    "X = pd.concat([pd.Series(constant_for_w0, index = X.index, name='Constant'), X], axis=1)\n",
    "Y = data2.iloc[:,1]\n",
    "X = np.array(X)\n",
    "Y = np.array(Y)"
   ]
  },
  {
   "cell_type": "code",
   "execution_count": 23,
   "metadata": {},
   "outputs": [],
   "source": [
    "def tanh(x):\n",
    "    return (np.exp(x) - np.exp(-x)) / (np.exp(x) + np.exp(-x))"
   ]
  },
  {
   "cell_type": "markdown",
   "metadata": {},
   "source": [
    "The number of neurons should less than **(N/10 - 1) / d + 2**\n",
    "\n",
    "\n",
    "So after 7 times attempts, we choose 3 neurons."
   ]
  },
  {
   "cell_type": "code",
   "execution_count": 24,
   "metadata": {},
   "outputs": [],
   "source": [
    "h = 3"
   ]
  },
  {
   "cell_type": "code",
   "execution_count": 25,
   "metadata": {},
   "outputs": [],
   "source": [
    "np.random.seed(123)\n",
    "w1 = np.random.uniform(-1,1,size=(2,h))\n",
    "np.random.seed(123)\n",
    "w2 = np.random.uniform(-1,1,size=(h+1,1))"
   ]
  },
  {
   "cell_type": "code",
   "execution_count": 26,
   "metadata": {},
   "outputs": [
    {
     "data": {
      "text/plain": [
       "array([[ 0.39293837, -0.42772133, -0.54629709],\n",
       "       [ 0.10262954,  0.43893794, -0.15378708]])"
      ]
     },
     "execution_count": 26,
     "metadata": {},
     "output_type": "execute_result"
    }
   ],
   "source": [
    "w1"
   ]
  },
  {
   "cell_type": "code",
   "execution_count": 27,
   "metadata": {},
   "outputs": [
    {
     "data": {
      "text/plain": [
       "array([[ 0.39293837],\n",
       "       [-0.42772133],\n",
       "       [-0.54629709],\n",
       "       [ 0.10262954]])"
      ]
     },
     "execution_count": 27,
     "metadata": {},
     "output_type": "execute_result"
    }
   ],
   "source": [
    "w2"
   ]
  },
  {
   "cell_type": "code",
   "execution_count": 28,
   "metadata": {},
   "outputs": [],
   "source": [
    "def Get_w1_w2(X,Y,w1,w2,step_length):\n",
    "    for i in range(len(X)):\n",
    "        x_point= X[i:i+1]\n",
    "        y_point= Y[i:i+1]\n",
    "\n",
    "        S1_i = np.dot(x_point,w1)\n",
    "        thetaS1 = np.tanh(S1_i)\n",
    "        thetaS1_and_constant = np.insert(thetaS1,0,1,axis=1)\n",
    "        yhat = np.dot(thetaS1_and_constant,w2)\n",
    "\n",
    "        E_w2 = 2 * (yhat - y_point) * thetaS1_and_constant\n",
    "        E_w2.shape = (h+1,1)\n",
    "        E_w1=2 * (yhat - y_point) * w2[1:h+1,:] * (1 - thetaS1**2).T * x_point\n",
    "        E_w1.shape=(2,h)\n",
    "\n",
    "        w1 = w1 - step_length * E_w1\n",
    "        w2 = w2 - step_length * E_w2\n",
    "        \n",
    "    return w1,w2"
   ]
  },
  {
   "cell_type": "code",
   "execution_count": 29,
   "metadata": {},
   "outputs": [],
   "source": [
    "def Get_Y_hat_list(X,Y,w1,w2):\n",
    "\n",
    "    Y_hat_list = []\n",
    "    for i in range(len(X)):\n",
    "        x_point= X[i:i+1]\n",
    "        y_point= Y[i:i+1]\n",
    "\n",
    "        S1_i = np.dot(x_point,w1)\n",
    "        thetaS1 = np.tanh(S1_i)\n",
    "        thetaS1_and_constant = np.insert(thetaS1,0,1,axis=1)\n",
    "        yhat = np.dot(thetaS1_and_constant,w2)\n",
    "        \n",
    "        Y_hat_list.append(yhat[0,0])\n",
    "\n",
    "    return Y_hat_list\n",
    "    "
   ]
  },
  {
   "cell_type": "code",
   "execution_count": 30,
   "metadata": {},
   "outputs": [],
   "source": [
    "Ein_list = []\n",
    "w1_list = []\n",
    "w2_list = []\n",
    "count = 0\n",
    "for iterations in range(300):\n",
    "    \n",
    "    w1,w2 = Get_w1_w2(X,Y,w1,w2,0.01)\n",
    "    w1_list.append(w1)\n",
    "    w2_list.append(w2)\n",
    "    \n",
    "    Y_hat_list = []\n",
    "    Y_hat_list = Get_Y_hat_list(X,Y,w1,w2)\n",
    "    \n",
    "    Ein = (Y - np.array(Y_hat_list))**2    \n",
    "    Ein_mean = sum(Ein)/len(Ein)\n",
    "\n",
    "    Ein_list.append(Ein_mean)"
   ]
  },
  {
   "cell_type": "code",
   "execution_count": 31,
   "metadata": {},
   "outputs": [
    {
     "data": {
      "image/png": "[encoded data removed]",
      "text/plain": [
       "<Figure size 720x720 with 1 Axes>"
      ]
     },
     "metadata": {
      "needs_background": "light"
     },
     "output_type": "display_data"
    }
   ],
   "source": [
    "fig = plt.figure(figsize=(10,10))\n",
    "plt.ylabel(\"Ein\",fontsize=20)\n",
    "plt.xlabel(\"Iteration times\",fontsize=20)\n",
    "plt.title(\" Ein with different iteration times\",fontsize = 20)\n",
    "plt.plot(Ein_list)\n",
    "plt.show()"
   ]
  },
  {
   "cell_type": "code",
   "execution_count": 32,
   "metadata": {},
   "outputs": [
    {
     "name": "stdout",
     "output_type": "stream",
     "text": [
      "The minimum Ein is  0.03579285679450524\n",
      "The iteration time is  38\n",
      "W1 in this time is  [[ 0.26330661 -5.6929197  -0.2265118 ]\n",
      " [ 0.139549    7.71934891  2.78682787]]\n",
      "W2 in this time is  [[ 0.04450272]\n",
      " [-1.21444524]\n",
      " [-0.46897249]\n",
      " [ 1.13469266]]\n"
     ]
    }
   ],
   "source": [
    "Ein_minimum = min(Ein_list)\n",
    "Minimun_index = np.argmin(Ein_list)\n",
    "Ein_minimum_w1 = w1_list[Minimun_index]\n",
    "Ein_minimum_w2 = w2_list[Minimun_index]\n",
    "\n",
    "print('The minimum Ein is ',Ein_minimum)\n",
    "print('The iteration time is ',Minimun_index)\n",
    "print('W1 in this time is ',Ein_minimum_w1)\n",
    "print('W2 in this time is ',Ein_minimum_w2)"
   ]
  },
  {
   "cell_type": "markdown",
   "metadata": {},
   "source": [
    "## Graph the original data (y vs. x) and the predicted values (ˆy vs. x) on two separate scatter plots."
   ]
  },
  {
   "cell_type": "code",
   "execution_count": 33,
   "metadata": {},
   "outputs": [
    {
     "data": {
      "text/plain": [
       "<function matplotlib.pyplot.show(close=None, block=None)>"
      ]
     },
     "execution_count": 33,
     "metadata": {},
     "output_type": "execute_result"
    },
    {
     "data": {
      "image/png": "[encoded data removed]",
      "text/plain": [
       "<Figure size 720x720 with 1 Axes>"
      ]
     },
     "metadata": {
      "needs_background": "light"
     },
     "output_type": "display_data"
    }
   ],
   "source": [
    "Xlabel = data2['x']\n",
    "Ylabel = data2['y']\n",
    "fig = plt.figure(figsize=(10,10))\n",
    "plt.ylabel(\"Y\",fontsize=20)\n",
    "plt.xlabel(\"X\",fontsize=20)\n",
    "plt.title(\" Y vs X\",fontsize = 20)\n",
    "plt.plot(Xlabel,Ylabel,'o',c='pink')\n",
    "plt.show"
   ]
  },
  {
   "cell_type": "code",
   "execution_count": 34,
   "metadata": {},
   "outputs": [],
   "source": [
    "S1_best = np.dot(X,Ein_minimum_w1)\n",
    "thetaS1 = np.tanh(S1_best)\n",
    "thetaS1_and_constant = np.insert(thetaS1,0,1,axis=1)\n",
    "yhat = np.dot(thetaS1_and_constant,Ein_minimum_w2)"
   ]
  },
  {
   "cell_type": "code",
   "execution_count": 35,
   "metadata": {},
   "outputs": [
    {
     "data": {
      "text/plain": [
       "<function matplotlib.pyplot.show(close=None, block=None)>"
      ]
     },
     "execution_count": 35,
     "metadata": {},
     "output_type": "execute_result"
    },
    {
     "data": {
      "image/png": "[encoded data removed]",
      "text/plain": [
       "<Figure size 720x720 with 1 Axes>"
      ]
     },
     "metadata": {
      "needs_background": "light"
     },
     "output_type": "display_data"
    }
   ],
   "source": [
    "fig = plt.figure(figsize=(10,10))\n",
    "plt.ylabel(\"Y_hat\",fontsize=20)\n",
    "plt.xlabel(\"X\",fontsize=20)\n",
    "plt.title(\" Yhat vs X\",fontsize = 20)\n",
    "plt.plot(Xlabel,yhat,'o',c='red')\n",
    "plt.show"
   ]
  }
 ],
 "metadata": {
  "kernelspec": {
   "display_name": "Python 3",
   "language": "python",
   "name": "python3"
  },
  "language_info": {
   "codemirror_mode": {
    "name": "ipython",
    "version": 3
   },
   "file_extension": ".py",
   "mimetype": "text/x-python",
   "name": "python",
   "nbconvert_exporter": "python",
   "pygments_lexer": "ipython3",
   "version": "3.8.5"
  },
  "toc": {
   "base_numbering": 1,
   "nav_menu": {},
   "number_sections": true,
   "sideBar": true,
   "skip_h1_title": false,
   "title_cell": "Table of Contents",
   "title_sidebar": "Contents",
   "toc_cell": false,
   "toc_position": {},
   "toc_section_display": true,
   "toc_window_display": false
  }
 },
 "nbformat": 4,
 "nbformat_minor": 4
}
