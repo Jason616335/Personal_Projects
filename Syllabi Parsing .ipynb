{
 "cells": [
  {
   "cell_type": "markdown",
   "metadata": {},
   "source": [
    "# HW Week 2) Syllabi Parsing\n",
    "*ANLT-224-01 Spring 2021*\n",
    "\n",
    "*Jiye Lyu*\n",
    "\n",
    "*01/31/2021*"
   ]
  },
  {
   "cell_type": "markdown",
   "metadata": {},
   "source": [
    "# For loop to catch every syllabus"
   ]
  },
  {
   "cell_type": "markdown",
   "metadata": {},
   "source": [
    "## Read syllabus' names in a folder."
   ]
  },
  {
   "cell_type": "markdown",
   "metadata": {},
   "source": [
    "In this part I use os to read files' path in a folder. Then I catch the last one, file's name, in list \"position\"."
   ]
  },
  {
   "cell_type": "code",
   "execution_count": 1,
   "metadata": {},
   "outputs": [
    {
     "name": "stdout",
     "output_type": "stream",
     "text": [
      "['82445.pdf', 'ARTS 007 (Canvas).pdf', 'CS 3200_5200_ Theoretical Foundations of Computing.pdf', 'CS 59000-CGS-Syllabus 2020.pdf', 'syllabus 4.pdf', 'syllabus 5.pdf', 'syllabus 6.pdf', 'syllabus 7.pdf', 'syllabus 9.pdf', 'syllabus1.pdf', 'syllabus2.pdf', 'syllabus3.pdf', 'syllabus4.pdf', 'Untitled.pdf']\n"
     ]
    }
   ],
   "source": [
    "import PyPDF2\n",
    "import os\n",
    "path =\"C:\\\\Users\\\\61633\\\\Desktop\\\\syllabi\" \n",
    "files= os.listdir(path) \n",
    "syllabus_name = []\n",
    "for file in files: \n",
    "    position = path+'\\\\'+ file \n",
    "    position=position.split(\"\\\\\")\n",
    "    syllabus_name.append(position[-1])\n",
    "\n",
    "print(syllabus_name)"
   ]
  },
  {
   "cell_type": "markdown",
   "metadata": {},
   "source": [
    "## Put syllabus in a list called \"syllabus\""
   ]
  },
  {
   "cell_type": "markdown",
   "metadata": {},
   "source": [
    "**First for loop** : I used pdfFileReader to read every pdf files by \"syllabus_name\". \n",
    "\n",
    "**Second for loop** : To get all the pages in pdf, I use for loop to get every single page. Every time I get page content, I add it to a blank string called \"Content\". In the loop I put extract Text in a variable called \"pageObj\". Then I replace \"\\n\" with \"\" to make sure the following steps go well."
   ]
  },
  {
   "cell_type": "code",
   "execution_count": 2,
   "metadata": {
    "scrolled": true
   },
   "outputs": [
    {
     "name": "stdout",
     "output_type": "stream",
     "text": [
      "14\n",
      "<class 'list'>\n"
     ]
    }
   ],
   "source": [
    "syllabus=list()\n",
    "\n",
    "for i in syllabus_name:\n",
    "    content = \"\"\n",
    "    pdfFileObj = open(path +\"\\\\\"+ i, 'rb') \n",
    "    # creating a pdf reader object\n",
    "    pdfReader = PyPDF2.PdfFileReader(pdfFileObj) \n",
    "\n",
    "    for j in range(pdfReader.numPages):\n",
    "        pageObj = pdfReader.getPage(j)\n",
    "        pageObj=pageObj.extractText()\n",
    "        Pure_pageObj=pageObj.replace('\\n' ,' ')\n",
    "        content+=Pure_pageObj\n",
    "\n",
    "    pdfFileObj.close() \n",
    "    syllabus.append(content)\n",
    "\n",
    "print(len(syllabus))\n",
    "print(type(syllabus))"
   ]
  },
  {
   "cell_type": "markdown",
   "metadata": {},
   "source": [
    "# Function \"Feature_get\"\n",
    "This is the function code. And next cell will use this function to generate the final answer called **\"features-retrieved-by-jiyelyu.csv\"**."
   ]
  },
  {
   "cell_type": "code",
   "execution_count": 3,
   "metadata": {},
   "outputs": [],
   "source": [
    "import re\n",
    "\n",
    "def Feature_get(syllabus):\n",
    "    Instructor_names=[]\n",
    "\n",
    "    name_regex=re.compile(r\"[I]nstructor[:]?[ A-Za-z]*[ .A-Za-z]*\")\n",
    "\n",
    "    for i in syllabus:\n",
    "\n",
    "        cases=i\n",
    "        \n",
    "        if (name_regex.search(cases)):\n",
    "            name=re.findall(r\"[I]nstructor[:]?[ A-Za-z]*[ .A-Za-z]*\",cases)\n",
    "            Instructor_names.append(name)\n",
    "\n",
    "        else:\n",
    "\n",
    "            Instructor_names.append(\"No name\")\n",
    "            \n",
    "    Emails=[]\n",
    "    email_regex=re.compile(r\"[a-zA-Z0-9_.+-]+@+[a-zA-Z0-9_.+-]+[a-zA-Z0-9_.+-]+[edu]\")\n",
    "\n",
    "    for i in syllabus:\n",
    "    \n",
    "        cases=i\n",
    "\n",
    "        if (email_regex.search(cases)):\n",
    "            email=email_regex.search(cases).group()\n",
    "            Emails.append(email)\n",
    "\n",
    "        else:\n",
    "\n",
    "            Emails.append(\"No email address\")\n",
    "\n",
    "    Websites=[]\n",
    "    website_regex=re.compile(r\"http(.*?)edu\" )\n",
    "\n",
    "    for i in syllabus:\n",
    "\n",
    "        cases=i\n",
    "\n",
    "        if (website_regex.search(cases)):\n",
    "            website=website_regex.search(cases).group()\n",
    "            Websites.append(website)\n",
    "\n",
    "        else:\n",
    "\n",
    "            Websites.append(\"No website\")\n",
    "            \n",
    "\n",
    "    Phone=[]\n",
    "    phone_regex=re.compile(r\"[()0-9 ]+[().-]+[0-9 ]+[().-]+[0-9 ]+\" )\n",
    "\n",
    "    for i in syllabus:\n",
    "\n",
    "        cases=i\n",
    "        \n",
    "        if (phone_regex.search(cases)):\n",
    "\n",
    "            phone=phone_regex.search(cases).group()\n",
    "            Phone.append(phone)  \n",
    "\n",
    "        else:\n",
    "            Phone.append(\"No instrucot's phone number\")\n",
    "        \n",
    "            \n",
    "    Text_book=[]\n",
    "    Textbook_regex=re.compile(r\"[Tt]+extbook[ A-Za-z]*[:]?[A-Za-z,.]*\")\n",
    "\n",
    "    for i in syllabus:\n",
    "\n",
    "        cases=i\n",
    "        if (Textbook_regex.search(cases) ):\n",
    "            #print(\"There is a structor \")\n",
    "            textbook=Textbook_regex.search(cases).group()\n",
    "            Text_book.append(textbook)  \n",
    "\n",
    "        else:\n",
    "            Text_book.append(\"No textbook required\")\n",
    "\n",
    "    Office=[]\n",
    "\n",
    "    for i in syllabus:\n",
    "\n",
    "        cases=i\n",
    "        if (re.findall(r\"Hours[ :]?[ A-Za-z0-9/]*[&]?[: A-Za-z0-9]*[.]*[&]?[-: A-Za-z0-9]*[- 0-9:]?[.+]*[ A-Za-z]+\" ,cases)):\n",
    "\n",
    "            office=re.findall(r\"Hours[ :]?[ A-Za-z0-9/]*[&]?[: A-Za-z0-9]*[.]*[&]?[-: A-Za-z0-9]*[- 0-9:]?[.+]*[ A-Za-z]+\" ,cases)\n",
    "            Office.append(office)  \n",
    "        else:\n",
    "            Office.append(\"No offic hours\")\n",
    "\n",
    "    Grade=[]\n",
    "\n",
    "    for i in syllabus:\n",
    "\n",
    "        cases=i\n",
    "        if (re.findall(r\"[\\d.]+%\" ,cases)):\n",
    "\n",
    "            grade=re.findall(r\"[A-Za-z ]*[ :]?[0-9.]+%\" ,cases)\n",
    "            Grade.append(grade)  \n",
    "\n",
    "        else:\n",
    "            Grade.append(\"No grading rules\")\n",
    "\n",
    "    Season=[]\n",
    "    Season_regex1=re.compile(r\"[Ss]+pring\" )\n",
    "    Season_regex2=re.compile(r\"[Ss]+ummer\")\n",
    "    Season_regex3=re.compile(r\"[Ff]+all\")\n",
    "    Season_regex4=re.compile(r\"[Ww]+inter\")\n",
    "    for i in syllabus:\n",
    "\n",
    "        cases=i\n",
    "\n",
    "        if (Season_regex1.search(cases)):\n",
    "\n",
    "            season1=Season_regex1.search(cases).group()\n",
    "            Season.append(season1)\n",
    "\n",
    "        elif (Season_regex2.search(cases)):\n",
    "\n",
    "            season2=Season_regex2.search(cases).group()\n",
    "            Season.append(season2)\n",
    "\n",
    "        elif (Season_regex3.search(cases)):\n",
    "\n",
    "            season3=Season_regex3.search(cases).group()\n",
    "            Season.append(season3)\n",
    "\n",
    "        elif (Season_regex4.search(cases)):\n",
    "\n",
    "            season4=Season_regex4.search(cases).group()\n",
    "            Season.append(season4)\n",
    "\n",
    "        else:\n",
    "            Season.append(\"No specific Season\")\n",
    "\n",
    "\n",
    "    School_name=[]\n",
    "    School_regex1=re.compile(r\"[Uu]+niversity[ ]?[of]*[ ]?[A-Za-z]*[ ]?[A-Za-z]*[ ]?[A-Za-z]*\" )\n",
    "    School_regex2=re.compile(r\"[A-Z][a-z]*[ ]?[A-Za-z]*[ ]?[Uu]+niversity$\")\n",
    "    School_regex3=re.compile(r\"[A-Z][a-z]*[ ]?[A-Za-z]*[ ]?[Cc]+ollege$\")\n",
    "\n",
    "    for i in syllabus:\n",
    "\n",
    "        cases=i\n",
    "\n",
    "        if (School_regex1.search(cases)):\n",
    "\n",
    "            school1=School_regex1.search(cases).group()\n",
    "            School_name.append(school1)\n",
    "\n",
    "        elif (School_regex2.search(cases)):\n",
    "\n",
    "            school2=School_regex2.search(cases).group()\n",
    "            School_name.append(school2)\n",
    "\n",
    "        elif (School_regex3.search(cases)):\n",
    "\n",
    "            school3=School_regex3.search(cases).group()\n",
    "            School_name.append(school3)\n",
    "\n",
    "        else:\n",
    "            School_name.append(\"No specific University or college\")\n",
    "            \n",
    "    \n",
    "    import pandas as pd\n",
    "    datalist=[]\n",
    "    for i in range(len(syllabus_name)):\n",
    "        feature1=syllabus_name[i]\n",
    "        feature2=Instructor_names[i]\n",
    "        feature3=Emails[i]\n",
    "        feature4=Websites[i]\n",
    "        feature5=Phone[i]\n",
    "        feature6=Text_book[i]\n",
    "        feature7=Office[i]\n",
    "        feature8=Grade[i]\n",
    "        feature9=Season[i]\n",
    "        feature10=School_name[i]\n",
    "\n",
    "        datalist.append([feature1, feature2, feature3,feature4,feature5,feature6,feature7,feature8,feature9,feature10])\n",
    "\n",
    "    syllabus_DF=pd.DataFrame(datalist,columns=['Syllabus','Instructor_names','Email_address','Websites','Phone_Number','Text_Book',\n",
    "                                                'Office_Hour','Grading','Season,','School_Name'])\n",
    "\n",
    "    syllabus_DF.to_csv(\"features-retrieved-by-jiyelyu.csv\",index=False,sep=',')\n",
    "\n"
   ]
  },
  {
   "cell_type": "code",
   "execution_count": 4,
   "metadata": {},
   "outputs": [],
   "source": [
    "Feature_get(syllabus)"
   ]
  },
  {
   "cell_type": "markdown",
   "metadata": {},
   "source": [
    "# The following parts are the explainations about each part."
   ]
  },
  {
   "cell_type": "markdown",
   "metadata": {},
   "source": [
    "## For loop to extract features"
   ]
  },
  {
   "cell_type": "markdown",
   "metadata": {},
   "source": [
    "###  Featrue 1: Name"
   ]
  },
  {
   "cell_type": "markdown",
   "metadata": {},
   "source": [
    "**First**:import regular expression. Then I want to find instructors'name by key word\"I/instructor\".Because there could be two professors so I use findall in this feature.\n",
    "\n",
    "**Second** :I use for loop to make every syllabus do like that. The result can be got by using group(). Then I add the result in a list called \"Instructor_names\" so I can put them in a data frame at the end. If there is no match about name, I add a string \"No name\" in the list."
   ]
  },
  {
   "cell_type": "code",
   "execution_count": 5,
   "metadata": {
    "scrolled": false
   },
   "outputs": [
    {
     "name": "stdout",
     "output_type": "stream",
     "text": [
      "[['Instructor:  Thomas L. Brown '], ['Instructor:  Charlie '], ['Instructor: Professor Guozhu Dong   Office'], ['Instructor:     Bedrich Benes   Timeslot'], ['Instructor:   Sandhya Patlolla   Email', 'Instructor      Academic Dish o ne sty will not be tolerated       Any incident of sexual harassme nt or di scrimination will be reported  to the Dean'], ['Instructor   Jessika Hughes   E '], ['Instructor:  Asad Mahmood       Time and Place'], 'No name', ['Instructor', 'Instructor   Support'], ['Instructor '], ['Instructors Dr.SharonSimmons simmonsj'], ['Instructor:Dr.Mink e'], ['Instructors A'], 'No name']\n",
      "14\n"
     ]
    }
   ],
   "source": [
    "import re\n",
    "\n",
    "Instructor_names=[]\n",
    "\n",
    "name_regex=re.compile(r\"[I]nstructor[:]?[ A-Za-z]*[ .A-Za-z]*\")\n",
    "\n",
    "for i in syllabus:\n",
    "\n",
    "    cases=i\n",
    "    \n",
    "    if (name_regex.search(cases)):\n",
    "        #print(\"There is a structor \")\n",
    "        #re.findall(r\"[A-Za-z ]*[ :]?[0-9.]+%\" ,cases)\n",
    "        name=re.findall(r\"[I]nstructor[:]?[ A-Za-z]*[ .A-Za-z]*\",cases)\n",
    "        Instructor_names.append(name)\n",
    "\n",
    "    else:\n",
    "\n",
    "        Instructor_names.append(\"No name\")\n",
    "\n",
    "print(Instructor_names)\n",
    "print(len(Instructor_names))"
   ]
  },
  {
   "cell_type": "markdown",
   "metadata": {},
   "source": [
    "### Featrue 2:Email"
   ]
  },
  {
   "cell_type": "markdown",
   "metadata": {},
   "source": [
    "**First**:I want to find email by key word \"@ and .edu\" because in education system the tail of email is always edu..\n",
    "\n",
    "**Second** :I use for loop to make every syllabus do like that. The result can be got by using group(). Then I add the result in a list called \"Emails\" so I can put them in a data frame at the end. If there is no match about email, I add a string \"No email address\" in the list."
   ]
  },
  {
   "cell_type": "code",
   "execution_count": 6,
   "metadata": {},
   "outputs": [
    {
     "name": "stdout",
     "output_type": "stream",
     "text": [
      "['tom.brown@tamuc.edu', 'caitken@pacific.edu', 'guozhu.dong@wright.edu', 'bbenes@purdue.edu', 'No email address', 'jhughes@dvc.edu', 'a_mahmood@u.pacific.edu', '10-11jsullivan@dvc.edu', 'dajohnson@dvc.edu', 'ballard@wfu.edu', 'simmonsj@jmu.edu', 'No email address', 'dgs@cs.bu.edu', 'SYLLABUSProfessorDouglasComerLWSN1171comer@cs.purdue.edu']\n",
      "14\n"
     ]
    }
   ],
   "source": [
    "Emails=[]\n",
    "email_regex=re.compile(r\"[a-zA-Z0-9_.+-]+@+[a-zA-Z0-9_.+-]+[a-zA-Z0-9_.+-]+[edu]\")\n",
    "\n",
    "for i in syllabus:\n",
    "    \n",
    "    cases=i\n",
    "    if (email_regex.search(cases)):\n",
    "        email=email_regex.search(cases).group()\n",
    "        Emails.append(email)\n",
    "\n",
    "    else:\n",
    "\n",
    "        Emails.append(\"No email address\")\n",
    "\n",
    "print(Emails)\n",
    "print(len(Emails))"
   ]
  },
  {
   "cell_type": "markdown",
   "metadata": {},
   "source": [
    "### Featrue 3: Website"
   ]
  },
  {
   "cell_type": "markdown",
   "metadata": {},
   "source": [
    "**First**:I want to find webiste by key word \"http and  .edu\". So in regular expression, I set the beginning and ending about the websites with lazy pattern(.*?)\n",
    "\n",
    "**Second** :I use for loop to make every syllabus do like that. The result can be got by using group(). Then I add the result in a list called \"Websites\" so I can put them in a data frame at the end. If there is no match about email, I add a string \"No website\" in the list."
   ]
  },
  {
   "cell_type": "code",
   "execution_count": 7,
   "metadata": {},
   "outputs": [
    {
     "name": "stdout",
     "output_type": "stream",
     "text": [
      "14\n"
     ]
    }
   ],
   "source": [
    "Websites=[]\n",
    "website_regex=re.compile(r\"http(.*?)edu\" )\n",
    "\n",
    "for i in syllabus:\n",
    "\n",
    "    cases=i\n",
    "    \n",
    "    if (website_regex.search(cases)):\n",
    "        website=website_regex.search(cases).group()\n",
    "        Websites.append(website)\n",
    "\n",
    "    else:\n",
    "\n",
    "        Websites.append(\"No website\")\n",
    "\n",
    "print(len(Websites))"
   ]
  },
  {
   "cell_type": "markdown",
   "metadata": {},
   "source": [
    "### Featrue 4: Phone number"
   ]
  },
  {
   "cell_type": "markdown",
   "metadata": {},
   "source": [
    "**First**:I want to find Phone number. So in regular expression, I set the beginning, middle and ending about the number. To make sure get all kinds of number, I set \"()\",\".\" and \"-\" in the branket.\n",
    "\n",
    "**Second** :I use for loop to make every syllabus do like that. The result can be got by using group(). Then I add the result in a list called \"Phone\" so I can put them in a data frame at the end. If there is no match about email, I add a string \"No instrucot's phone number\" in the list."
   ]
  },
  {
   "cell_type": "code",
   "execution_count": 8,
   "metadata": {
    "scrolled": true
   },
   "outputs": [
    {
     "name": "stdout",
     "output_type": "stream",
     "text": [
      "[' 903.886.5409  ', '  916.549.8782', ' (2012). ', ' (1)     2   3', '  01 - 25 - 21   ', ' - 117 . 8166  ', \"No instrucot's phone number\", ' (3-4 ', '   (415)   758 - 3160          ', '(336-758-5929', '540-568-4196 ', \"No instrucot's phone number\", ' 617-353-3575 ', \"No instrucot's phone number\"]\n",
      "14\n"
     ]
    }
   ],
   "source": [
    "Phone=[]\n",
    "phone_regex=re.compile(r\"[()0-9 ]+[().-]+[0-9 ]+[().-]+[0-9 ]+\" )\n",
    "\n",
    "for i in syllabus:\n",
    "    \n",
    "    cases=i\n",
    "    if (phone_regex.search(cases)):\n",
    "        \n",
    "        phone=phone_regex.search(cases).group()\n",
    "        Phone.append(phone)  \n",
    "    \n",
    "    else:\n",
    "        Phone.append(\"No instrucot's phone number\")\n",
    "        \n",
    "print(Phone)\n",
    "print(len(Phone))"
   ]
  },
  {
   "cell_type": "markdown",
   "metadata": {},
   "source": [
    "### Featrue 5: Text book"
   ]
  },
  {
   "cell_type": "markdown",
   "metadata": {},
   "source": [
    "**First**:I want to find textbook name. So in regular expression, I set the key word \"T/textbook\" at the beginning. \n",
    "\n",
    "**Second** :I use for loop to make every syllabus do like that. The result can be got by using group(). Then I add the result in a list called \"Text_book\" so I can put them in a data frame at the end. If there is no match about email, I add a string \"No instrucot's phone number\" in the list."
   ]
  },
  {
   "cell_type": "code",
   "execution_count": 9,
   "metadata": {},
   "outputs": [
    {
     "name": "stdout",
     "output_type": "stream",
     "text": [
      "['Textbook Required:', 'No textbook required', 'No textbook required', 'No textbook required', 'textbook closel y.', 'No textbook required', 'No textbook required', 'textbook is required reading and should be available for purchase in DVC', 'textbook   is   not   required   for   this   class.', 'Textbook Therequiredtextbookforthisclassisavailableonline.Toaccessthetext', 'Textbook GlennBrookshearandDennisBrylow', 'No textbook required', 'No textbook required', 'No textbook required']\n",
      "14\n"
     ]
    }
   ],
   "source": [
    "Text_book=[]\n",
    "Textbook_regex=re.compile(r\"[Tt]+extbook[ A-Za-z]*[:]?[A-Za-z,.]*\")\n",
    "\n",
    "for i in syllabus:\n",
    "    \n",
    "    cases=i\n",
    "    if (Textbook_regex.search(cases) ):\n",
    "        textbook=Textbook_regex.search(cases).group()\n",
    "        Text_book.append(textbook)  \n",
    "    \n",
    "    else:\n",
    "        Text_book.append(\"No textbook required\")\n",
    "\n",
    "print(Text_book)\n",
    "print(len(Text_book))"
   ]
  },
  {
   "cell_type": "markdown",
   "metadata": {},
   "source": [
    "### Featrue 6: Office Hour"
   ]
  },
  {
   "cell_type": "markdown",
   "metadata": {},
   "source": [
    "**First**:I want to find Office hours. So in regular expression, I use find all rather than search ,which only get the first matched string. I set the key word \"Hours\" at the beginning. Then I set numers,\":\" , letters for am and pm, symbol(&) used in example syllabus.\n",
    "\n",
    "**Second** :I use for loop to make every syllabus do like that. Then I add the result in a list called \"Office\" so I can put them in a data frame at the end. If there is no match about email, I add a string \"No offic hours\" in the list."
   ]
  },
  {
   "cell_type": "code",
   "execution_count": 10,
   "metadata": {},
   "outputs": [
    {
     "name": "stdout",
     "output_type": "stream",
     "text": [
      "[['Hours:  Tue & Thu 9:00  & 11:00  + appointments  Office Phone'], ['Hours:  ', 'Hours: before/after class or by appointmen tUniversity of the Pacific ', 'Hours Policy: Studio Hours are:  M'], ['Hours:  4:30  5:25 T Th. I will be ple ased to make appointments with you at other times if you need to see me  but cannot make my office hours.      Email and the phone may be used to obtain the answers to simple questions'], ['Hours:   3 .     Procedural modeling in computer graphics encompasses methods that  generate   geometry from a code or a  set of rules.  Procedural models are closely related to fractal s '], 'No offic hours', ['Hours   Wednesdays 3:30     4:00pm '], ['Hours:   by  a ppointment  through email   Contac t:  a'], ['Hours: T '], ['Hours:   Meet   me   live   on   Zoom ', 'Hours   Tab   in   the   Easy - Access   Module.         Once   you   are   in   the   session'], ['Hours :M2-3:30andW', 'Hours :MW6-8pm Class '], ['Hours: M/F12:30pm', 'Hours: Tu2pm'], ['Hours: Monday'], 'No offic hours', 'No offic hours']\n",
      "14\n"
     ]
    }
   ],
   "source": [
    "Office=[]\n",
    "\n",
    "for i in syllabus:\n",
    "    \n",
    "    cases=i\n",
    "    if (re.findall(r\"Hours[ :]?[ A-Za-z0-9/]*[&]?[: A-Za-z0-9]*[.]*[&]?[-: A-Za-z0-9]*[- 0-9:]?[.+]*[ A-Za-z]+\" ,cases)):\n",
    "        \n",
    "        office=re.findall(r\"Hours[ :]?[ A-Za-z0-9/]*[&]?[: A-Za-z0-9]*[.]*[&]?[-: A-Za-z0-9]*[- 0-9:]?[.+]*[ A-Za-z]+\" ,cases)\n",
    "        Office.append(office)  \n",
    "    else:\n",
    "        Office.append(\"No offic hours\")\n",
    "\n",
    "print(Office)\n",
    "print(len(Office))"
   ]
  },
  {
   "cell_type": "markdown",
   "metadata": {},
   "source": [
    "### Featrue 7: Grading"
   ]
  },
  {
   "cell_type": "markdown",
   "metadata": {},
   "source": [
    "**First**:I want to find Grading rules. So in regular expression, I set the key word \"%\". And I use find all rather than search ,which only get the first matched string. \n",
    "\n",
    "**Second** :I use for loop to make every syllabus do like that. Then I add the result in a list called \"Grade\" so I can put them in a data frame at the end. If there is no match about email, I add a string \"No grading rules\" in the list."
   ]
  },
  {
   "cell_type": "code",
   "execution_count": 11,
   "metadata": {},
   "outputs": [
    {
     "name": "stdout",
     "output_type": "stream",
     "text": [
      "['No grading rules', ['  TENTATIVE CLASS EXERCISES AND PROJECTS 100%', 'Minimum 95%', 'Minimum 90%', 'Minimum 87%', 'Minimum 83%', 'Minimum 80%', 'Minimum 77%', 'Minimum 73%', 'Minimum 70%', 'Minimum 67%', 'Minimum 60%', ' FBelow 60%', ' that number is only 80%', 'nal 20%'], ['   90%', '   80%', '   89%', '   70%', '   79%', '   60%', '   69%', '   below 60%', ' and each will  make up 25%', '       A     87.5%', '   75%', '   87.5%', '       C     62.5%', '   75%', '   50%', '   62.5%', '   below 50%'], ['5%', '5%', '5%', '30%', '5%', '10%', '10%', '10%', '10%', '10%', '   Four   Labs   5%', '5%', '5%', '20%', '40%', '           Final Presentation   10%'], ['  10%', ' 0%', ' 0%', ' 20%', '     20%', ' 100%', '   100%', '   89%', '   79%', '   69%'], [' Class  Participation 10%', '   Daily   Reading Responses 10%', '   Weekly  Writing  Assig nments   10%', '   Peer Review 10%', '   Group Project 10%', '   Formal Essays 50%', '   x   10%', '10%', '10%', '10%', '10%', '10%', '50%', '10%', '   A late Formal Essay will lose 10%'], 'No grading rules', [' 25%', ' 30%', ' 20%', ' 20%', ' 5%', '100%', '90%', '80%', '70%', ' 60%'], ['           How   Will   We   Approach   a   Public   Speaking   Course      100%', '   100%', '   will   incur   a   33%', '   there   is   a   33%', ' 100%', ' 89%', ' 79%', ' 69%', '   100%', '       100%', '   Course   Calendar   100%'], ['you willbeexpectedtocompleteatleast90%', '  30%', 'projects  5%', '  10%', 'participation  10%', 'quizzes  25%', 'midterms  20%'], ['12%', '18%', '10%', '40%', '20%'], [' PaperandPencilHomework20%', ' ComputerHomework20%', ' MidtermExam30%', ' FinalExam30%', ' Total100%'], ['45%', '25%', '25%', '5%', ' There will be a 10%', ' You will  receive full credit for participation if you answer  at least 85%', ' of the online  lecture questions and if you  participate in at least 85%'], [' 5%', 'Participationinclassdiscussions  40%', 'Essaysdescribingwhatwaslearnedfromexperimentsusingcloudfacilities  45%']]\n",
      "14\n"
     ]
    }
   ],
   "source": [
    "Grade=[]\n",
    "\n",
    "for i in syllabus:\n",
    "    \n",
    "    cases=i\n",
    "    if (re.findall(r\"[\\d.]+%\" ,cases)):\n",
    "\n",
    "        grade=re.findall(r\"[A-Za-z ]*[ :]?[0-9.]+%\" ,cases)\n",
    "        Grade.append(grade)  \n",
    "    \n",
    "    else:\n",
    "        Grade.append(\"No grading rules\")\n",
    "\n",
    "print(Grade)\n",
    "print(len(Grade))"
   ]
  },
  {
   "cell_type": "markdown",
   "metadata": {},
   "source": [
    "### Featrue 8: Season"
   ]
  },
  {
   "cell_type": "markdown",
   "metadata": {},
   "source": [
    "**First**: In this part I want to find when the course begins, which season does it belong. So I use if and elif to find the season key word in syllabus. So in regular expression I use \"S/spring\",\"S\\summer\",\"F\\fall\" and \"W\\winter\".\n",
    "\n",
    "**Second** :I use for loop to make every syllabus do like that. The result can be got by using group(). Then I add the result in a list called \"Season\" so I can put them in a data frame at the end. If there is no match about email, I add a string \"No specific Season\" in the list."
   ]
  },
  {
   "cell_type": "code",
   "execution_count": 12,
   "metadata": {},
   "outputs": [
    {
     "name": "stdout",
     "output_type": "stream",
     "text": [
      "['No specific Season', 'Fall', 'Fall', 'Spring', 'Spring', 'No specific Season', 'No specific Season', 'Spring', 'Spring', 'Fall', 'Fall', 'Spring', 'Spring', 'Spring']\n",
      "14\n"
     ]
    }
   ],
   "source": [
    "Season=[]\n",
    "Season_regex1=re.compile(r\"[Ss]+pring\" )\n",
    "Season_regex2=re.compile(r\"[Ss]+ummer\")\n",
    "Season_regex3=re.compile(r\"[Ff]+all\")\n",
    "Season_regex4=re.compile(r\"[Ww]+inter\")\n",
    "for i in syllabus:\n",
    "\n",
    "    cases=i\n",
    "    \n",
    "    if (Season_regex1.search(cases)):\n",
    "        \n",
    "        season1=Season_regex1.search(cases).group()\n",
    "        Season.append(season1)\n",
    "        \n",
    "    elif (Season_regex2.search(cases)):\n",
    "        \n",
    "        season2=Season_regex2.search(cases).group()\n",
    "        Season.append(season2)\n",
    "        \n",
    "    elif (Season_regex3.search(cases)):\n",
    "        \n",
    "        season3=Season_regex3.search(cases).group()\n",
    "        Season.append(season3)\n",
    "        \n",
    "    elif (Season_regex4.search(cases)):\n",
    "        \n",
    "        season4=Season_regex4.search(cases).group()\n",
    "        Season.append(season4)\n",
    "    \n",
    "    else:\n",
    "        Season.append(\"No specific Season\")\n",
    "\n",
    "print(Season)\n",
    "print(len(Season))"
   ]
  },
  {
   "cell_type": "markdown",
   "metadata": {},
   "source": [
    "### Featrue 9: School name"
   ]
  },
  {
   "cell_type": "code",
   "execution_count": 13,
   "metadata": {},
   "outputs": [
    {
     "name": "stdout",
     "output_type": "stream",
     "text": [
      "['University Email Address', 'University of the Pacific ', 'University Wright State University', 'No specific University or college', 'No specific University or college', 'No specific University or college', 'No specific University or college', 'University Press', 'No specific University or college', 'university', 'University', 'University', 'University', 'No specific University or college']\n",
      "14\n"
     ]
    }
   ],
   "source": [
    "School_name=[]\n",
    "School_regex1=re.compile(r\"[Uu]+niversity[ ]?[of]*[ ]?[A-Za-z]*[ ]?[A-Za-z]*[ ]?[A-Za-z]*\" )\n",
    "School_regex2=re.compile(r\"[A-Z][a-z]*[ ]?[A-Za-z]*[ ]?[Uu]+niversity$\")\n",
    "School_regex3=re.compile(r\"[A-Z][a-z]*[ ]?[A-Za-z]*[ ]?[Cc]+ollege$\")\n",
    "\n",
    "for i in syllabus:\n",
    "\n",
    "    cases=i\n",
    "    \n",
    "    if (School_regex1.search(cases)):\n",
    "        \n",
    "        school1=School_regex1.search(cases).group()\n",
    "        School_name.append(school1)\n",
    "        \n",
    "    elif (School_regex2.search(cases)):\n",
    "        \n",
    "        school2=School_regex2.search(cases).group()\n",
    "        School_name.append(school2)\n",
    "        \n",
    "    elif (School_regex3.search(cases)):\n",
    "                \n",
    "        school3=School_regex3.search(cases).group()\n",
    "        School_name.append(school3)\n",
    "    \n",
    "    else:\n",
    "        School_name.append(\"No specific University or college\")\n",
    "\n",
    "print(School_name)\n",
    "print(len(School_name))"
   ]
  },
  {
   "cell_type": "markdown",
   "metadata": {},
   "source": [
    "## Dataframe"
   ]
  },
  {
   "cell_type": "markdown",
   "metadata": {},
   "source": [
    "I set a list to restore data. Then I use for loop to assign data by the-numer-of-file times to it can generate the-numer-of-file rows. With the iteration, \"append()\" add the data into \"syllabus_DF\" line by line. Finally, I set column's names with features' names.\n",
    "\n",
    "Finally, I generate the csv called \"features-retrieved-by-jiyelyu.csv\" that the origional data comes from \"syllabus_DF\"."
   ]
  },
  {
   "cell_type": "code",
   "execution_count": 14,
   "metadata": {},
   "outputs": [
    {
     "data": {
      "text/html": [
       "<div>\n",
       "<style scoped>\n",
       "    .dataframe tbody tr th:only-of-type {\n",
       "        vertical-align: middle;\n",
       "    }\n",
       "\n",
       "    .dataframe tbody tr th {\n",
       "        vertical-align: top;\n",
       "    }\n",
       "\n",
       "    .dataframe thead th {\n",
       "        text-align: right;\n",
       "    }\n",
       "</style>\n",
       "<table border=\"1\" class=\"dataframe\">\n",
       "  <thead>\n",
       "    <tr style=\"text-align: right;\">\n",
       "      <th></th>\n",
       "      <th>Syllabus</th>\n",
       "      <th>Instructor_names</th>\n",
       "      <th>Email_address</th>\n",
       "      <th>Websites</th>\n",
       "      <th>Phone_Number</th>\n",
       "      <th>Text_Book</th>\n",
       "      <th>Office_Hour</th>\n",
       "      <th>Grading</th>\n",
       "      <th>Season,</th>\n",
       "      <th>School_Name</th>\n",
       "    </tr>\n",
       "  </thead>\n",
       "  <tbody>\n",
       "    <tr>\n",
       "      <th>0</th>\n",
       "      <td>82445.pdf</td>\n",
       "      <td>[Instructor:  Thomas L. Brown ]</td>\n",
       "      <td>tom.brown@tamuc.edu</td>\n",
       "      <td>http://csci.website   Communication Resp onse ...</td>\n",
       "      <td>903.886.5409</td>\n",
       "      <td>Textbook Required:</td>\n",
       "      <td>[Hours:  Tue &amp; Thu 9:00  &amp; 11:00  + appointmen...</td>\n",
       "      <td>No grading rules</td>\n",
       "      <td>No specific Season</td>\n",
       "      <td>University Email Address</td>\n",
       "    </tr>\n",
       "    <tr>\n",
       "      <th>1</th>\n",
       "      <td>ARTS 007 (Canvas).pdf</td>\n",
       "      <td>[Instructor:  Charlie ]</td>\n",
       "      <td>caitken@pacific.edu</td>\n",
       "      <td>http://www.paciÞc.edu</td>\n",
       "      <td>916.549.8782</td>\n",
       "      <td>No textbook required</td>\n",
       "      <td>[Hours:  , Hours: before/after class or by app...</td>\n",
       "      <td>[  TENTATIVE CLASS EXERCISES AND PROJECTS 100%...</td>\n",
       "      <td>Fall</td>\n",
       "      <td>University of the Pacific</td>\n",
       "    </tr>\n",
       "    <tr>\n",
       "      <th>2</th>\n",
       "      <td>CS 3200_5200_ Theoretical Foundations of Compu...</td>\n",
       "      <td>[Instructor: Professor Guozhu Dong   Office]</td>\n",
       "      <td>guozhu.dong@wright.edu</td>\n",
       "      <td>https://corescholar.libraries.wright.edu</td>\n",
       "      <td>(2012).</td>\n",
       "      <td>No textbook required</td>\n",
       "      <td>[Hours:  4:30  5:25 T Th. I will be ple ased t...</td>\n",
       "      <td>[   90%,    80%,    89%,    70%,    79%,    60...</td>\n",
       "      <td>Fall</td>\n",
       "      <td>University Wright State University</td>\n",
       "    </tr>\n",
       "    <tr>\n",
       "      <th>3</th>\n",
       "      <td>CS 59000-CGS-Syllabus 2020.pdf</td>\n",
       "      <td>[Instructor:     Bedrich Benes   Timeslot]</td>\n",
       "      <td>bbenes@purdue.edu</td>\n",
       "      <td>No website</td>\n",
       "      <td>(1)     2   3</td>\n",
       "      <td>No textbook required</td>\n",
       "      <td>[Hours:   3 .     Procedural modeling in compu...</td>\n",
       "      <td>[5%, 5%, 5%, 30%, 5%, 10%, 10%, 10%, 10%, 10%,...</td>\n",
       "      <td>Spring</td>\n",
       "      <td>No specific University or college</td>\n",
       "    </tr>\n",
       "    <tr>\n",
       "      <th>4</th>\n",
       "      <td>syllabus 4.pdf</td>\n",
       "      <td>[Instructor:   Sandhya Patlolla   Email, Instr...</td>\n",
       "      <td>No email address</td>\n",
       "      <td>https://usfca.zoom.us/j/5104591402     Course ...</td>\n",
       "      <td>01 - 25 - 21</td>\n",
       "      <td>textbook closel y.</td>\n",
       "      <td>No offic hours</td>\n",
       "      <td>[  10%,  0%,  0%,  20%,      20%,  100%,    10...</td>\n",
       "      <td>Spring</td>\n",
       "      <td>No specific University or college</td>\n",
       "    </tr>\n",
       "  </tbody>\n",
       "</table>\n",
       "</div>"
      ],
      "text/plain": [
       "                                            Syllabus  \\\n",
       "0                                          82445.pdf   \n",
       "1                              ARTS 007 (Canvas).pdf   \n",
       "2  CS 3200_5200_ Theoretical Foundations of Compu...   \n",
       "3                     CS 59000-CGS-Syllabus 2020.pdf   \n",
       "4                                     syllabus 4.pdf   \n",
       "\n",
       "                                    Instructor_names           Email_address  \\\n",
       "0                    [Instructor:  Thomas L. Brown ]     tom.brown@tamuc.edu   \n",
       "1                            [Instructor:  Charlie ]     caitken@pacific.edu   \n",
       "2       [Instructor: Professor Guozhu Dong   Office]  guozhu.dong@wright.edu   \n",
       "3         [Instructor:     Bedrich Benes   Timeslot]       bbenes@purdue.edu   \n",
       "4  [Instructor:   Sandhya Patlolla   Email, Instr...        No email address   \n",
       "\n",
       "                                            Websites       Phone_Number  \\\n",
       "0  http://csci.website   Communication Resp onse ...     903.886.5409     \n",
       "1                              http://www.paciÞc.edu       916.549.8782   \n",
       "2           https://corescholar.libraries.wright.edu           (2012).    \n",
       "3                                         No website      (1)     2   3   \n",
       "4  https://usfca.zoom.us/j/5104591402     Course ...    01 - 25 - 21      \n",
       "\n",
       "              Text_Book                                        Office_Hour  \\\n",
       "0    Textbook Required:  [Hours:  Tue & Thu 9:00  & 11:00  + appointmen...   \n",
       "1  No textbook required  [Hours:  , Hours: before/after class or by app...   \n",
       "2  No textbook required  [Hours:  4:30  5:25 T Th. I will be ple ased t...   \n",
       "3  No textbook required  [Hours:   3 .     Procedural modeling in compu...   \n",
       "4    textbook closel y.                                     No offic hours   \n",
       "\n",
       "                                             Grading             Season,  \\\n",
       "0                                   No grading rules  No specific Season   \n",
       "1  [  TENTATIVE CLASS EXERCISES AND PROJECTS 100%...                Fall   \n",
       "2  [   90%,    80%,    89%,    70%,    79%,    60...                Fall   \n",
       "3  [5%, 5%, 5%, 30%, 5%, 10%, 10%, 10%, 10%, 10%,...              Spring   \n",
       "4  [  10%,  0%,  0%,  20%,      20%,  100%,    10...              Spring   \n",
       "\n",
       "                          School_Name  \n",
       "0            University Email Address  \n",
       "1          University of the Pacific   \n",
       "2  University Wright State University  \n",
       "3   No specific University or college  \n",
       "4   No specific University or college  "
      ]
     },
     "execution_count": 14,
     "metadata": {},
     "output_type": "execute_result"
    }
   ],
   "source": [
    "import pandas as pd\n",
    "datalist=[]\n",
    "for i in range(len(syllabus_name)):\n",
    "    feature1=syllabus_name[i]\n",
    "    feature2=Instructor_names[i]\n",
    "    feature3=Emails[i]\n",
    "    feature4=Websites[i]\n",
    "    feature5=Phone[i]\n",
    "    feature6=Text_book[i]\n",
    "    feature7=Office[i]\n",
    "    feature8=Grade[i]\n",
    "    feature9=Season[i]\n",
    "    feature10=School_name[i]\n",
    "    \n",
    "    datalist.append([feature1, feature2, feature3,feature4,feature5,feature6,feature7,feature8,feature9,feature10])\n",
    "    \n",
    "syllabus_DF=pd.DataFrame(datalist,columns=['Syllabus','Instructor_names','Email_address','Websites','Phone_Number','Text_Book',\n",
    "                                            'Office_Hour','Grading','Season,','School_Name'])\n",
    "\n",
    "syllabus_DF.head(5)"
   ]
  },
  {
   "cell_type": "code",
   "execution_count": 15,
   "metadata": {},
   "outputs": [],
   "source": [
    "syllabus_DF.to_csv(\"features-retrieved-by-jiyelyu.csv\",index=False,sep=',')"
   ]
  }
 ],
 "metadata": {
  "kernelspec": {
   "display_name": "Python 3",
   "language": "python",
   "name": "python3"
  },
  "language_info": {
   "codemirror_mode": {
    "name": "ipython",
    "version": 3
   },
   "file_extension": ".py",
   "mimetype": "text/x-python",
   "name": "python",
   "nbconvert_exporter": "python",
   "pygments_lexer": "ipython3",
   "version": "3.8.5"
  },
  "toc": {
   "base_numbering": 1,
   "nav_menu": {},
   "number_sections": true,
   "sideBar": true,
   "skip_h1_title": false,
   "title_cell": "Table of Contents",
   "title_sidebar": "Contents",
   "toc_cell": false,
   "toc_position": {
    "height": "calc(100% - 180px)",
    "left": "10px",
    "top": "150px",
    "width": "349.087px"
   },
   "toc_section_display": true,
   "toc_window_display": true
  }
 },
 "nbformat": 4,
 "nbformat_minor": 4
}
