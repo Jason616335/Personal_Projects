{
 "cells": [
  {
   "cell_type": "markdown",
   "metadata": {},
   "source": [
    "# HW Week 1) Human Resources and Candidate Search"
   ]
  },
  {
   "cell_type": "markdown",
   "metadata": {},
   "source": [
    "***Data Wrangling***\n",
    "\n",
    "***Professor: Dana Nehora***\n",
    "\n",
    "***01/21/2021***\n",
    "\n",
    "***Student: Jiye Lyu***"
   ]
  },
  {
   "cell_type": "markdown",
   "metadata": {},
   "source": [
    "# Explaination of data source\n",
    "I get all of the resumes from the following websites. I can make sure to have fictitious names and no two people can have same (nor even similar) resumes submitted.\n",
    "\n",
    "https://zety.com/resume-examples\n",
    "\n",
    "https://workalpha.com/resume-samples/\n",
    "\n",
    "https://365datascience.com/bi-analyst-resume-sample/\n",
    "\n",
    "https://www.monster.com/career-advice/cover-letter-resume/resume-samples"
   ]
  },
  {
   "cell_type": "markdown",
   "metadata": {},
   "source": [
    "# The steps made to achieve my result"
   ]
  },
  {
   "cell_type": "markdown",
   "metadata": {},
   "source": [
    "## Read job description to gather required skills.\n",
    "**First**: I read the job description that I wrote on my computer and name it as **\"job_description.txt\"**.\n",
    "\n",
    "**Second**: I get skill requiremets from it and make the whole line into a sliced list with 9 strings.The name of the new list is **\"required_skills\"** I know the which line does it locate, so when count=3, I append it on list **\"required_skills\"**.\n"
   ]
  },
  {
   "cell_type": "code",
   "execution_count": 1,
   "metadata": {
    "scrolled": false
   },
   "outputs": [
    {
     "name": "stdout",
     "output_type": "stream",
     "text": [
      "['Python', 'SQL', 'C++', 'Java', 'design', 'bachelor', 'master', 'Bachelor', 'Master']\n"
     ]
    }
   ],
   "source": [
    "job_description_path =\"C:\\\\Users\\\\61633\\\\Desktop\\\\Data_W_HW1\\\\Resume_files\\\\Job_description.txt\"\n",
    "count=0\n",
    "required_skills=[]\n",
    "with open (job_description_path,\"r\", encoding='UTF-8') as job_description:\n",
    "    for line in job_description:\n",
    "        if count==3:\n",
    "            required_skills=line\n",
    "        count+=1\n",
    "required_skills=required_skills.split(\",\",9)\n",
    "print(required_skills)"
   ]
  },
  {
   "cell_type": "markdown",
   "metadata": {},
   "source": [
    "## Read csv and clean it up to get candidates' names and resumes' names."
   ]
  },
  {
   "cell_type": "markdown",
   "metadata": {},
   "source": [
    "The following \"csv\" doucment was created before. It contains candidates' names and resumes. names. So I use dataframe function to get name list.\n",
    "\n",
    "**Firsr** : Read csv doucment."
   ]
  },
  {
   "cell_type": "code",
   "execution_count": 2,
   "metadata": {},
   "outputs": [
    {
     "name": "stdout",
     "output_type": "stream",
     "text": [
      "               header         Unnamed: 1\n",
      "0              header                NaN\n",
      "1              header                NaN\n",
      "2                Name               File\n",
      "3        Damien Smith       Damien Smith\n",
      "4           DAN CLARK          DAN CLARK\n",
      "5     DWIGHT KAVANAGH    DWIGHT KAVANAGH\n",
      "6        Emily Carter       Emily Carter\n",
      "7      Molly McKenzie     Molly McKenzie\n",
      "8         George Dann        George Dann\n",
      "9         Jacky Smith        Jacky Smith\n",
      "10   Jimmie D. Brooke   Jimmie D. Brooke\n",
      "11      KAREN PHILIPS      KAREN PHILIPS\n",
      "12     Lily Fullerton     Lily Fullerton\n",
      "13         Malik Rabb         Malik Rabb\n",
      "14       Phil Roberts       Phil Roberts\n",
      "15       Sherry Alish       Sherry Alish\n",
      "16       Sofia Flores       Sofia Flores\n",
      "17  William Applicant  William Applicant\n",
      "18              ???we            missing\n"
     ]
    }
   ],
   "source": [
    "import pandas as pd\n",
    "candidates_info=pd.read_csv(\"C:\\\\Users\\\\61633\\\\Desktop\\\\Data_W_HW1\\\\Resume_files\\\\Candidates.csv\",sep=\",\",encoding='UTF-8')\n",
    "print(candidates_info)"
   ]
  },
  {
   "cell_type": "markdown",
   "metadata": {},
   "source": [
    "**Second** : Get rid of first three blank rows and the last error row"
   ]
  },
  {
   "cell_type": "code",
   "execution_count": 3,
   "metadata": {},
   "outputs": [
    {
     "name": "stdout",
     "output_type": "stream",
     "text": [
      "                 Name               File\n",
      "0        Damien Smith       Damien Smith\n",
      "1           DAN CLARK          DAN CLARK\n",
      "2     DWIGHT KAVANAGH    DWIGHT KAVANAGH\n",
      "3        Emily Carter       Emily Carter\n",
      "4      Molly McKenzie     Molly McKenzie\n",
      "5         George Dann        George Dann\n",
      "6         Jacky Smith        Jacky Smith\n",
      "7    Jimmie D. Brooke   Jimmie D. Brooke\n",
      "8       KAREN PHILIPS      KAREN PHILIPS\n",
      "9      Lily Fullerton     Lily Fullerton\n",
      "10         Malik Rabb         Malik Rabb\n",
      "11       Phil Roberts       Phil Roberts\n",
      "12       Sherry Alish       Sherry Alish\n",
      "13       Sofia Flores       Sofia Flores\n",
      "14  William Applicant  William Applicant\n"
     ]
    }
   ],
   "source": [
    "candidates_info=pd.read_csv(\"C:\\\\Users\\\\61633\\\\Desktop\\\\Data_W_HW1\\\\Resume_files\\\\Candidates.csv\",sep=\",\",encoding='UTF-8',skiprows=3,skipfooter=1,engine='python')\n",
    "print(candidates_info)"
   ]
  },
  {
   "cell_type": "markdown",
   "metadata": {},
   "source": [
    "**Third** : Print the name list"
   ]
  },
  {
   "cell_type": "code",
   "execution_count": 4,
   "metadata": {},
   "outputs": [
    {
     "name": "stdout",
     "output_type": "stream",
     "text": [
      "0          Damien Smith\n",
      "1             DAN CLARK\n",
      "2       DWIGHT KAVANAGH\n",
      "3          Emily Carter\n",
      "4        Molly McKenzie\n",
      "5           George Dann\n",
      "6           Jacky Smith\n",
      "7      Jimmie D. Brooke\n",
      "8         KAREN PHILIPS\n",
      "9        Lily Fullerton\n",
      "10           Malik Rabb\n",
      "11         Phil Roberts\n",
      "12         Sherry Alish\n",
      "13         Sofia Flores\n",
      "14    William Applicant\n",
      "Name: Name, dtype: object\n"
     ]
    }
   ],
   "source": [
    "interviewee_names=(candidates_info.Name)\n",
    "print(interviewee_names)"
   ]
  },
  {
   "cell_type": "markdown",
   "metadata": {},
   "source": [
    "## Build a function to filter useful information in each resume."
   ]
  },
  {
   "cell_type": "markdown",
   "metadata": {},
   "source": [
    "### Build the shell of the function"
   ]
  },
  {
   "cell_type": "markdown",
   "metadata": {},
   "source": [
    "**def** : I make a function called ***simple_interview***. It requires ***resume's path***, ***resumes'names*** and ***required_skills***.To find resumes correctly, I put \"path\", \"\\\\\", \"resume_name\" and \".txt\" together to locate the doucments.\n",
    "\n",
    "**for loop** : Run every single line in resume.\n",
    "\n",
    "**if** : I use ***any(each in line for each in required_skills):*** to judge if the words in line appear in the required_skills list. If so, append it on a new list called ***skill***. And if there is no line meet the condition, just pass it.\n",
    "\n",
    "\n",
    "**Finally**, return skill list and the length of skill list to show whose resume meet the required skills most."
   ]
  },
  {
   "cell_type": "code",
   "execution_count": 5,
   "metadata": {},
   "outputs": [],
   "source": [
    "def simple_interview(path,resume_name,required_skills):\n",
    "\n",
    "    skill=[\"Information that contain Required skills is showing as the following:\"]\n",
    "    with open (path +\"\\\\\"+ resume_name +\".txt\",\"r\", encoding='UTF-8') as resume:\n",
    "    \n",
    "        for line in resume:\n",
    "            if any(each in line for each in required_skills):\n",
    "                skill.append(line)\n",
    "\n",
    "            else:\n",
    "                pass\n",
    "\n",
    "    return skill,len(skill)-1"
   ]
  },
  {
   "cell_type": "markdown",
   "metadata": {},
   "source": [
    "### Define the resume folder's path"
   ]
  },
  {
   "cell_type": "code",
   "execution_count": 6,
   "metadata": {},
   "outputs": [],
   "source": [
    "path =\"C:\\\\Users\\\\61633\\\\Desktop\\\\Data_W_HW1\\\\Resume_files\" "
   ]
  },
  {
   "cell_type": "markdown",
   "metadata": {},
   "source": [
    "### Get useful information and candidates' names"
   ]
  },
  {
   "cell_type": "markdown",
   "metadata": {},
   "source": [
    "Put every candidates into function to get everyone's resume information. And also put candidate's name in a list called **name_list**. Also put candidates'information into a list called **information**. I catch the second item(**information[i][1]**) of the items in information so that I can judge whose resume meets the requirement most."
   ]
  },
  {
   "cell_type": "code",
   "execution_count": 7,
   "metadata": {
    "scrolled": false
   },
   "outputs": [
    {
     "name": "stdout",
     "output_type": "stream",
     "text": [
      "Damien Smith\n",
      "(['Information that contain Required skills is showing as the following:'], 0) \n",
      "\n",
      "\n",
      "DAN CLARK\n",
      "(['Information that contain Required skills is showing as the following:', 'Out the box thinking Softwore Engineer with expertise din Java, T-SQL, and C#. Net and proven\\n', 'integration problem- solving tenure of 10 years. Skilled in developing systems architeture, writingrequirement specifictions, and user documentation trolning manuals. Holds ต Masters Degree inComputer Science.\\n', 'webinars which resulted in closing deals for the soles teom of more than $500k in value. Received_Sales Solutions Instigotor Award for three years in a row for writing codes to automate salespresentation applictions. Databases: MySQL, 0racle, ccess, SAP\\n', 'Software: Microsoft Ofice, Remedy, Microsoft SQL .Server, DB Artison, Eclipse, Vsuol Studio.NET,FrontPoge\\n', 'Languages: C#, Java, Visual Basic, ASP, XML, XSL, JWS, SQL, and T·SQL\\n', 'Python I\\n', 'Javascript\\n'], 7) \n",
      "\n",
      "\n",
      "DWIGHT KAVANAGH\n",
      "(['Information that contain Required skills is showing as the following:', '      Creating custom SQL queries to extract necessary data\\n'], 1) \n",
      "\n",
      "\n",
      "Emily Carter\n",
      "(['Information that contain Required skills is showing as the following:', \"Highly capable English Teacher with creative instructional demeanor and competence in smartlearning methodologies. A decade of experience teaching elementary grades coupled with aBachelor's Degree in Child Psychology, and certified to teach in any state across the Mid-WestRegion. Very focused on engaging and inspiring students to achieve their ultimate potential.\\n\"], 1) \n",
      "\n",
      "\n",
      "Molly McKenzie\n",
      "(['Information that contain Required skills is showing as the following:'], 0) \n",
      "\n",
      "\n",
      "George Dann\n",
      "(['Information that contain Required skills is showing as the following:'], 0) \n",
      "\n",
      "\n",
      "Jacky Smith\n",
      "(['Information that contain Required skills is showing as the following:', 'New York University, Master of Business Administration\\n'], 1) \n",
      "\n",
      "\n",
      "Jimmie D. Brooke\n",
      "(['Information that contain Required skills is showing as the following:', 'Passionate 3D artist with over 5 years of experience in 3D modeling, rigging, and animation. At CreativeMonk Games designed and defined 20 immersive game settings using 3ds Max tools and ensured project integration on a daily basis. The father of the “Professor R.” animated character, responsible for the character rigging and pre-effects processing in Maya.\\n'], 1) \n",
      "\n",
      "\n",
      "KAREN PHILIPS\n",
      "(['Information that contain Required skills is showing as the following:', 'understanding of modern technologies and best design practices. Experiencedwith WordPress and Drupal. Proven track record of raising UX scores and customerretention.\\n', '. Planning site designs, functionality and navigation, along with audience funnels and\\n'], 2) \n",
      "\n",
      "\n",
      "Lily Fullerton\n",
      "(['Information that contain Required skills is showing as the following:', 'Bachelor of Science in Nursing – Southern Massachusetts University, Boston\\n'], 1) \n",
      "\n",
      "\n",
      "Malik Rabb\n",
      "(['Information that contain Required skills is showing as the following:', 'Data Scientist with strong math background and 3+ years of experience using predictive modeling, data processing, and data mining algorithms to solve challenging business problems. Involved in Python open source community and passionate about deep reinforcement learning.\\n', 'Bachelor of Science in Mathematics\\n', 'Transformed raw data into MySQL with custom-made ETL application to prepare unruly data for machine learning\\n', 'Used Python and Spark to scrape, clean, and analyze large datasets\\n', 'Java, Python, C++, Hadoop ecosystem, and MySQL\\n'], 5) \n",
      "\n",
      "\n",
      "Phil Roberts\n",
      "(['Information that contain Required skills is showing as the following:'], 0) \n",
      "\n",
      "\n",
      "Sherry Alish\n",
      "(['Information that contain Required skills is showing as the following:', 'Creating and efficiently programming software in C++, Java, C, ASP.NET, and SQL\\n', 'Respected Software Engineer with 10+ years’ experience programming and debugging software in a variety of languages including C++, Java, ASP.NET, and SQL, seeks position with a top tech firm.\\n', 'Proficient in C++, J2EE, XML, Windows Server, Unix, and UML\\n', 'Developed company’s current software product using C++ and Java, assisting in design of next release (J2EE); traveling to standard meetings at SNIA SMIS-S to represent Computer Company, and traveling to SNW, a semiannual consumer conference.\\n', 'Developed C++ in Unix and Windows Visual Studio, completing project six months early.\\n', 'Bachelor of Science (Major: Computer Science; Minor: Management), May 2008\\n', 'C++, Java, C, ASP.NET, SQL • MS Visual Studio, Eclipse • JBoss, Tomcat • SQL Server, MySQL\\n'], 7) \n",
      "\n",
      "\n",
      "Sofia Flores\n",
      "(['Information that contain Required skills is showing as the following:', 'Organized and practical Electrical Engineer with 3+ years of experience in PCB design and testing. Skilled in LabVIEW and FPGA.\\n', 'Bachelor of Science in Electrical Engineering\\n', 'Work on printed circuit board (PCB) design and layout\\n', 'Contributed to design of microprocessor for major project that generated 8% revenue increase after deployment\\n', 'Gained experience with both analog and digital circuit design, including VHDL/Verilog and Bluetooth design\\n', 'Electrical drafting & circuit design\\n', 'C/C++ & LabVIEW'], 7) \n",
      "\n",
      "\n",
      "William Applicant\n",
      "(['Information that contain Required skills is showing as the following:', 'Master of Business Administration (Specialization: Marketing) 2018\\n', 'Bachelor of Arts in Business (Major: Marketing; Minor: Business), 2017'], 2) \n",
      "\n",
      "\n",
      "['Damien Smith', 'DAN CLARK', 'DWIGHT KAVANAGH', 'Emily Carter', 'Molly McKenzie', 'George Dann', 'Jacky Smith', 'Jimmie D. Brooke', 'KAREN PHILIPS', 'Lily Fullerton', 'Malik Rabb', 'Phil Roberts', 'Sherry Alish', 'Sofia Flores', 'William Applicant']\n"
     ]
    }
   ],
   "source": [
    "name_list=[]\n",
    "information=[]\n",
    "Times=[]\n",
    "for i in interviewee_names:\n",
    "    print(i)\n",
    "    result=simple_interview(path,i,required_skills)\n",
    "    print(result,\"\\n\\n\")\n",
    "    name_list.append(i)\n",
    "    information.append(result)\n",
    "\n",
    "for i in range(len(interviewee_names)):\n",
    "    Times.append(information[i][1])\n",
    "    \n",
    "print(name_list)"
   ]
  },
  {
   "cell_type": "code",
   "execution_count": 8,
   "metadata": {},
   "outputs": [
    {
     "name": "stdout",
     "output_type": "stream",
     "text": [
      "[0, 7, 1, 1, 0, 0, 1, 1, 2, 1, 5, 0, 7, 7, 2]\n"
     ]
    }
   ],
   "source": [
    "print(Times)"
   ]
  },
  {
   "cell_type": "markdown",
   "metadata": {},
   "source": [
    "## Build a dataframe called \"ToInterview\"."
   ]
  },
  {
   "cell_type": "markdown",
   "metadata": {},
   "source": [
    "**DataFrame**: Now after getting \"name_list\" and \"Times\", I build a dataframe to show all of them.\n",
    "\n",
    "**order**: Then I  arrange them in descending order and show head(n=5)."
   ]
  },
  {
   "cell_type": "code",
   "execution_count": 9,
   "metadata": {},
   "outputs": [
    {
     "name": "stdout",
     "output_type": "stream",
     "text": [
      "             Name  Skill matching time\n",
      "1       DAN CLARK                    7\n",
      "12   Sherry Alish                    7\n",
      "13   Sofia Flores                    7\n",
      "10     Malik Rabb                    5\n",
      "8   KAREN PHILIPS                    2\n"
     ]
    }
   ],
   "source": [
    "ToInterview=pd.DataFrame({'Name':name_list,'Skill matching time':Times})\n",
    "\n",
    "ToInterview=ToInterview.sort_values(by='Skill matching time',ascending=False).head(n=5)\n",
    "print(ToInterview)"
   ]
  },
  {
   "cell_type": "markdown",
   "metadata": {},
   "source": [
    "## Build an CSV document output called \"ToInterview\"."
   ]
  },
  {
   "cell_type": "code",
   "execution_count": 10,
   "metadata": {},
   "outputs": [],
   "source": [
    "ToInterview.to_csv(\"ToInterview.csv\",index=False,sep=',')"
   ]
  },
  {
   "cell_type": "code",
   "execution_count": 11,
   "metadata": {},
   "outputs": [
    {
     "data": {
      "text/html": [
       "<div>\n",
       "<style scoped>\n",
       "    .dataframe tbody tr th:only-of-type {\n",
       "        vertical-align: middle;\n",
       "    }\n",
       "\n",
       "    .dataframe tbody tr th {\n",
       "        vertical-align: top;\n",
       "    }\n",
       "\n",
       "    .dataframe thead th {\n",
       "        text-align: right;\n",
       "    }\n",
       "</style>\n",
       "<table border=\"1\" class=\"dataframe\">\n",
       "  <thead>\n",
       "    <tr style=\"text-align: right;\">\n",
       "      <th></th>\n",
       "      <th>Name</th>\n",
       "      <th>Skill matching time</th>\n",
       "    </tr>\n",
       "  </thead>\n",
       "  <tbody>\n",
       "    <tr>\n",
       "      <th>0</th>\n",
       "      <td>DAN CLARK</td>\n",
       "      <td>7</td>\n",
       "    </tr>\n",
       "    <tr>\n",
       "      <th>1</th>\n",
       "      <td>Sherry Alish</td>\n",
       "      <td>7</td>\n",
       "    </tr>\n",
       "    <tr>\n",
       "      <th>2</th>\n",
       "      <td>Sofia Flores</td>\n",
       "      <td>7</td>\n",
       "    </tr>\n",
       "    <tr>\n",
       "      <th>3</th>\n",
       "      <td>Malik Rabb</td>\n",
       "      <td>5</td>\n",
       "    </tr>\n",
       "    <tr>\n",
       "      <th>4</th>\n",
       "      <td>KAREN PHILIPS</td>\n",
       "      <td>2</td>\n",
       "    </tr>\n",
       "  </tbody>\n",
       "</table>\n",
       "</div>"
      ],
      "text/plain": [
       "            Name  Skill matching time\n",
       "0      DAN CLARK                    7\n",
       "1   Sherry Alish                    7\n",
       "2   Sofia Flores                    7\n",
       "3     Malik Rabb                    5\n",
       "4  KAREN PHILIPS                    2"
      ]
     },
     "execution_count": 11,
     "metadata": {},
     "output_type": "execute_result"
    }
   ],
   "source": [
    "View=pd.read_csv(\"ToInterview.csv\")\n",
    "View"
   ]
  },
  {
   "cell_type": "markdown",
   "metadata": {},
   "source": [
    "At the end I strongly suggest the \"DataData\" company hire \n",
    "\n",
    "**DAN CLARK**, \n",
    "\n",
    "**Sherry Alish**, \n",
    "\n",
    "**Sofia Flores**,\n",
    "\n",
    "**Malik Rabb**，\n",
    "\n",
    "**KAREN PHILIPS** \n",
    "\n",
    "among these 15 candidates to fit the data scientist\tposition."
   ]
  }
 ],
 "metadata": {
  "kernelspec": {
   "display_name": "Python 3",
   "language": "python",
   "name": "python3"
  },
  "language_info": {
   "codemirror_mode": {
    "name": "ipython",
    "version": 3
   },
   "file_extension": ".py",
   "mimetype": "text/x-python",
   "name": "python",
   "nbconvert_exporter": "python",
   "pygments_lexer": "ipython3",
   "version": "3.8.5"
  },
  "toc": {
   "base_numbering": 1,
   "nav_menu": {},
   "number_sections": true,
   "sideBar": true,
   "skip_h1_title": false,
   "title_cell": "Table of Contents",
   "title_sidebar": "Contents",
   "toc_cell": false,
   "toc_position": {},
   "toc_section_display": true,
   "toc_window_display": false
  }
 },
 "nbformat": 4,
 "nbformat_minor": 4
}
