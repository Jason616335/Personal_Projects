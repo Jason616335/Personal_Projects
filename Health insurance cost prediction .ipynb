{
 "cells": [
  {
   "cell_type": "markdown",
   "metadata": {},
   "source": [
    "# Project 1 - Project Preparation Health insurance cost pediction\n",
    "## Jiye Lyu, Jie Guo and Ting-Chun Liao"
   ]
  },
  {
   "cell_type": "markdown",
   "metadata": {},
   "source": [
    " [2.Objective of the Proposed Research](#jump1)"
   ]
  },
  {
   "cell_type": "markdown",
   "metadata": {},
   "source": [
    " [3.Data Exploration](#jump2)"
   ]
  },
  {
   "cell_type": "markdown",
   "metadata": {},
   "source": [
    " [4.Data cleaning](#jump3)"
   ]
  },
  {
   "cell_type": "markdown",
   "metadata": {},
   "source": [
    " [5.Adaption](#jump5)"
   ]
  },
  {
   "cell_type": "markdown",
   "metadata": {},
   "source": [
    " [6.Describe visualization](#jump6)"
   ]
  },
  {
   "cell_type": "markdown",
   "metadata": {},
   "source": [
    " [6.1 Visualization 1](#jump7)"
   ]
  },
  {
   "cell_type": "markdown",
   "metadata": {},
   "source": [
    " [6.2 Visualization 2](#jump8)"
   ]
  },
  {
   "cell_type": "markdown",
   "metadata": {},
   "source": [
    " [6.3 Visualization 3](#jump9)"
   ]
  },
  {
   "cell_type": "markdown",
   "metadata": {},
   "source": [
    " [6.4 Visualization 4](#jump10)"
   ]
  },
  {
   "cell_type": "markdown",
   "metadata": {},
   "source": [
    " [7. Explore correlations](#jump11)"
   ]
  },
  {
   "cell_type": "markdown",
   "metadata": {},
   "source": [
    " [8. Response Variable](#jump12)"
   ]
  },
  {
   "cell_type": "markdown",
   "metadata": {},
   "source": [
    " [9. Simple Liner Regression](#jump13)"
   ]
  },
  {
   "cell_type": "markdown",
   "metadata": {},
   "source": [
    " [10. Multiple Regression](#jump14)"
   ]
  },
  {
   "cell_type": "markdown",
   "metadata": {},
   "source": [
    " [11. Project Report](#jump15)"
   ]
  },
  {
   "cell_type": "markdown",
   "metadata": {},
   "source": [
    "# Objective of the Proposed Research\n",
    " <span id=\"jump1\"> </span>"
   ]
  },
  {
   "cell_type": "markdown",
   "metadata": {},
   "source": [
    "Our stakeholder is a health insurance company. It consults us to make a prediction in personal medical insurance costs. The company gives us a data set that includes some basic information. We can get people's age, gender, BMI index, region, and charges. Besides, we can also know if he or she is a smoker and how many children does he or she has.\n",
    "We think that we can make a module based on the least-square module to get a forecast. But first, we need to find which variables are valuable in this data set. Then we can add variables into the module to find which variable has potential value.\n",
    "Finally, we can compare the least square error with each other to find the best fit module in this data set. So we can make a prediction on personal insurance costs by age, BMI and other variables."
   ]
  },
  {
   "cell_type": "code",
   "execution_count": 1,
   "metadata": {},
   "outputs": [],
   "source": [
    "data <- read.csv(\"insurance.csv\")"
   ]
  },
  {
   "cell_type": "markdown",
   "metadata": {},
   "source": [
    "# Data Exploration\n",
    " <span id=\"jump2\">  </span>"
   ]
  },
  {
   "cell_type": "markdown",
   "metadata": {},
   "source": [
    "## Show top 10 rows"
   ]
  },
  {
   "cell_type": "code",
   "execution_count": 2,
   "metadata": {},
   "outputs": [
    {
     "data": {
      "text/html": [
       "<table>\n",
       "<thead><tr><th scope=col>age</th><th scope=col>sex</th><th scope=col>bmi</th><th scope=col>children</th><th scope=col>smoker</th><th scope=col>region</th><th scope=col>charges</th></tr></thead>\n",
       "<tbody>\n",
       "\t<tr><td>19       </td><td>female   </td><td>27.900   </td><td>0        </td><td>yes      </td><td>southwest</td><td>16884.924</td></tr>\n",
       "\t<tr><td>18       </td><td>male     </td><td>33.770   </td><td>1        </td><td>no       </td><td>southeast</td><td> 1725.552</td></tr>\n",
       "\t<tr><td>28       </td><td>male     </td><td>33.000   </td><td>3        </td><td>no       </td><td>southeast</td><td> 4449.462</td></tr>\n",
       "\t<tr><td>33       </td><td>male     </td><td>22.705   </td><td>0        </td><td>no       </td><td>northwest</td><td>21984.471</td></tr>\n",
       "\t<tr><td>32       </td><td>male     </td><td>28.880   </td><td>0        </td><td>no       </td><td>northwest</td><td> 3866.855</td></tr>\n",
       "\t<tr><td>31       </td><td>female   </td><td>25.740   </td><td>0        </td><td>no       </td><td>southeast</td><td> 3756.622</td></tr>\n",
       "\t<tr><td>46       </td><td>female   </td><td>33.440   </td><td>1        </td><td>no       </td><td>southeast</td><td> 8240.590</td></tr>\n",
       "\t<tr><td>37       </td><td>female   </td><td>27.740   </td><td>3        </td><td>no       </td><td>northwest</td><td> 7281.506</td></tr>\n",
       "\t<tr><td>37       </td><td>male     </td><td>29.830   </td><td>2        </td><td>no       </td><td>northeast</td><td> 6406.411</td></tr>\n",
       "\t<tr><td>60       </td><td>female   </td><td>25.840   </td><td>0        </td><td>no       </td><td>northwest</td><td>28923.137</td></tr>\n",
       "</tbody>\n",
       "</table>\n"
      ],
      "text/latex": [
       "\\begin{tabular}{r|lllllll}\n",
       " age & sex & bmi & children & smoker & region & charges\\\\\n",
       "\\hline\n",
       "\t 19        & female    & 27.900    & 0         & yes       & southwest & 16884.924\\\\\n",
       "\t 18        & male      & 33.770    & 1         & no        & southeast &  1725.552\\\\\n",
       "\t 28        & male      & 33.000    & 3         & no        & southeast &  4449.462\\\\\n",
       "\t 33        & male      & 22.705    & 0         & no        & northwest & 21984.471\\\\\n",
       "\t 32        & male      & 28.880    & 0         & no        & northwest &  3866.855\\\\\n",
       "\t 31        & female    & 25.740    & 0         & no        & southeast &  3756.622\\\\\n",
       "\t 46        & female    & 33.440    & 1         & no        & southeast &  8240.590\\\\\n",
       "\t 37        & female    & 27.740    & 3         & no        & northwest &  7281.506\\\\\n",
       "\t 37        & male      & 29.830    & 2         & no        & northeast &  6406.411\\\\\n",
       "\t 60        & female    & 25.840    & 0         & no        & northwest & 28923.137\\\\\n",
       "\\end{tabular}\n"
      ],
      "text/markdown": [
       "\n",
       "| age | sex | bmi | children | smoker | region | charges |\n",
       "|---|---|---|---|---|---|---|\n",
       "| 19        | female    | 27.900    | 0         | yes       | southwest | 16884.924 |\n",
       "| 18        | male      | 33.770    | 1         | no        | southeast |  1725.552 |\n",
       "| 28        | male      | 33.000    | 3         | no        | southeast |  4449.462 |\n",
       "| 33        | male      | 22.705    | 0         | no        | northwest | 21984.471 |\n",
       "| 32        | male      | 28.880    | 0         | no        | northwest |  3866.855 |\n",
       "| 31        | female    | 25.740    | 0         | no        | southeast |  3756.622 |\n",
       "| 46        | female    | 33.440    | 1         | no        | southeast |  8240.590 |\n",
       "| 37        | female    | 27.740    | 3         | no        | northwest |  7281.506 |\n",
       "| 37        | male      | 29.830    | 2         | no        | northeast |  6406.411 |\n",
       "| 60        | female    | 25.840    | 0         | no        | northwest | 28923.137 |\n",
       "\n"
      ],
      "text/plain": [
       "   age sex    bmi    children smoker region    charges  \n",
       "1  19  female 27.900 0        yes    southwest 16884.924\n",
       "2  18  male   33.770 1        no     southeast  1725.552\n",
       "3  28  male   33.000 3        no     southeast  4449.462\n",
       "4  33  male   22.705 0        no     northwest 21984.471\n",
       "5  32  male   28.880 0        no     northwest  3866.855\n",
       "6  31  female 25.740 0        no     southeast  3756.622\n",
       "7  46  female 33.440 1        no     southeast  8240.590\n",
       "8  37  female 27.740 3        no     northwest  7281.506\n",
       "9  37  male   29.830 2        no     northeast  6406.411\n",
       "10 60  female 25.840 0        no     northwest 28923.137"
      ]
     },
     "metadata": {},
     "output_type": "display_data"
    }
   ],
   "source": [
    "head(data,n=10)"
   ]
  },
  {
   "cell_type": "markdown",
   "metadata": {},
   "source": [
    "## Show dimension"
   ]
  },
  {
   "cell_type": "code",
   "execution_count": 3,
   "metadata": {},
   "outputs": [
    {
     "data": {
      "text/html": [
       "<ol class=list-inline>\n",
       "\t<li>1338</li>\n",
       "\t<li>7</li>\n",
       "</ol>\n"
      ],
      "text/latex": [
       "\\begin{enumerate*}\n",
       "\\item 1338\n",
       "\\item 7\n",
       "\\end{enumerate*}\n"
      ],
      "text/markdown": [
       "1. 1338\n",
       "2. 7\n",
       "\n",
       "\n"
      ],
      "text/plain": [
       "[1] 1338    7"
      ]
     },
     "metadata": {},
     "output_type": "display_data"
    }
   ],
   "source": [
    "dim(data)"
   ]
  },
  {
   "cell_type": "markdown",
   "metadata": {},
   "source": [
    "## Show structure"
   ]
  },
  {
   "cell_type": "code",
   "execution_count": 4,
   "metadata": {},
   "outputs": [
    {
     "name": "stdout",
     "output_type": "stream",
     "text": [
      "'data.frame':\t1338 obs. of  7 variables:\n",
      " $ age     : int  19 18 28 33 32 31 46 37 37 60 ...\n",
      " $ sex     : Factor w/ 2 levels \"female\",\"male\": 1 2 2 2 2 1 1 1 2 1 ...\n",
      " $ bmi     : num  27.9 33.8 33 22.7 28.9 ...\n",
      " $ children: int  0 1 3 0 0 0 1 3 2 0 ...\n",
      " $ smoker  : Factor w/ 2 levels \"no\",\"yes\": 2 1 1 1 1 1 1 1 1 1 ...\n",
      " $ region  : Factor w/ 4 levels \"northeast\",\"northwest\",..: 4 3 3 2 2 3 3 2 1 2 ...\n",
      " $ charges : num  16885 1726 4449 21984 3867 ...\n"
     ]
    }
   ],
   "source": [
    "str(data)"
   ]
  },
  {
   "cell_type": "markdown",
   "metadata": {},
   "source": [
    "## Show summary"
   ]
  },
  {
   "cell_type": "code",
   "execution_count": 5,
   "metadata": {},
   "outputs": [
    {
     "data": {
      "text/plain": [
       "      age            sex           bmi           children     smoker    \n",
       " Min.   :18.00   female:662   Min.   :15.96   Min.   :0.000   no :1064  \n",
       " 1st Qu.:27.00   male  :676   1st Qu.:26.30   1st Qu.:0.000   yes: 274  \n",
       " Median :39.00                Median :30.40   Median :1.000             \n",
       " Mean   :39.21                Mean   :30.66   Mean   :1.095             \n",
       " 3rd Qu.:51.00                3rd Qu.:34.69   3rd Qu.:2.000             \n",
       " Max.   :64.00                Max.   :53.13   Max.   :5.000             \n",
       "       region       charges     \n",
       " northeast:324   Min.   : 1122  \n",
       " northwest:325   1st Qu.: 4740  \n",
       " southeast:364   Median : 9382  \n",
       " southwest:325   Mean   :13270  \n",
       "                 3rd Qu.:16640  \n",
       "                 Max.   :63770  "
      ]
     },
     "metadata": {},
     "output_type": "display_data"
    }
   ],
   "source": [
    "summary(data)"
   ]
  },
  {
   "cell_type": "markdown",
   "metadata": {},
   "source": [
    "# Data Cleaning\n",
    " <span id=\"jump3\">  </span>"
   ]
  },
  {
   "cell_type": "markdown",
   "metadata": {},
   "source": [
    "We need the numeric value to make linear regression. So we think that we can delete the \"Sex\" and \"Region\" columns temporarily when we make the liner regression module. This data set called data_1."
   ]
  },
  {
   "cell_type": "code",
   "execution_count": 6,
   "metadata": {},
   "outputs": [
    {
     "data": {
      "text/html": [
       "<table>\n",
       "<thead><tr><th scope=col>Age</th><th scope=col>BMI</th><th scope=col>Children</th><th scope=col>Charges</th></tr></thead>\n",
       "<tbody>\n",
       "\t<tr><td>19       </td><td>27.900   </td><td>0        </td><td>16884.924</td></tr>\n",
       "\t<tr><td>18       </td><td>33.770   </td><td>1        </td><td> 1725.552</td></tr>\n",
       "\t<tr><td>28       </td><td>33.000   </td><td>3        </td><td> 4449.462</td></tr>\n",
       "\t<tr><td>33       </td><td>22.705   </td><td>0        </td><td>21984.471</td></tr>\n",
       "\t<tr><td>32       </td><td>28.880   </td><td>0        </td><td> 3866.855</td></tr>\n",
       "\t<tr><td>31       </td><td>25.740   </td><td>0        </td><td> 3756.622</td></tr>\n",
       "\t<tr><td>46       </td><td>33.440   </td><td>1        </td><td> 8240.590</td></tr>\n",
       "\t<tr><td>37       </td><td>27.740   </td><td>3        </td><td> 7281.506</td></tr>\n",
       "\t<tr><td>37       </td><td>29.830   </td><td>2        </td><td> 6406.411</td></tr>\n",
       "\t<tr><td>60       </td><td>25.840   </td><td>0        </td><td>28923.137</td></tr>\n",
       "</tbody>\n",
       "</table>\n"
      ],
      "text/latex": [
       "\\begin{tabular}{r|llll}\n",
       " Age & BMI & Children & Charges\\\\\n",
       "\\hline\n",
       "\t 19        & 27.900    & 0         & 16884.924\\\\\n",
       "\t 18        & 33.770    & 1         &  1725.552\\\\\n",
       "\t 28        & 33.000    & 3         &  4449.462\\\\\n",
       "\t 33        & 22.705    & 0         & 21984.471\\\\\n",
       "\t 32        & 28.880    & 0         &  3866.855\\\\\n",
       "\t 31        & 25.740    & 0         &  3756.622\\\\\n",
       "\t 46        & 33.440    & 1         &  8240.590\\\\\n",
       "\t 37        & 27.740    & 3         &  7281.506\\\\\n",
       "\t 37        & 29.830    & 2         &  6406.411\\\\\n",
       "\t 60        & 25.840    & 0         & 28923.137\\\\\n",
       "\\end{tabular}\n"
      ],
      "text/markdown": [
       "\n",
       "| Age | BMI | Children | Charges |\n",
       "|---|---|---|---|\n",
       "| 19        | 27.900    | 0         | 16884.924 |\n",
       "| 18        | 33.770    | 1         |  1725.552 |\n",
       "| 28        | 33.000    | 3         |  4449.462 |\n",
       "| 33        | 22.705    | 0         | 21984.471 |\n",
       "| 32        | 28.880    | 0         |  3866.855 |\n",
       "| 31        | 25.740    | 0         |  3756.622 |\n",
       "| 46        | 33.440    | 1         |  8240.590 |\n",
       "| 37        | 27.740    | 3         |  7281.506 |\n",
       "| 37        | 29.830    | 2         |  6406.411 |\n",
       "| 60        | 25.840    | 0         | 28923.137 |\n",
       "\n"
      ],
      "text/plain": [
       "   Age BMI    Children Charges  \n",
       "1  19  27.900 0        16884.924\n",
       "2  18  33.770 1         1725.552\n",
       "3  28  33.000 3         4449.462\n",
       "4  33  22.705 0        21984.471\n",
       "5  32  28.880 0         3866.855\n",
       "6  31  25.740 0         3756.622\n",
       "7  46  33.440 1         8240.590\n",
       "8  37  27.740 3         7281.506\n",
       "9  37  29.830 2         6406.411\n",
       "10 60  25.840 0        28923.137"
      ]
     },
     "metadata": {},
     "output_type": "display_data"
    }
   ],
   "source": [
    "data_1<- data.frame('Age'=data$age,'BMI'=data$bmi,'Children'=data$children,'Charges'=data$charges)\n",
    "head(data_1,n=10)"
   ]
  },
  {
   "cell_type": "markdown",
   "metadata": {},
   "source": [
    "# Adaptation\n",
    " <span id=\"jump5\"> </span>"
   ]
  },
  {
   "cell_type": "markdown",
   "metadata": {},
   "source": [
    "We decided to add four columns to the original data set called data :\n",
    " 1. \"Evaluated charge\": It can be used to show the results that module products by the information in the row. We use rep(1,1338) temporarily to replace this column.\n",
    " \n",
    " \n",
    " 2. \"Average.charge.among.smoking.or.not\": This column is the average of charges about smoking people and no smoking people. We use rep(1,1338) temporarily to replace this column.\n",
    " \n",
    " \n",
    " 3. \"Identity\": This column can show what identity he or she is according to age. It could be a teenager(13-17), young people(18-45), middle-aged people(46-69), the aged(69+). We use rep(1,1338) temporarily to replace this column.\n",
    " \n",
    " \n",
    " 4. \"The average charge in different regions\": This column can show the average charges in the specific region. We use rep(1,1338) temporarily to replace this column.\n",
    " \n",
    " \n",
    " 5. \"The average charge in different 'Identity'\": This column can show the average charges in different \"Identity\".We use rep(1,1338) temporarily to replace this column.\n",
    " \n",
    " \n",
    " And the new data set is called data_2."
   ]
  },
  {
   "cell_type": "code",
   "execution_count": 7,
   "metadata": {},
   "outputs": [
    {
     "data": {
      "text/html": [
       "<table>\n",
       "<thead><tr><th scope=col>age</th><th scope=col>sex</th><th scope=col>bmi</th><th scope=col>children</th><th scope=col>smoker</th><th scope=col>region</th><th scope=col>charges</th><th scope=col>Evaluated.Charge</th><th scope=col>Average.charge.among.smoking.or.not</th><th scope=col>Identity</th><th scope=col>The.average.charge.in.different.region</th><th scope=col>The.average.charge.in.different.Identity</th></tr></thead>\n",
       "<tbody>\n",
       "\t<tr><td>19       </td><td>female   </td><td>27.900   </td><td>0        </td><td>yes      </td><td>southwest</td><td>16884.924</td><td>1        </td><td>1        </td><td>1        </td><td>1        </td><td>1        </td></tr>\n",
       "\t<tr><td>18       </td><td>male     </td><td>33.770   </td><td>1        </td><td>no       </td><td>southeast</td><td> 1725.552</td><td>1        </td><td>1        </td><td>1        </td><td>1        </td><td>1        </td></tr>\n",
       "\t<tr><td>28       </td><td>male     </td><td>33.000   </td><td>3        </td><td>no       </td><td>southeast</td><td> 4449.462</td><td>1        </td><td>1        </td><td>1        </td><td>1        </td><td>1        </td></tr>\n",
       "\t<tr><td>33       </td><td>male     </td><td>22.705   </td><td>0        </td><td>no       </td><td>northwest</td><td>21984.471</td><td>1        </td><td>1        </td><td>1        </td><td>1        </td><td>1        </td></tr>\n",
       "\t<tr><td>32       </td><td>male     </td><td>28.880   </td><td>0        </td><td>no       </td><td>northwest</td><td> 3866.855</td><td>1        </td><td>1        </td><td>1        </td><td>1        </td><td>1        </td></tr>\n",
       "\t<tr><td>31       </td><td>female   </td><td>25.740   </td><td>0        </td><td>no       </td><td>southeast</td><td> 3756.622</td><td>1        </td><td>1        </td><td>1        </td><td>1        </td><td>1        </td></tr>\n",
       "\t<tr><td>46       </td><td>female   </td><td>33.440   </td><td>1        </td><td>no       </td><td>southeast</td><td> 8240.590</td><td>1        </td><td>1        </td><td>1        </td><td>1        </td><td>1        </td></tr>\n",
       "\t<tr><td>37       </td><td>female   </td><td>27.740   </td><td>3        </td><td>no       </td><td>northwest</td><td> 7281.506</td><td>1        </td><td>1        </td><td>1        </td><td>1        </td><td>1        </td></tr>\n",
       "\t<tr><td>37       </td><td>male     </td><td>29.830   </td><td>2        </td><td>no       </td><td>northeast</td><td> 6406.411</td><td>1        </td><td>1        </td><td>1        </td><td>1        </td><td>1        </td></tr>\n",
       "\t<tr><td>60       </td><td>female   </td><td>25.840   </td><td>0        </td><td>no       </td><td>northwest</td><td>28923.137</td><td>1        </td><td>1        </td><td>1        </td><td>1        </td><td>1        </td></tr>\n",
       "</tbody>\n",
       "</table>\n"
      ],
      "text/latex": [
       "\\begin{tabular}{r|llllllllllll}\n",
       " age & sex & bmi & children & smoker & region & charges & Evaluated.Charge & Average.charge.among.smoking.or.not & Identity & The.average.charge.in.different.region & The.average.charge.in.different.Identity\\\\\n",
       "\\hline\n",
       "\t 19        & female    & 27.900    & 0         & yes       & southwest & 16884.924 & 1         & 1         & 1         & 1         & 1        \\\\\n",
       "\t 18        & male      & 33.770    & 1         & no        & southeast &  1725.552 & 1         & 1         & 1         & 1         & 1        \\\\\n",
       "\t 28        & male      & 33.000    & 3         & no        & southeast &  4449.462 & 1         & 1         & 1         & 1         & 1        \\\\\n",
       "\t 33        & male      & 22.705    & 0         & no        & northwest & 21984.471 & 1         & 1         & 1         & 1         & 1        \\\\\n",
       "\t 32        & male      & 28.880    & 0         & no        & northwest &  3866.855 & 1         & 1         & 1         & 1         & 1        \\\\\n",
       "\t 31        & female    & 25.740    & 0         & no        & southeast &  3756.622 & 1         & 1         & 1         & 1         & 1        \\\\\n",
       "\t 46        & female    & 33.440    & 1         & no        & southeast &  8240.590 & 1         & 1         & 1         & 1         & 1        \\\\\n",
       "\t 37        & female    & 27.740    & 3         & no        & northwest &  7281.506 & 1         & 1         & 1         & 1         & 1        \\\\\n",
       "\t 37        & male      & 29.830    & 2         & no        & northeast &  6406.411 & 1         & 1         & 1         & 1         & 1        \\\\\n",
       "\t 60        & female    & 25.840    & 0         & no        & northwest & 28923.137 & 1         & 1         & 1         & 1         & 1        \\\\\n",
       "\\end{tabular}\n"
      ],
      "text/markdown": [
       "\n",
       "| age | sex | bmi | children | smoker | region | charges | Evaluated.Charge | Average.charge.among.smoking.or.not | Identity | The.average.charge.in.different.region | The.average.charge.in.different.Identity |\n",
       "|---|---|---|---|---|---|---|---|---|---|---|---|\n",
       "| 19        | female    | 27.900    | 0         | yes       | southwest | 16884.924 | 1         | 1         | 1         | 1         | 1         |\n",
       "| 18        | male      | 33.770    | 1         | no        | southeast |  1725.552 | 1         | 1         | 1         | 1         | 1         |\n",
       "| 28        | male      | 33.000    | 3         | no        | southeast |  4449.462 | 1         | 1         | 1         | 1         | 1         |\n",
       "| 33        | male      | 22.705    | 0         | no        | northwest | 21984.471 | 1         | 1         | 1         | 1         | 1         |\n",
       "| 32        | male      | 28.880    | 0         | no        | northwest |  3866.855 | 1         | 1         | 1         | 1         | 1         |\n",
       "| 31        | female    | 25.740    | 0         | no        | southeast |  3756.622 | 1         | 1         | 1         | 1         | 1         |\n",
       "| 46        | female    | 33.440    | 1         | no        | southeast |  8240.590 | 1         | 1         | 1         | 1         | 1         |\n",
       "| 37        | female    | 27.740    | 3         | no        | northwest |  7281.506 | 1         | 1         | 1         | 1         | 1         |\n",
       "| 37        | male      | 29.830    | 2         | no        | northeast |  6406.411 | 1         | 1         | 1         | 1         | 1         |\n",
       "| 60        | female    | 25.840    | 0         | no        | northwest | 28923.137 | 1         | 1         | 1         | 1         | 1         |\n",
       "\n"
      ],
      "text/plain": [
       "   age sex    bmi    children smoker region    charges   Evaluated.Charge\n",
       "1  19  female 27.900 0        yes    southwest 16884.924 1               \n",
       "2  18  male   33.770 1        no     southeast  1725.552 1               \n",
       "3  28  male   33.000 3        no     southeast  4449.462 1               \n",
       "4  33  male   22.705 0        no     northwest 21984.471 1               \n",
       "5  32  male   28.880 0        no     northwest  3866.855 1               \n",
       "6  31  female 25.740 0        no     southeast  3756.622 1               \n",
       "7  46  female 33.440 1        no     southeast  8240.590 1               \n",
       "8  37  female 27.740 3        no     northwest  7281.506 1               \n",
       "9  37  male   29.830 2        no     northeast  6406.411 1               \n",
       "10 60  female 25.840 0        no     northwest 28923.137 1               \n",
       "   Average.charge.among.smoking.or.not Identity\n",
       "1  1                                   1       \n",
       "2  1                                   1       \n",
       "3  1                                   1       \n",
       "4  1                                   1       \n",
       "5  1                                   1       \n",
       "6  1                                   1       \n",
       "7  1                                   1       \n",
       "8  1                                   1       \n",
       "9  1                                   1       \n",
       "10 1                                   1       \n",
       "   The.average.charge.in.different.region\n",
       "1  1                                     \n",
       "2  1                                     \n",
       "3  1                                     \n",
       "4  1                                     \n",
       "5  1                                     \n",
       "6  1                                     \n",
       "7  1                                     \n",
       "8  1                                     \n",
       "9  1                                     \n",
       "10 1                                     \n",
       "   The.average.charge.in.different.Identity\n",
       "1  1                                       \n",
       "2  1                                       \n",
       "3  1                                       \n",
       "4  1                                       \n",
       "5  1                                       \n",
       "6  1                                       \n",
       "7  1                                       \n",
       "8  1                                       \n",
       "9  1                                       \n",
       "10 1                                       "
      ]
     },
     "metadata": {},
     "output_type": "display_data"
    }
   ],
   "source": [
    "newcolumns <- data.frame('Evaluated.Charge'=rep(1,1338),\"Average.charge.among.smoking.or.not\"=rep(1,1338),\"Identity\"=rep(1,1338),\n",
    "                        'The.average.charge.in.different.region'=rep(1,1338),'The.average.charge.in.different.Identity'=rep(1,1338))\n",
    "\n",
    "data_2<-cbind(data,newcolumns)\n",
    "head(data_2,n=10)"
   ]
  },
  {
   "cell_type": "markdown",
   "metadata": {},
   "source": [
    "## The following parts are used to create values in new columns.\n",
    "### This part creates \"Identity\" column."
   ]
  },
  {
   "cell_type": "code",
   "execution_count": 8,
   "metadata": {},
   "outputs": [],
   "source": [
    "j=1\n",
    "for (i in data_2$age){\n",
    "    if (i<=45){\n",
    "        data_2[j,10]<-\"young people\"  \n",
    "        j=j+1\n",
    "    }\n",
    "    else if (i<=69){\n",
    "        data_2[j,10]<-\"middle-aged people\"  \n",
    "        j=j+1\n",
    "    }\n",
    "    else {\n",
    "        data_2[j,10]<-\"aged people\"  \n",
    "        j=j+1\n",
    "    }\n",
    "}"
   ]
  },
  {
   "cell_type": "markdown",
   "metadata": {},
   "source": [
    "### This part creates \"Average.charge.among.smoking.or.not\" column."
   ]
  },
  {
   "cell_type": "markdown",
   "metadata": {},
   "source": [
    "Get the length of smoking people and no smoking people."
   ]
  },
  {
   "cell_type": "code",
   "execution_count": 9,
   "metadata": {},
   "outputs": [
    {
     "data": {
      "text/html": [
       "<ol class=list-inline>\n",
       "\t<li>274</li>\n",
       "\t<li>12</li>\n",
       "</ol>\n"
      ],
      "text/latex": [
       "\\begin{enumerate*}\n",
       "\\item 274\n",
       "\\item 12\n",
       "\\end{enumerate*}\n"
      ],
      "text/markdown": [
       "1. 274\n",
       "2. 12\n",
       "\n",
       "\n"
      ],
      "text/plain": [
       "[1] 274  12"
      ]
     },
     "metadata": {},
     "output_type": "display_data"
    },
    {
     "data": {
      "text/html": [
       "<ol class=list-inline>\n",
       "\t<li>1064</li>\n",
       "\t<li>12</li>\n",
       "</ol>\n"
      ],
      "text/latex": [
       "\\begin{enumerate*}\n",
       "\\item 1064\n",
       "\\item 12\n",
       "\\end{enumerate*}\n"
      ],
      "text/markdown": [
       "1. 1064\n",
       "2. 12\n",
       "\n",
       "\n"
      ],
      "text/plain": [
       "[1] 1064   12"
      ]
     },
     "metadata": {},
     "output_type": "display_data"
    }
   ],
   "source": [
    "subset1 <- subset(data_2,smoker==\"yes\")\n",
    "subset2 <- subset(data_2,smoker==\"no\")\n",
    "dim(subset1)\n",
    "dim(subset2)"
   ]
  },
  {
   "cell_type": "code",
   "execution_count": 10,
   "metadata": {},
   "outputs": [],
   "source": [
    "j=1\n",
    "smoker_average_charger<- sum(subset1$charges)/274\n",
    "nosmoker_average_charger<-sum(subset2$charges)/1064\n",
    "\n",
    "for (i in data_2$smoker){\n",
    "    if (i=='yes'){\n",
    "        data_2[j,9]<-smoker_average_charger\n",
    "        j=j+1\n",
    "    }\n",
    "    else {\n",
    "        data_2[j,9]<-nosmoker_average_charger  \n",
    "        j=j+1\n",
    "    }\n",
    "}\n"
   ]
  },
  {
   "cell_type": "markdown",
   "metadata": {},
   "source": [
    "This is the top 5 rows of data set after adapting."
   ]
  },
  {
   "cell_type": "markdown",
   "metadata": {},
   "source": [
    "###  This part creates \"The.average.charge.in.different.region\" column."
   ]
  },
  {
   "cell_type": "code",
   "execution_count": 11,
   "metadata": {},
   "outputs": [
    {
     "data": {
      "text/plain": [
       "\n",
       "northeast northwest southeast southwest \n",
       "      324       325       364       325 "
      ]
     },
     "metadata": {},
     "output_type": "display_data"
    }
   ],
   "source": [
    "table(data_2$region)"
   ]
  },
  {
   "cell_type": "code",
   "execution_count": 12,
   "metadata": {},
   "outputs": [],
   "source": [
    "subset3 <- subset(data_2,region==\"northeast\")\n",
    "subset4 <- subset(data_2,region==\"northwest\")\n",
    "subset5 <- subset(data_2,region==\"southeast\")\n",
    "subset6 <- subset(data_2,region==\"southwest\")\n",
    "j=1\n",
    "northeast_charge<-sum(subset3$charges)/324\n",
    "northwest_charge<-sum(subset4$charges)/325\n",
    "southeast_charge<-sum(subset5$charges)/364\n",
    "southwest_charge<-sum(subset6$charges)/325\n",
    "\n",
    "for (i in data_2$region){\n",
    "    if (i=='northeast'){\n",
    "        data_2[j,11]<-northeast_charge\n",
    "        j=j+1\n",
    "    }\n",
    "    if (i=='northwest'){\n",
    "        data_2[j,11]<-northwest_charge\n",
    "        j=j+1\n",
    "    }\n",
    "    if (i=='southeast'){\n",
    "        data_2[j,11]<-southeast_charge\n",
    "        j=j+1\n",
    "    }\n",
    "    if (i=='southwest'){\n",
    "        data_2[j,11]<-southwest_charge  \n",
    "        j=j+1\n",
    "    }\n",
    "}\n"
   ]
  },
  {
   "cell_type": "markdown",
   "metadata": {},
   "source": [
    "###  This part creates \"The.average.charge.in.different.age.group\" column."
   ]
  },
  {
   "cell_type": "code",
   "execution_count": 13,
   "metadata": {
    "scrolled": false
   },
   "outputs": [
    {
     "data": {
      "text/plain": [
       "\n",
       "middle-aged people       young people \n",
       "               500                838 "
      ]
     },
     "metadata": {},
     "output_type": "display_data"
    }
   ],
   "source": [
    "table(data_2$Identity)"
   ]
  },
  {
   "cell_type": "code",
   "execution_count": 14,
   "metadata": {},
   "outputs": [
    {
     "data": {
      "text/plain": [
       "   Min. 1st Qu.  Median    Mean 3rd Qu.    Max. \n",
       "  18.00   27.00   39.00   39.21   51.00   64.00 "
      ]
     },
     "metadata": {},
     "output_type": "display_data"
    }
   ],
   "source": [
    "summary(data_2$age)"
   ]
  },
  {
   "cell_type": "code",
   "execution_count": 15,
   "metadata": {},
   "outputs": [],
   "source": [
    "subset7 <- subset(data_2,Identity==\"middle-aged people\")\n",
    "subset8 <- subset(data_2,Identity==\"young people\")\n",
    "\n",
    "middle_aged_people_charge<- sum(subset7$charges)/500\n",
    "young_people_charge<-sum(subset8$charges)/838\n",
    "\n",
    "j=1\n",
    "for (i in data_2$age){\n",
    "    if (i<=45){\n",
    "        data_2[j,12]<-young_people_charge  \n",
    "        j=j+1\n",
    "    }\n",
    "    else {\n",
    "        data_2[j,12]<-middle_aged_people_charge  \n",
    "        j=j+1\n",
    "    }\n",
    "}"
   ]
  },
  {
   "cell_type": "code",
   "execution_count": 16,
   "metadata": {},
   "outputs": [
    {
     "data": {
      "text/html": [
       "<table>\n",
       "<thead><tr><th scope=col>age</th><th scope=col>sex</th><th scope=col>bmi</th><th scope=col>children</th><th scope=col>smoker</th><th scope=col>region</th><th scope=col>charges</th><th scope=col>Evaluated.Charge</th><th scope=col>Average.charge.among.smoking.or.not</th><th scope=col>Identity</th><th scope=col>The.average.charge.in.different.region</th><th scope=col>The.average.charge.in.different.Identity</th></tr></thead>\n",
       "<tbody>\n",
       "\t<tr><td>19          </td><td>female      </td><td>27.900      </td><td>0           </td><td>yes         </td><td>southwest   </td><td>16884.924   </td><td>1           </td><td>32050.232   </td><td>young people</td><td>12346.94    </td><td>10925.55    </td></tr>\n",
       "\t<tr><td>18          </td><td>male        </td><td>33.770      </td><td>1           </td><td>no          </td><td>southeast   </td><td> 1725.552   </td><td>1           </td><td> 8434.268   </td><td>young people</td><td>14735.41    </td><td>10925.55    </td></tr>\n",
       "\t<tr><td>28          </td><td>male        </td><td>33.000      </td><td>3           </td><td>no          </td><td>southeast   </td><td> 4449.462   </td><td>1           </td><td> 8434.268   </td><td>young people</td><td>14735.41    </td><td>10925.55    </td></tr>\n",
       "\t<tr><td>33          </td><td>male        </td><td>22.705      </td><td>0           </td><td>no          </td><td>northwest   </td><td>21984.471   </td><td>1           </td><td> 8434.268   </td><td>young people</td><td>12417.58    </td><td>10925.55    </td></tr>\n",
       "\t<tr><td>32          </td><td>male        </td><td>28.880      </td><td>0           </td><td>no          </td><td>northwest   </td><td> 3866.855   </td><td>1           </td><td> 8434.268   </td><td>young people</td><td>12417.58    </td><td>10925.55    </td></tr>\n",
       "\t<tr><td>31          </td><td>female      </td><td>25.740      </td><td>0           </td><td>no          </td><td>southeast   </td><td> 3756.622   </td><td>1           </td><td> 8434.268   </td><td>young people</td><td>14735.41    </td><td>10925.55    </td></tr>\n",
       "</tbody>\n",
       "</table>\n"
      ],
      "text/latex": [
       "\\begin{tabular}{r|llllllllllll}\n",
       " age & sex & bmi & children & smoker & region & charges & Evaluated.Charge & Average.charge.among.smoking.or.not & Identity & The.average.charge.in.different.region & The.average.charge.in.different.Identity\\\\\n",
       "\\hline\n",
       "\t 19           & female       & 27.900       & 0            & yes          & southwest    & 16884.924    & 1            & 32050.232    & young people & 12346.94     & 10925.55    \\\\\n",
       "\t 18           & male         & 33.770       & 1            & no           & southeast    &  1725.552    & 1            &  8434.268    & young people & 14735.41     & 10925.55    \\\\\n",
       "\t 28           & male         & 33.000       & 3            & no           & southeast    &  4449.462    & 1            &  8434.268    & young people & 14735.41     & 10925.55    \\\\\n",
       "\t 33           & male         & 22.705       & 0            & no           & northwest    & 21984.471    & 1            &  8434.268    & young people & 12417.58     & 10925.55    \\\\\n",
       "\t 32           & male         & 28.880       & 0            & no           & northwest    &  3866.855    & 1            &  8434.268    & young people & 12417.58     & 10925.55    \\\\\n",
       "\t 31           & female       & 25.740       & 0            & no           & southeast    &  3756.622    & 1            &  8434.268    & young people & 14735.41     & 10925.55    \\\\\n",
       "\\end{tabular}\n"
      ],
      "text/markdown": [
       "\n",
       "| age | sex | bmi | children | smoker | region | charges | Evaluated.Charge | Average.charge.among.smoking.or.not | Identity | The.average.charge.in.different.region | The.average.charge.in.different.Identity |\n",
       "|---|---|---|---|---|---|---|---|---|---|---|---|\n",
       "| 19           | female       | 27.900       | 0            | yes          | southwest    | 16884.924    | 1            | 32050.232    | young people | 12346.94     | 10925.55     |\n",
       "| 18           | male         | 33.770       | 1            | no           | southeast    |  1725.552    | 1            |  8434.268    | young people | 14735.41     | 10925.55     |\n",
       "| 28           | male         | 33.000       | 3            | no           | southeast    |  4449.462    | 1            |  8434.268    | young people | 14735.41     | 10925.55     |\n",
       "| 33           | male         | 22.705       | 0            | no           | northwest    | 21984.471    | 1            |  8434.268    | young people | 12417.58     | 10925.55     |\n",
       "| 32           | male         | 28.880       | 0            | no           | northwest    |  3866.855    | 1            |  8434.268    | young people | 12417.58     | 10925.55     |\n",
       "| 31           | female       | 25.740       | 0            | no           | southeast    |  3756.622    | 1            |  8434.268    | young people | 14735.41     | 10925.55     |\n",
       "\n"
      ],
      "text/plain": [
       "  age sex    bmi    children smoker region    charges   Evaluated.Charge\n",
       "1 19  female 27.900 0        yes    southwest 16884.924 1               \n",
       "2 18  male   33.770 1        no     southeast  1725.552 1               \n",
       "3 28  male   33.000 3        no     southeast  4449.462 1               \n",
       "4 33  male   22.705 0        no     northwest 21984.471 1               \n",
       "5 32  male   28.880 0        no     northwest  3866.855 1               \n",
       "6 31  female 25.740 0        no     southeast  3756.622 1               \n",
       "  Average.charge.among.smoking.or.not Identity    \n",
       "1 32050.232                           young people\n",
       "2  8434.268                           young people\n",
       "3  8434.268                           young people\n",
       "4  8434.268                           young people\n",
       "5  8434.268                           young people\n",
       "6  8434.268                           young people\n",
       "  The.average.charge.in.different.region\n",
       "1 12346.94                              \n",
       "2 14735.41                              \n",
       "3 14735.41                              \n",
       "4 12417.58                              \n",
       "5 12417.58                              \n",
       "6 14735.41                              \n",
       "  The.average.charge.in.different.Identity\n",
       "1 10925.55                                \n",
       "2 10925.55                                \n",
       "3 10925.55                                \n",
       "4 10925.55                                \n",
       "5 10925.55                                \n",
       "6 10925.55                                "
      ]
     },
     "metadata": {},
     "output_type": "display_data"
    }
   ],
   "source": [
    "head(data_2)"
   ]
  },
  {
   "cell_type": "markdown",
   "metadata": {},
   "source": [
    "# Describe visualization\n",
    " <span id=\"jump6\"> </span>"
   ]
  },
  {
   "cell_type": "code",
   "execution_count": 17,
   "metadata": {},
   "outputs": [
    {
     "name": "stderr",
     "output_type": "stream",
     "text": [
      "Loading required package: ggplot2\n",
      "Registered S3 methods overwritten by 'ggplot2':\n",
      "  method         from \n",
      "  [.quosures     rlang\n",
      "  c.quosures     rlang\n",
      "  print.quosures rlang\n",
      "\n",
      "Attaching package: 'plotly'\n",
      "\n",
      "The following object is masked from 'package:ggplot2':\n",
      "\n",
      "    last_plot\n",
      "\n",
      "The following object is masked from 'package:stats':\n",
      "\n",
      "    filter\n",
      "\n",
      "The following object is masked from 'package:graphics':\n",
      "\n",
      "    layout\n",
      "\n",
      "\n",
      "Attaching package: 'psych'\n",
      "\n",
      "The following objects are masked from 'package:ggplot2':\n",
      "\n",
      "    %+%, alpha\n",
      "\n",
      "corrplot 0.84 loaded\n",
      "\n",
      "Attaching package: 'MASS'\n",
      "\n",
      "The following object is masked from 'package:plotly':\n",
      "\n",
      "    select\n",
      "\n",
      "\n",
      "Attaching package: 'reshape'\n",
      "\n",
      "The following object is masked from 'package:plotly':\n",
      "\n",
      "    rename\n",
      "\n"
     ]
    }
   ],
   "source": [
    "library(plotly)\n",
    "library(ggplot2)\n",
    "library(psych)\n",
    "library(rgl)\n",
    "library(RColorBrewer)\n",
    "library(corrplot)\n",
    "library(MASS)\n",
    "library(lattice)\n",
    "library(reshape)"
   ]
  },
  {
   "cell_type": "markdown",
   "metadata": {},
   "source": [
    "## Visualization 1\n",
    " <span id=\"jump7\">  </span>"
   ]
  },
  {
   "cell_type": "markdown",
   "metadata": {},
   "source": [
    "This part shows the \"Age Attribution\" in our data set according to \"Identity\" column."
   ]
  },
  {
   "cell_type": "code",
   "execution_count": 18,
   "metadata": {},
   "outputs": [
    {
     "data": {
      "text/plain": [
       "\n",
       "middle-aged people       young people \n",
       "               500                838 "
      ]
     },
     "metadata": {},
     "output_type": "display_data"
    }
   ],
   "source": [
    "table(data_2$Identity)"
   ]
  },
  {
   "cell_type": "code",
   "execution_count": 19,
   "metadata": {},
   "outputs": [
    {
     "data": {
      "image/png": "[encoded data removed]",
      "text/plain": [
       "Plot with title \"Age Distribution\""
      ]
     },
     "metadata": {},
     "output_type": "display_data"
    }
   ],
   "source": [
    "age_data = c(500,838)\n",
    "pct = (age_data/sum(age_data))*100\n",
    "pct = round(pct,2)\n",
    "labels = c(\"middle-aged people\",\"young people\")\n",
    "labels = paste(labels,pct, \"%\")\n",
    "col = c(\"wheat1\", \"lightcyan\")\n",
    "pie(pct,col = col, radius = 0.5, init.angle = 90, clockwise = TRUE, \n",
    "    labels =labels, main = \"Age Distribution\")"
   ]
  },
  {
   "cell_type": "markdown",
   "metadata": {},
   "source": [
    "## Visualization 2\n",
    " <span id=\"jump8\">  </span>\n",
    "This part shows the average charges in different regions."
   ]
  },
  {
   "cell_type": "code",
   "execution_count": 20,
   "metadata": {},
   "outputs": [
    {
     "data": {
      "text/plain": [
       "\n",
       "northeast northwest southeast southwest \n",
       "      324       325       364       325 "
      ]
     },
     "metadata": {},
     "output_type": "display_data"
    },
    {
     "data": {
      "text/plain": [
       "\n",
       "12346.9373772923 12417.5753739692 13406.3845163858 14735.4114376099 \n",
       "             325              325              324              364 "
      ]
     },
     "metadata": {},
     "output_type": "display_data"
    }
   ],
   "source": [
    "table(data$region)\n",
    "table(data_2$The.average.charge.in.different.region)"
   ]
  },
  {
   "cell_type": "code",
   "execution_count": 21,
   "metadata": {},
   "outputs": [
    {
     "data": {
      "image/png": "[encoded data removed]",
      "text/plain": [
       "Plot with title \"The relationship between charges and region.\""
      ]
     },
     "metadata": {},
     "output_type": "display_data"
    }
   ],
   "source": [
    "b<-round(c(12346.9373772923 ,12417.5753739692, 13406.3845163858, 14735.4114376099))\n",
    "x=c('northeast','northwest','southeast','southwest')\n",
    "y=b\n",
    "\n",
    "barplot(y,names.arg=x,xlab=\"Region\",ylab=\"The.average.charge.in.different.region \",main=\"The relationship between charges and region.\")"
   ]
  },
  {
   "cell_type": "markdown",
   "metadata": {},
   "source": [
    "## Visualization 3\n",
    " <span id=\"jump9\">  </span>\n",
    "\n",
    "This part shows the boxplot with the \"Relationship between Smoking and Charges\"."
   ]
  },
  {
   "cell_type": "code",
   "execution_count": 22,
   "metadata": {},
   "outputs": [
    {
     "data": {
      "image/png": "[encoded data removed]",
      "text/plain": [
       "Plot with title \"Relationship between Smoking and Charges\""
      ]
     },
     "metadata": {},
     "output_type": "display_data"
    }
   ],
   "source": [
    "plot(data$charges~ data$smoker, col='cadetblue', pch=20, cex=2, \n",
    "     main=\"Relationship between Smoking and Charges\", \n",
    "     xlab=\"Smoking or not\", ylab=\"Charges\")"
   ]
  },
  {
   "cell_type": "markdown",
   "metadata": {},
   "source": [
    "## Visualization 4\n",
    "\n",
    " <span id=\"jump10\">  </span>\n",
    "\n",
    "This part shows the \"Relationship between Age and Charges\"."
   ]
  },
  {
   "cell_type": "code",
   "execution_count": 23,
   "metadata": {},
   "outputs": [
    {
     "data": {
      "image/png": "[encoded data removed]",
      "text/plain": [
       "Plot with title \"Relationship between Age and Charges\""
      ]
     },
     "metadata": {},
     "output_type": "display_data"
    }
   ],
   "source": [
    "plot(data$charges~ data$age, col='mediumpurple', pch=20, cex=2, \n",
    "     main=\"Relationship between Age and Charges\", \n",
    "     xlab=\"Age\", ylab=\"Charges\")\n",
    "modline = lm(formula = charges ~ age, data = data)\n",
    "abline(modline, col = 'red', lwd = 2, lty=\"dashed\")"
   ]
  },
  {
   "cell_type": "markdown",
   "metadata": {},
   "source": [
    "# Explore Correlations:\n",
    " <span id=\"jump11\">  </span>\n"
   ]
  },
  {
   "cell_type": "markdown",
   "metadata": {},
   "source": [
    "We showed the relationship between charges with age, smoking and region before. As the following, the first plot shows the relationship between charges and bmi. And the second plot shows the relationship between charges and children number. "
   ]
  },
  {
   "cell_type": "code",
   "execution_count": 24,
   "metadata": {},
   "outputs": [
    {
     "data": {
      "image/png": "[encoded data removed]",
      "text/plain": [
       "Plot with title \"Relationship between Bmi and Charges\""
      ]
     },
     "metadata": {},
     "output_type": "display_data"
    }
   ],
   "source": [
    "plot(data$charges~ data$bmi, col='peachpuff', pch=20, cex=2, \n",
    "     main=\"Relationship between Bmi and Charges\", \n",
    "     xlab=\"Bmi\", ylab=\"Charges\")\n",
    "modline2 = lm(formula = charges ~ bmi, data = data)\n",
    "abline(modline2, col = 'red', lwd = 2, lty=\"dashed\")"
   ]
  },
  {
   "cell_type": "code",
   "execution_count": 25,
   "metadata": {},
   "outputs": [
    {
     "data": {
      "image/png": "[encoded data removed]",
      "text/plain": [
       "Plot with title \"Relationship between Children and Charges\""
      ]
     },
     "metadata": {},
     "output_type": "display_data"
    }
   ],
   "source": [
    "plot(data$charges~ data$children, col='peachpuff3', pch=20, cex=2, \n",
    "     main=\"Relationship between Children and Charges\", \n",
    "     xlab=\"Children number\", ylab=\"Charges\")\n",
    "modline3 = lm(formula = charges ~ children, data = data)\n",
    "abline(modline3, col = 'red', lwd = 2, lty=\"dashed\")"
   ]
  },
  {
   "cell_type": "markdown",
   "metadata": {},
   "source": [
    "So we will use age, bmi, children number, smoking charge, region charge to make the liner regressions."
   ]
  },
  {
   "cell_type": "markdown",
   "metadata": {},
   "source": [
    "# Response Variable\n",
    " <span id=\"jump12\">  </span>\n"
   ]
  },
  {
   "cell_type": "markdown",
   "metadata": {},
   "source": [
    "I choose \"charges\" as the response variable. This column represents a people's cost in health insurance.I choose this column because the aim of our research is predicting the personal insurance costs. I hope I can find the prediction according to one person's basic information like age, bmi and other variables. So the health insurance company can give the client some suggestions when the client is consulting."
   ]
  },
  {
   "cell_type": "markdown",
   "metadata": {},
   "source": [
    "# Simple Linear Regression\n",
    " <span id=\"jump13\">  </span>\n"
   ]
  },
  {
   "cell_type": "code",
   "execution_count": 26,
   "metadata": {},
   "outputs": [
    {
     "data": {
      "text/html": [
       "<table>\n",
       "<thead><tr><th scope=col>age</th><th scope=col>sex</th><th scope=col>bmi</th><th scope=col>children</th><th scope=col>smoker</th><th scope=col>region</th><th scope=col>charges</th><th scope=col>Evaluated.Charge</th><th scope=col>Average.charge.among.smoking.or.not</th><th scope=col>Identity</th><th scope=col>The.average.charge.in.different.region</th><th scope=col>The.average.charge.in.different.Identity</th></tr></thead>\n",
       "<tbody>\n",
       "\t<tr><td>19          </td><td>female      </td><td>27.900      </td><td>0           </td><td>yes         </td><td>southwest   </td><td>16884.924   </td><td>1           </td><td>32050.232   </td><td>young people</td><td>12346.94    </td><td>10925.55    </td></tr>\n",
       "\t<tr><td>18          </td><td>male        </td><td>33.770      </td><td>1           </td><td>no          </td><td>southeast   </td><td> 1725.552   </td><td>1           </td><td> 8434.268   </td><td>young people</td><td>14735.41    </td><td>10925.55    </td></tr>\n",
       "\t<tr><td>28          </td><td>male        </td><td>33.000      </td><td>3           </td><td>no          </td><td>southeast   </td><td> 4449.462   </td><td>1           </td><td> 8434.268   </td><td>young people</td><td>14735.41    </td><td>10925.55    </td></tr>\n",
       "\t<tr><td>33          </td><td>male        </td><td>22.705      </td><td>0           </td><td>no          </td><td>northwest   </td><td>21984.471   </td><td>1           </td><td> 8434.268   </td><td>young people</td><td>12417.58    </td><td>10925.55    </td></tr>\n",
       "\t<tr><td>32          </td><td>male        </td><td>28.880      </td><td>0           </td><td>no          </td><td>northwest   </td><td> 3866.855   </td><td>1           </td><td> 8434.268   </td><td>young people</td><td>12417.58    </td><td>10925.55    </td></tr>\n",
       "\t<tr><td>31          </td><td>female      </td><td>25.740      </td><td>0           </td><td>no          </td><td>southeast   </td><td> 3756.622   </td><td>1           </td><td> 8434.268   </td><td>young people</td><td>14735.41    </td><td>10925.55    </td></tr>\n",
       "</tbody>\n",
       "</table>\n"
      ],
      "text/latex": [
       "\\begin{tabular}{r|llllllllllll}\n",
       " age & sex & bmi & children & smoker & region & charges & Evaluated.Charge & Average.charge.among.smoking.or.not & Identity & The.average.charge.in.different.region & The.average.charge.in.different.Identity\\\\\n",
       "\\hline\n",
       "\t 19           & female       & 27.900       & 0            & yes          & southwest    & 16884.924    & 1            & 32050.232    & young people & 12346.94     & 10925.55    \\\\\n",
       "\t 18           & male         & 33.770       & 1            & no           & southeast    &  1725.552    & 1            &  8434.268    & young people & 14735.41     & 10925.55    \\\\\n",
       "\t 28           & male         & 33.000       & 3            & no           & southeast    &  4449.462    & 1            &  8434.268    & young people & 14735.41     & 10925.55    \\\\\n",
       "\t 33           & male         & 22.705       & 0            & no           & northwest    & 21984.471    & 1            &  8434.268    & young people & 12417.58     & 10925.55    \\\\\n",
       "\t 32           & male         & 28.880       & 0            & no           & northwest    &  3866.855    & 1            &  8434.268    & young people & 12417.58     & 10925.55    \\\\\n",
       "\t 31           & female       & 25.740       & 0            & no           & southeast    &  3756.622    & 1            &  8434.268    & young people & 14735.41     & 10925.55    \\\\\n",
       "\\end{tabular}\n"
      ],
      "text/markdown": [
       "\n",
       "| age | sex | bmi | children | smoker | region | charges | Evaluated.Charge | Average.charge.among.smoking.or.not | Identity | The.average.charge.in.different.region | The.average.charge.in.different.Identity |\n",
       "|---|---|---|---|---|---|---|---|---|---|---|---|\n",
       "| 19           | female       | 27.900       | 0            | yes          | southwest    | 16884.924    | 1            | 32050.232    | young people | 12346.94     | 10925.55     |\n",
       "| 18           | male         | 33.770       | 1            | no           | southeast    |  1725.552    | 1            |  8434.268    | young people | 14735.41     | 10925.55     |\n",
       "| 28           | male         | 33.000       | 3            | no           | southeast    |  4449.462    | 1            |  8434.268    | young people | 14735.41     | 10925.55     |\n",
       "| 33           | male         | 22.705       | 0            | no           | northwest    | 21984.471    | 1            |  8434.268    | young people | 12417.58     | 10925.55     |\n",
       "| 32           | male         | 28.880       | 0            | no           | northwest    |  3866.855    | 1            |  8434.268    | young people | 12417.58     | 10925.55     |\n",
       "| 31           | female       | 25.740       | 0            | no           | southeast    |  3756.622    | 1            |  8434.268    | young people | 14735.41     | 10925.55     |\n",
       "\n"
      ],
      "text/plain": [
       "  age sex    bmi    children smoker region    charges   Evaluated.Charge\n",
       "1 19  female 27.900 0        yes    southwest 16884.924 1               \n",
       "2 18  male   33.770 1        no     southeast  1725.552 1               \n",
       "3 28  male   33.000 3        no     southeast  4449.462 1               \n",
       "4 33  male   22.705 0        no     northwest 21984.471 1               \n",
       "5 32  male   28.880 0        no     northwest  3866.855 1               \n",
       "6 31  female 25.740 0        no     southeast  3756.622 1               \n",
       "  Average.charge.among.smoking.or.not Identity    \n",
       "1 32050.232                           young people\n",
       "2  8434.268                           young people\n",
       "3  8434.268                           young people\n",
       "4  8434.268                           young people\n",
       "5  8434.268                           young people\n",
       "6  8434.268                           young people\n",
       "  The.average.charge.in.different.region\n",
       "1 12346.94                              \n",
       "2 14735.41                              \n",
       "3 14735.41                              \n",
       "4 12417.58                              \n",
       "5 12417.58                              \n",
       "6 14735.41                              \n",
       "  The.average.charge.in.different.Identity\n",
       "1 10925.55                                \n",
       "2 10925.55                                \n",
       "3 10925.55                                \n",
       "4 10925.55                                \n",
       "5 10925.55                                \n",
       "6 10925.55                                "
      ]
     },
     "metadata": {},
     "output_type": "display_data"
    }
   ],
   "source": [
    "head(data_2)"
   ]
  },
  {
   "cell_type": "markdown",
   "metadata": {},
   "source": [
    "## \"How well can age predict charges?\""
   ]
  },
  {
   "cell_type": "code",
   "execution_count": 27,
   "metadata": {},
   "outputs": [
    {
     "data": {
      "text/plain": [
       "\n",
       "Call:\n",
       "lm(formula = charges ~ age, data = data_2)\n",
       "\n",
       "Residuals:\n",
       "   Min     1Q Median     3Q    Max \n",
       " -8059  -6671  -5939   5440  47829 \n",
       "\n",
       "Coefficients:\n",
       "            Estimate Std. Error t value Pr(>|t|)    \n",
       "(Intercept)   3165.9      937.1   3.378 0.000751 ***\n",
       "age            257.7       22.5  11.453  < 2e-16 ***\n",
       "---\n",
       "Signif. codes:  0 '***' 0.001 '**' 0.01 '*' 0.05 '.' 0.1 ' ' 1\n",
       "\n",
       "Residual standard error: 11560 on 1336 degrees of freedom\n",
       "Multiple R-squared:  0.08941,\tAdjusted R-squared:  0.08872 \n",
       "F-statistic: 131.2 on 1 and 1336 DF,  p-value: < 2.2e-16\n"
      ]
     },
     "metadata": {},
     "output_type": "display_data"
    }
   ],
   "source": [
    "mod1 = lm(formula = charges ~ age, data = data_2)\n",
    "summary(mod1)"
   ]
  },
  {
   "cell_type": "markdown",
   "metadata": {},
   "source": [
    "Y = 257.7 * X + 3165.9\n",
    "\n",
    "The responsible variable Y will increase 257.7 when explanatory increaase one."
   ]
  },
  {
   "cell_type": "markdown",
   "metadata": {},
   "source": [
    "## \"How well can bmi predict charges?\""
   ]
  },
  {
   "cell_type": "code",
   "execution_count": 28,
   "metadata": {},
   "outputs": [
    {
     "data": {
      "text/plain": [
       "\n",
       "Call:\n",
       "lm(formula = charges ~ bmi, data = data_2)\n",
       "\n",
       "Residuals:\n",
       "   Min     1Q Median     3Q    Max \n",
       "-20956  -8118  -3757   4722  49442 \n",
       "\n",
       "Coefficients:\n",
       "            Estimate Std. Error t value Pr(>|t|)    \n",
       "(Intercept)  1192.94    1664.80   0.717    0.474    \n",
       "bmi           393.87      53.25   7.397 2.46e-13 ***\n",
       "---\n",
       "Signif. codes:  0 '***' 0.001 '**' 0.01 '*' 0.05 '.' 0.1 ' ' 1\n",
       "\n",
       "Residual standard error: 11870 on 1336 degrees of freedom\n",
       "Multiple R-squared:  0.03934,\tAdjusted R-squared:  0.03862 \n",
       "F-statistic: 54.71 on 1 and 1336 DF,  p-value: 2.459e-13\n"
      ]
     },
     "metadata": {},
     "output_type": "display_data"
    }
   ],
   "source": [
    "mod2 = lm(formula = charges ~ bmi, data = data_2)\n",
    "summary(mod2)"
   ]
  },
  {
   "cell_type": "markdown",
   "metadata": {},
   "source": [
    "Y = 393.87 * X + 1192.94\n",
    "\n",
    "The responsible variable Y will increase 393.87 when explanatory increaase one."
   ]
  },
  {
   "cell_type": "markdown",
   "metadata": {},
   "source": [
    "## \"How well can children predict charges?\""
   ]
  },
  {
   "cell_type": "code",
   "execution_count": 29,
   "metadata": {},
   "outputs": [
    {
     "data": {
      "text/plain": [
       "\n",
       "Call:\n",
       "lm(formula = charges ~ children, data = data_2)\n",
       "\n",
       "Residuals:\n",
       "   Min     1Q Median     3Q    Max \n",
       "-11585  -8759  -4071   3468  51248 \n",
       "\n",
       "Coefficients:\n",
       "            Estimate Std. Error t value Pr(>|t|)    \n",
       "(Intercept)  12522.5      446.5  28.049   <2e-16 ***\n",
       "children       683.1      274.2   2.491   0.0129 *  \n",
       "---\n",
       "Signif. codes:  0 '***' 0.001 '**' 0.01 '*' 0.05 '.' 0.1 ' ' 1\n",
       "\n",
       "Residual standard error: 12090 on 1336 degrees of freedom\n",
       "Multiple R-squared:  0.004624,\tAdjusted R-squared:  0.003879 \n",
       "F-statistic: 6.206 on 1 and 1336 DF,  p-value: 0.01285\n"
      ]
     },
     "metadata": {},
     "output_type": "display_data"
    }
   ],
   "source": [
    "mod3 = lm(formula = charges ~ children, data = data_2)\n",
    "summary(mod3)"
   ]
  },
  {
   "cell_type": "markdown",
   "metadata": {},
   "source": [
    "Y = 393.9 * X + 1192.9\n",
    "\n",
    "The responsible variable Y will increase 393.9 when explanatory increaase one."
   ]
  },
  {
   "cell_type": "markdown",
   "metadata": {},
   "source": [
    "## \"How well can 'Average.charge.among.smoking.or.not' predict charges?\""
   ]
  },
  {
   "cell_type": "code",
   "execution_count": 30,
   "metadata": {},
   "outputs": [
    {
     "data": {
      "text/plain": [
       "\n",
       "Call:\n",
       "lm(formula = charges ~ Average.charge.among.smoking.or.not, data = data_2)\n",
       "\n",
       "Residuals:\n",
       "   Min     1Q Median     3Q    Max \n",
       "-19221  -5042   -919   3705  31720 \n",
       "\n",
       "Coefficients:\n",
       "                                      Estimate Std. Error t value Pr(>|t|)    \n",
       "(Intercept)                         -2.705e-11  3.501e+02    0.00        1    \n",
       "Average.charge.among.smoking.or.not  1.000e+00  2.143e-02   46.66   <2e-16 ***\n",
       "---\n",
       "Signif. codes:  0 '***' 0.001 '**' 0.01 '*' 0.05 '.' 0.1 ' ' 1\n",
       "\n",
       "Residual standard error: 7470 on 1336 degrees of freedom\n",
       "Multiple R-squared:  0.6198,\tAdjusted R-squared:  0.6195 \n",
       "F-statistic:  2178 on 1 and 1336 DF,  p-value: < 2.2e-16\n"
      ]
     },
     "metadata": {},
     "output_type": "display_data"
    }
   ],
   "source": [
    "mod4 = lm(formula = charges ~ Average.charge.among.smoking.or.not, data = data_2)\n",
    "summary(mod4)"
   ]
  },
  {
   "cell_type": "markdown",
   "metadata": {},
   "source": [
    "Y = 683.1 * X + 12522.5\n",
    "\n",
    "The responsible variable Y will increase 683.1 when explanatory increaase one."
   ]
  },
  {
   "cell_type": "markdown",
   "metadata": {},
   "source": [
    "## \"How well can 'The.average.charge.in.different.region' predict charges?\""
   ]
  },
  {
   "cell_type": "code",
   "execution_count": 31,
   "metadata": {},
   "outputs": [
    {
     "data": {
      "text/plain": [
       "\n",
       "Call:\n",
       "lm(formula = charges ~ The.average.charge.in.different.region, \n",
       "    data = data_2)\n",
       "\n",
       "Residuals:\n",
       "   Min     1Q Median     3Q    Max \n",
       "-13614  -8463  -3793   3385  49035 \n",
       "\n",
       "Coefficients:\n",
       "                                         Estimate Std. Error t value Pr(>|t|)\n",
       "(Intercept)                            -1.910e-11  4.455e+03   0.000  1.00000\n",
       "The.average.charge.in.different.region  1.000e+00  3.348e-01   2.987  0.00287\n",
       "                                         \n",
       "(Intercept)                              \n",
       "The.average.charge.in.different.region **\n",
       "---\n",
       "Signif. codes:  0 '***' 0.001 '**' 0.01 '*' 0.05 '.' 0.1 ' ' 1\n",
       "\n",
       "Residual standard error: 12070 on 1336 degrees of freedom\n",
       "Multiple R-squared:  0.006634,\tAdjusted R-squared:  0.00589 \n",
       "F-statistic: 8.922 on 1 and 1336 DF,  p-value: 0.002869\n"
      ]
     },
     "metadata": {},
     "output_type": "display_data"
    }
   ],
   "source": [
    "mod5 = lm(formula = charges ~ The.average.charge.in.different.region, data = data_2)\n",
    "summary(mod5)"
   ]
  },
  {
   "cell_type": "markdown",
   "metadata": {},
   "source": [
    "Y = 0.345 * X + 8790.074\n",
    "\n",
    "The responsible variable Y will increase 0.345 when explanatory increaase one."
   ]
  },
  {
   "cell_type": "markdown",
   "metadata": {},
   "source": [
    "# Multiple Linear Regression\n",
    " <span id=\"jump14\">  </span>\n"
   ]
  },
  {
   "cell_type": "markdown",
   "metadata": {},
   "source": [
    "## This multiple regression contains three explantories: Age, bmi and Average.charge.among.smoking.or.not."
   ]
  },
  {
   "cell_type": "code",
   "execution_count": 32,
   "metadata": {},
   "outputs": [
    {
     "data": {
      "text/plain": [
       "\n",
       "Call:\n",
       "lm(formula = charges ~ age + bmi + Average.charge.among.smoking.or.not, \n",
       "    data = data_2)\n",
       "\n",
       "Residuals:\n",
       "     Min       1Q   Median       3Q      Max \n",
       "-12415.4  -2970.9   -980.5   1480.0  28971.8 \n",
       "\n",
       "Coefficients:\n",
       "                                      Estimate Std. Error t value Pr(>|t|)    \n",
       "(Intercept)                         -2.019e+04  9.631e+02  -20.96   <2e-16 ***\n",
       "age                                  2.595e+02  1.193e+01   21.75   <2e-16 ***\n",
       "bmi                                  3.226e+02  2.749e+01   11.74   <2e-16 ***\n",
       "Average.charge.among.smoking.or.not  1.009e+00  1.748e-02   57.70   <2e-16 ***\n",
       "---\n",
       "Signif. codes:  0 '***' 0.001 '**' 0.01 '*' 0.05 '.' 0.1 ' ' 1\n",
       "\n",
       "Residual standard error: 6092 on 1334 degrees of freedom\n",
       "Multiple R-squared:  0.7475,\tAdjusted R-squared:  0.7469 \n",
       "F-statistic:  1316 on 3 and 1334 DF,  p-value: < 2.2e-16\n"
      ]
     },
     "metadata": {},
     "output_type": "display_data"
    }
   ],
   "source": [
    "reg1 <- lm(charges ~ age + bmi + Average.charge.among.smoking.or.not, data = data_2)\n",
    "summary(reg1)"
   ]
  },
  {
   "cell_type": "markdown",
   "metadata": {},
   "source": [
    "## This multiple regression contains four explantories: Age, bmi , 'smoking charge' and 'region charge'."
   ]
  },
  {
   "cell_type": "code",
   "execution_count": 33,
   "metadata": {},
   "outputs": [
    {
     "data": {
      "text/plain": [
       "\n",
       "Call:\n",
       "lm(formula = charges ~ age + bmi + Average.charge.among.smoking.or.not + \n",
       "    The.average.charge.in.different.region, data = data_2)\n",
       "\n",
       "Residuals:\n",
       "     Min       1Q   Median       3Q      Max \n",
       "-12501.4  -3029.5   -985.2   1483.2  29150.2 \n",
       "\n",
       "Coefficients:\n",
       "                                         Estimate Std. Error t value Pr(>|t|)\n",
       "(Intercept)                            -1.858e+04  2.321e+03  -8.006 2.57e-15\n",
       "age                                     2.592e+02  1.194e+01  21.705  < 2e-16\n",
       "bmi                                     3.275e+02  2.822e+01  11.603  < 2e-16\n",
       "Average.charge.among.smoking.or.not     1.010e+00  1.753e-02  57.591  < 2e-16\n",
       "The.average.charge.in.different.region -1.322e-01  1.739e-01  -0.760    0.447\n",
       "                                          \n",
       "(Intercept)                            ***\n",
       "age                                    ***\n",
       "bmi                                    ***\n",
       "Average.charge.among.smoking.or.not    ***\n",
       "The.average.charge.in.different.region    \n",
       "---\n",
       "Signif. codes:  0 '***' 0.001 '**' 0.01 '*' 0.05 '.' 0.1 ' ' 1\n",
       "\n",
       "Residual standard error: 6093 on 1333 degrees of freedom\n",
       "Multiple R-squared:  0.7476,\tAdjusted R-squared:  0.7468 \n",
       "F-statistic:   987 on 4 and 1333 DF,  p-value: < 2.2e-16\n"
      ]
     },
     "metadata": {},
     "output_type": "display_data"
    }
   ],
   "source": [
    "reg2 <- lm(charges ~ age + bmi + Average.charge.among.smoking.or.not + The.average.charge.in.different.region, data = data_2)\n",
    "summary(reg2)"
   ]
  },
  {
   "cell_type": "code",
   "execution_count": 34,
   "metadata": {},
   "outputs": [
    {
     "data": {
      "text/html": [
       "<table>\n",
       "<thead><tr><th scope=col>age</th><th scope=col>sex</th><th scope=col>bmi</th><th scope=col>children</th><th scope=col>smoker</th><th scope=col>region</th><th scope=col>charges</th><th scope=col>Evaluated.Charge</th><th scope=col>Average.charge.among.smoking.or.not</th><th scope=col>Identity</th><th scope=col>The.average.charge.in.different.region</th><th scope=col>The.average.charge.in.different.Identity</th></tr></thead>\n",
       "<tbody>\n",
       "\t<tr><td>19          </td><td>female      </td><td>27.900      </td><td>0           </td><td>yes         </td><td>southwest   </td><td>16884.924   </td><td>26085.750   </td><td>32050.232   </td><td>young people</td><td>12346.94    </td><td>10925.55    </td></tr>\n",
       "\t<tr><td>18          </td><td>male        </td><td>33.770      </td><td>1           </td><td>no          </td><td>southeast   </td><td> 1725.552   </td><td> 3891.446   </td><td> 8434.268   </td><td>young people</td><td>14735.41    </td><td>10925.55    </td></tr>\n",
       "\t<tr><td>28          </td><td>male        </td><td>33.000      </td><td>3           </td><td>no          </td><td>southeast   </td><td> 4449.462   </td><td> 6238.503   </td><td> 8434.268   </td><td>young people</td><td>14735.41    </td><td>10925.55    </td></tr>\n",
       "\t<tr><td>33          </td><td>male        </td><td>22.705      </td><td>0           </td><td>no          </td><td>northwest   </td><td>21984.471   </td><td> 4214.916   </td><td> 8434.268   </td><td>young people</td><td>12417.58    </td><td>10925.55    </td></tr>\n",
       "\t<tr><td>32          </td><td>male        </td><td>28.880      </td><td>0           </td><td>no          </td><td>northwest   </td><td> 3866.855   </td><td> 5947.517   </td><td> 8434.268   </td><td>young people</td><td>12417.58    </td><td>10925.55    </td></tr>\n",
       "\t<tr><td>31          </td><td>female      </td><td>25.740      </td><td>0           </td><td>no          </td><td>southeast   </td><td> 3756.622   </td><td> 4674.959   </td><td> 8434.268   </td><td>young people</td><td>14735.41    </td><td>10925.55    </td></tr>\n",
       "</tbody>\n",
       "</table>\n"
      ],
      "text/latex": [
       "\\begin{tabular}{r|llllllllllll}\n",
       " age & sex & bmi & children & smoker & region & charges & Evaluated.Charge & Average.charge.among.smoking.or.not & Identity & The.average.charge.in.different.region & The.average.charge.in.different.Identity\\\\\n",
       "\\hline\n",
       "\t 19           & female       & 27.900       & 0            & yes          & southwest    & 16884.924    & 26085.750    & 32050.232    & young people & 12346.94     & 10925.55    \\\\\n",
       "\t 18           & male         & 33.770       & 1            & no           & southeast    &  1725.552    &  3891.446    &  8434.268    & young people & 14735.41     & 10925.55    \\\\\n",
       "\t 28           & male         & 33.000       & 3            & no           & southeast    &  4449.462    &  6238.503    &  8434.268    & young people & 14735.41     & 10925.55    \\\\\n",
       "\t 33           & male         & 22.705       & 0            & no           & northwest    & 21984.471    &  4214.916    &  8434.268    & young people & 12417.58     & 10925.55    \\\\\n",
       "\t 32           & male         & 28.880       & 0            & no           & northwest    &  3866.855    &  5947.517    &  8434.268    & young people & 12417.58     & 10925.55    \\\\\n",
       "\t 31           & female       & 25.740       & 0            & no           & southeast    &  3756.622    &  4674.959    &  8434.268    & young people & 14735.41     & 10925.55    \\\\\n",
       "\\end{tabular}\n"
      ],
      "text/markdown": [
       "\n",
       "| age | sex | bmi | children | smoker | region | charges | Evaluated.Charge | Average.charge.among.smoking.or.not | Identity | The.average.charge.in.different.region | The.average.charge.in.different.Identity |\n",
       "|---|---|---|---|---|---|---|---|---|---|---|---|\n",
       "| 19           | female       | 27.900       | 0            | yes          | southwest    | 16884.924    | 26085.750    | 32050.232    | young people | 12346.94     | 10925.55     |\n",
       "| 18           | male         | 33.770       | 1            | no           | southeast    |  1725.552    |  3891.446    |  8434.268    | young people | 14735.41     | 10925.55     |\n",
       "| 28           | male         | 33.000       | 3            | no           | southeast    |  4449.462    |  6238.503    |  8434.268    | young people | 14735.41     | 10925.55     |\n",
       "| 33           | male         | 22.705       | 0            | no           | northwest    | 21984.471    |  4214.916    |  8434.268    | young people | 12417.58     | 10925.55     |\n",
       "| 32           | male         | 28.880       | 0            | no           | northwest    |  3866.855    |  5947.517    |  8434.268    | young people | 12417.58     | 10925.55     |\n",
       "| 31           | female       | 25.740       | 0            | no           | southeast    |  3756.622    |  4674.959    |  8434.268    | young people | 14735.41     | 10925.55     |\n",
       "\n"
      ],
      "text/plain": [
       "  age sex    bmi    children smoker region    charges   Evaluated.Charge\n",
       "1 19  female 27.900 0        yes    southwest 16884.924 26085.750       \n",
       "2 18  male   33.770 1        no     southeast  1725.552  3891.446       \n",
       "3 28  male   33.000 3        no     southeast  4449.462  6238.503       \n",
       "4 33  male   22.705 0        no     northwest 21984.471  4214.916       \n",
       "5 32  male   28.880 0        no     northwest  3866.855  5947.517       \n",
       "6 31  female 25.740 0        no     southeast  3756.622  4674.959       \n",
       "  Average.charge.among.smoking.or.not Identity    \n",
       "1 32050.232                           young people\n",
       "2  8434.268                           young people\n",
       "3  8434.268                           young people\n",
       "4  8434.268                           young people\n",
       "5  8434.268                           young people\n",
       "6  8434.268                           young people\n",
       "  The.average.charge.in.different.region\n",
       "1 12346.94                              \n",
       "2 14735.41                              \n",
       "3 14735.41                              \n",
       "4 12417.58                              \n",
       "5 12417.58                              \n",
       "6 14735.41                              \n",
       "  The.average.charge.in.different.Identity\n",
       "1 10925.55                                \n",
       "2 10925.55                                \n",
       "3 10925.55                                \n",
       "4 10925.55                                \n",
       "5 10925.55                                \n",
       "6 10925.55                                "
      ]
     },
     "metadata": {},
     "output_type": "display_data"
    }
   ],
   "source": [
    "j=1\n",
    "for (i in data_2$Evaluated.Charge){\n",
    "        data_2[j,8]<- -20185.285 + 259.547 * data_2$age[j] + 322.615 * data_2$bmi[j] + 1.009 * data_2$ Average.charge.among.smoking.or.not[j] \n",
    "        j=j+1\n",
    "\n",
    "}\n",
    "head(data_2)"
   ]
  },
  {
   "cell_type": "markdown",
   "metadata": {},
   "source": [
    "According to the two summaries, it is obvious that the first one has a better effect on prediction."
   ]
  },
  {
   "cell_type": "markdown",
   "metadata": {},
   "source": [
    "Y = -20185.285 + 259.547 * X1 + 322.615 * X2 + 1.009 * X3\n",
    "\n",
    "X1: age\n",
    "\n",
    "X2: bmi\n",
    "\n",
    "X3: Average.charge.among.smoking.or.not"
   ]
  },
  {
   "cell_type": "markdown",
   "metadata": {},
   "source": [
    "# Project Report\n",
    " <span id=\"jump15\">  </span>"
   ]
  },
  {
   "cell_type": "markdown",
   "metadata": {},
   "source": [
    "We found that data give us information first, young people are more than middle-age people. \n",
    "\n",
    "Second, we can know a different region of people average the southwest have more people. \n",
    "\n",
    "\n",
    "Third, made smoking or not smoking plot. \n",
    "\n",
    "\n",
    "Fourth, we made a plot to show the Age and Charge relationship. \n",
    "\n",
    "\n",
    "Fifth, we can add variables into the module to find which variable has potential value. Then we choose \"charges\" as the response variable. because the aim of our research is to predict personal insurance costs. I hope I can find the prediction according to one person's basic information like age, BMI, and other variables. \n",
    "\n",
    "Sixth, we got a simple Linear Regression and multiple regression.\n",
    "\n",
    "Seventh, above the data we found the three important variables is Age, BMI, and smoking, or not smoking.\n",
    " \n",
    "Finally, we found summary1 multiple regression is better. \n",
    "\n",
    "In summary1 multiple regression linear have included a smoking variable so we can know this problem is important not only young people but middle-age, we can make so advertisement to let people know smoking will lead to health problems.\n",
    "\n",
    "According to the multiple regression we can come to the conclusion that health insurance cost will be higher with the age increased. So do exercise, decrease bmi, and stop smoking is a better way to reduce one's health insurance cost."
   ]
  }
 ],
 "metadata": {
  "kernelspec": {
   "display_name": "R",
   "language": "R",
   "name": "ir"
  },
  "language_info": {
   "codemirror_mode": "r",
   "file_extension": ".r",
   "mimetype": "text/x-r-source",
   "name": "R",
   "pygments_lexer": "r",
   "version": "3.6.1"
  },
  "toc": {
   "base_numbering": 1,
   "nav_menu": {},
   "number_sections": true,
   "sideBar": true,
   "skip_h1_title": false,
   "title_cell": "Table of Contents",
   "title_sidebar": "Contents",
   "toc_cell": false,
   "toc_position": {
    "height": "calc(100% - 180px)",
    "left": "10px",
    "top": "150px",
    "width": "365.71px"
   },
   "toc_section_display": true,
   "toc_window_display": false
  }
 },
 "nbformat": 4,
 "nbformat_minor": 4
}
